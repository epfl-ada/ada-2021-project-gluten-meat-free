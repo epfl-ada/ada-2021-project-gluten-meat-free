{
  "nbformat": 4,
  "nbformat_minor": 0,
  "metadata": {
    "colab": {
      "name": "ADA Project notebook.ipynb",
      "provenance": [],
      "collapsed_sections": [
        "1LvPIZ1HIY0R",
        "Q0MtVCX7KF32",
        "GHWXvtKwcnVO",
        "T458n8A7KJcN",
        "yBnh0gSYZt_z",
        "DreuqKpymBWZ",
        "Yn9fPiykmtZL"
      ],
      "toc_visible": true
    },
    "kernelspec": {
      "name": "python3",
      "display_name": "Python 3"
    },
    "language_info": {
      "name": "python"
    }
  },
  "cells": [
    {
      "cell_type": "markdown",
      "metadata": {
        "id": "TP-4PLHMgewa"
      },
      "source": [
        "# This is a Man's word"
      ]
    },
    {
      "cell_type": "markdown",
      "metadata": {
        "id": "S07jAqp6KBtF"
      },
      "source": [
        "## Project setup"
      ]
    },
    {
      "cell_type": "markdown",
      "metadata": {
        "id": "oA_fe4oxWT6p"
      },
      "source": [
        "Mouting the Google Drive"
      ]
    },
    {
      "cell_type": "code",
      "metadata": {
        "id": "CEcIlRwfWY4C",
        "colab": {
          "base_uri": "https://localhost:8080/"
        },
        "outputId": "41249a6b-efc9-4373-a2e4-7a8a9aae0a5f"
      },
      "source": [
        "from google.colab import drive\n",
        "drive.mount('/content/drive')"
      ],
      "execution_count": 1,
      "outputs": [
        {
          "output_type": "stream",
          "name": "stdout",
          "text": [
            "Drive already mounted at /content/drive; to attempt to forcibly remount, call drive.mount(\"/content/drive\", force_remount=True).\n"
          ]
        }
      ]
    },
    {
      "cell_type": "markdown",
      "metadata": {
        "id": "K0Rm1O9hcRsD"
      },
      "source": [
        "### Installing dependencies"
      ]
    },
    {
      "cell_type": "code",
      "metadata": {
        "id": "H35l_730tOxM"
      },
      "source": [
        "# Toggle in order to install dependencies as you run the notebook\n",
        "INSTALL_DEPS = False\n",
        "\n",
        "if INSTALL_DEPS:\n",
        "  !pip install nltk gensim spacy\n",
        "  !pip install empath\n",
        "  !python -m spacy download en\n",
        "  !python -m nltk.downloader punkt\n",
        "  !python -m nltk.downloader all-corpora\n",
        "  !pip install fastparquet\n",
        "  !pip install toolz "
      ],
      "execution_count": 2,
      "outputs": []
    },
    {
      "cell_type": "code",
      "metadata": {
        "id": "hyULyh3PPOa8"
      },
      "source": [
        "if INSTALL_DEPS:\n",
        "  !pip install pyLDAvis\n",
        "  !pip install \"openpyxl>=3.0\""
      ],
      "execution_count": 3,
      "outputs": []
    },
    {
      "cell_type": "markdown",
      "metadata": {
        "id": "n_sHJwofIFTy"
      },
      "source": [
        "### Importing libraries"
      ]
    },
    {
      "cell_type": "code",
      "metadata": {
        "id": "oiBmOyW90e-0"
      },
      "source": [
        "import pandas as pd\n",
        "import bz2\n",
        "import json\n",
        "import string\n",
        "import re\n",
        "import matplotlib.pyplot as plt\n",
        "import requests\n",
        "import nltk\n",
        "import gc\n",
        "\n",
        "import spacy, nltk, gensim, sklearn\n",
        "import pyLDAvis.gensim_models\n",
        "\n",
        "from nltk.corpus import stopwords\n",
        "from nltk.stem.porter import PorterStemmer\n",
        "from nltk.tokenize import RegexpTokenizer\n",
        "from nltk.stem.wordnet import WordNetLemmatizer\n",
        "from collections import Counter\n",
        "from collections import defaultdict\n",
        "from functools import partial\n",
        "from toolz import compose\n",
        "from itertools import product\n",
        "\n",
        "from gensim.models.coherencemodel import CoherenceModel\n",
        "from gensim.corpora import Dictionary\n",
        "from gensim.models import LdaMulticore"
      ],
      "execution_count": 63,
      "outputs": []
    },
    {
      "cell_type": "code",
      "metadata": {
        "id": "_cLKu1d5XVCr"
      },
      "source": [
        "if INSTALL_DEPS:\n",
        "  nltk.download('punkt')\n",
        "  nltk.download('wordnet')\n",
        "  nltk.download('stopwords')"
      ],
      "execution_count": 5,
      "outputs": []
    },
    {
      "cell_type": "markdown",
      "metadata": {
        "id": "CM2arR3CCoY8"
      },
      "source": [
        "We disable the warnings - in general it's a bad practice and should be avoided in any longer-maintained project. Nonetheless, while training the model we get a warning about a deprecated function in one of the dependencies - it's prints the message thousands of times and thus slows down the training phase and affects readability."
      ]
    },
    {
      "cell_type": "code",
      "metadata": {
        "id": "QhdFXXjvq2mo"
      },
      "source": [
        "import warnings\n",
        "warnings.filterwarnings('ignore')\n",
        "warnings.simplefilter('ignore')"
      ],
      "execution_count": 6,
      "outputs": []
    },
    {
      "cell_type": "markdown",
      "metadata": {
        "id": "1LvPIZ1HIY0R"
      },
      "source": [
        "### Loading dataset"
      ]
    },
    {
      "cell_type": "code",
      "metadata": {
        "id": "uQ_3q79pIW1h"
      },
      "source": [
        "def get_path_to_file(year):\n",
        "  return f'/content/drive/MyDrive/Quotebank/quotes-{year}.json.bz2'\n",
        "\n",
        "def load_speaker_attrs():\n",
        "  return pd.read_parquet(\"/content/drive/MyDrive/Project datasets/speaker_attributes.parquet\")\n",
        "\n",
        "def load_attrs_labels():\n",
        "  return pd.read_csv('/content/drive/MyDrive/Project datasets/wikidata_labels_descriptions_quotebank.csv.bz2', compression='bz2', index_col='QID')\n",
        "\n",
        "def get_wikidata_uri(q):\n",
        "  return f\"https://www.wikidata.org/w/api.php?action=wbgetentities&ids={q}&languages=en&format=json\""
      ],
      "execution_count": 26,
      "outputs": []
    },
    {
      "cell_type": "markdown",
      "metadata": {
        "id": "Q0MtVCX7KF32"
      },
      "source": [
        "## Processing speaker attributes"
      ]
    },
    {
      "cell_type": "markdown",
      "metadata": {
        "id": "GHWXvtKwcnVO"
      },
      "source": [
        "### Resolving Q-codes\n"
      ]
    },
    {
      "cell_type": "markdown",
      "metadata": {
        "id": "5jklN63nJlJ-"
      },
      "source": [
        "The functions below were written by us before receiving the additional dataset containing label and description for QIDs. Right now this code is obsolete, but we leave it for a reference. Our approach was to query WikiData API for all of the occuring Q-codes, and interpolated the Q-codes with fetched labels."
      ]
    },
    {
      "cell_type": "code",
      "metadata": {
        "id": "J8nXHk-dt1kb"
      },
      "source": [
        "def query_wikidata_label(Q):\n",
        "  \"\"\"Resolve what is the label of a given Q-code.\"\"\"\n",
        "  data = requests.get(get_wikidata_uri(Q)).json()\n",
        "  try:\n",
        "    return data['entities'][Q]['labels']['en']['value']\n",
        "  except KeyError:\n",
        "    return ''\n",
        "\n",
        "\n",
        "def extract_q_codes_labels(s, count = 200):\n",
        "  \"\"\" Extracts country labels for most common countries.\"\"\"\n",
        "  countries_codes = list(set(s.explode()))\n",
        "  common_countries_codes = [x for x, _ in Counter(countries_codes).most_common(count)]\n",
        "\n",
        "  countries_labels = {}\n",
        "\n",
        "  for code in common_countries_codes:\n",
        "    try:\n",
        "      countries_labels[code] = query_wikidata_label(code)\n",
        "    except:\n",
        "      print(f'Error, could not resolve code {code}')\n",
        "  return countries_labels\n",
        "\n",
        "\n",
        "def interpolate_q_codes_labels(s):\n",
        "  \"\"\"Given a series s with Q-codes, fetches representation of a Q-code (label)\n",
        "  from wikidata and interpolates the values.\"\"\"\n",
        "  labels = extract_q_codes_labels(s)\n",
        "  return s.apply(lambda codes: [labels.get(code, '') for code in codes] if codes is not None else None)\n",
        "\n",
        "\n",
        "def resolve_q_codes(df, columns):\n",
        "  \"\"\"Interpolates q-codes in dataframe for specified columns.\"\"\"\n",
        "  for col in columns:\n",
        "    df[col] = interpolate_q_codes_labels(df[col])"
      ],
      "execution_count": 27,
      "outputs": []
    },
    {
      "cell_type": "markdown",
      "metadata": {
        "id": "4h_JMH5yKwLy"
      },
      "source": [
        "And here is the actually used interface after receiving the speakers attribute data.\n"
      ]
    },
    {
      "cell_type": "code",
      "metadata": {
        "id": "QdORt-RsBBop"
      },
      "source": [
        "def resolve_q_code(labels, q):\n",
        "  '''Returns label of the QCODE if found.'''\n",
        "  try:\n",
        "    return labels.loc[q]['Label']\n",
        "  except KeyError:\n",
        "    return None\n",
        "\n",
        "def untangle_codes(codes):\n",
        "  discard_none = lambda xs: filter(lambda x: x is not None, xs)\n",
        "  resolve_code = partial(resolve_q_code, labels)\n",
        "  return compose(\n",
        "    list,\n",
        "    discard_none,\n",
        "    partial(map, resolve_code)\n",
        "  )(codes)\n",
        "\n",
        "def interpolate_q_codes_new_way(df, labels, columns):\n",
        "  '''Adds labeled features to the df.'''\n",
        "  for col in columns:\n",
        "    df[col] = df[col].apply(lambda codes: untangle_codes(codes, labels) if codes is not None else None)"
      ],
      "execution_count": 28,
      "outputs": []
    },
    {
      "cell_type": "markdown",
      "metadata": {
        "id": "w6l6Wq1PF4H0"
      },
      "source": [
        "We want to associate the quote's speaker with an entry in speaker attributes dataframe. However, as in the Quotebank aliases might have been used, we construct an **Alias Name -> Index in Speaker attrs** mapping.\n",
        "\n",
        "This mapping is then left-joined with quote's speaker and with speaker attrs so that we can have full speaker metadata for a quote."
      ]
    },
    {
      "cell_type": "code",
      "metadata": {
        "id": "i0OZVc3bKjWe"
      },
      "source": [
        "def construct_speaker_names(speaker_attrs):\n",
        "  \"\"\"Associates the speaker attributes index with all speaker aliases\"\"\"\n",
        "  \n",
        "  speaker_names = speaker_attrs.aliases.explode().append(speaker_attrs.label)\n",
        "  speaker_names = speaker_names.drop(speaker_names[speaker_names.isna()].index)\n",
        "\n",
        "  speaker_names_df = pd.DataFrame({\"speaker\": speaker_names, \"speaker_attr_idx\": speaker_names.index})\n",
        "  speaker_names_df = speaker_names_df.set_index('speaker')\n",
        "  return speaker_names_df\n",
        "\n",
        "\n",
        "def clean_speaker_attrs(speaker_attrs):\n",
        "  return speaker_attrs[['nationality', 'gender', 'occupation', 'label']].copy()"
      ],
      "execution_count": 29,
      "outputs": []
    },
    {
      "cell_type": "code",
      "metadata": {
        "id": "fKwaPLfPEy-n"
      },
      "source": [
        "# If more columns with q-codes need to be resolved they should be added here\n",
        "Q_CODES_COLUMNS = ['nationality', 'occupation', 'gender']\n",
        "\n",
        "\n",
        "def process_speaker_attrs():\n",
        "  speaker_attrs = load_speaker_attrs()\n",
        "  attrs_labels = load_attrs_labels()\n",
        "\n",
        "  interpolate_q_codes_new_way(speaker_attrs, attrs_labels, Q_CODES_COLUMNS)\n",
        "  speaker_names_df = construct_speaker_names(speaker_attrs)\n",
        "  trimmed_speaker_attrs = clean_speaker_attrs(speaker_attrs)\n",
        "\n",
        "  return trimmed_speaker_attrs, speaker_names_df"
      ],
      "execution_count": 30,
      "outputs": []
    },
    {
      "cell_type": "markdown",
      "metadata": {
        "id": "wirz89QTHuCJ"
      },
      "source": [
        "**Run speaker attributes processing**\n",
        "\n",
        "Processing speaker attrs due to its size takes time - we have run\n",
        "it once and saved the results to pickle so that it can be loaded fast\n"
      ]
    },
    {
      "cell_type": "code",
      "metadata": {
        "id": "a5esDl0dHBwa"
      },
      "source": [
        "# Toggle to 1 if you want to re-proces attrs (most likley you don't want to)\n",
        "REPROCESS_SPEAKER_ATTRS = False\n",
        "\n",
        "if REPROCESS_SPEAKER_ATTRS:\n",
        "  speaker_attrs, speaker_names = process_speaker_attrs()\n",
        "  speaker_attrs.to_pickle(\"/content/drive/MyDrive/ADA/speaker_attrs__no_aliases.pkl\")\n",
        "  speaker_names_df.to_pickle(\"/content/drive/MyDrive/ADA/speaker_names_df.pkl\")"
      ],
      "execution_count": 31,
      "outputs": []
    },
    {
      "cell_type": "markdown",
      "metadata": {
        "id": "Z__OrCXDH2ot"
      },
      "source": [
        "**Load cached processed speaker attributes**"
      ]
    },
    {
      "cell_type": "code",
      "metadata": {
        "id": "KLaVujdKH3-s"
      },
      "source": [
        "# Toggle to 1 if you need speaker attributes in your further processing\n",
        "# Note that later we merge it with quotes dataset so most likley it's not necessary\n",
        "LOAD_SPEAKER_ATTRS = False\n",
        "\n",
        "if LOAD_SPEAKER_ATTRS:\n",
        "  speaker_attrs = pd.read_pickle(\"/content/drive/MyDrive/ADA/speaker_attrs__no_aliases.pkl\")\n",
        "  speaker_names_df = pd.read_pickle(\"/content/drive/MyDrive/ADA/speaker_names_df.pkl\")"
      ],
      "execution_count": 32,
      "outputs": []
    },
    {
      "cell_type": "markdown",
      "metadata": {
        "id": "T458n8A7KJcN"
      },
      "source": [
        "## Loading Human Development Index"
      ]
    },
    {
      "cell_type": "markdown",
      "metadata": {
        "id": "WnmLwB_hHyFl"
      },
      "source": [
        "We download now the Human Development Index dataset (HDI). The first nationality mentioned in the dataset for a given speaker is the one that we will match with the corresponding HDI score. HDI is represented as a number from 0 to 1, but we narrow down ourselves to four categories of developemnt:\n",
        "\n",
        "1. Very High\n",
        "1. High\n",
        "1. Medium\n",
        "1. Low\n",
        "\n",
        "with ranges defined by United Nations."
      ]
    },
    {
      "cell_type": "code",
      "metadata": {
        "id": "w1u2MehgIZQA"
      },
      "source": [
        "def load_HDI():\n",
        "  return pd.read_excel('/content/drive/MyDrive/ADA/HDI_list.xlsx')\n",
        "\n",
        "\n",
        "def merge_HDI_with_chunk(chunk_df):\n",
        "  '''Merges HDI score with speaker's first nationality'''\n",
        "\n",
        "  chunk_df['N'] = [next(iter(nationality), ' ') for nationality in chunk_df['nationality']]\n",
        "  chunk_df = pd.merge(chunk_df, HDI, on='N') \n",
        "  return chunk_df\n",
        "\n",
        "\n",
        "def merge_speaker_attrs_with_chunk(chunk_df):\n",
        "  '''Merges speakers attributes data based on speaker column'''  \n",
        "  chunk_df = chunk_df.join(speaker_names_df, on='speaker')\n",
        "\n",
        "  # discard quotes for which the speaker could not be found\n",
        "  chunk_df = chunk_df.drop(chunk_df[chunk_df.speaker_attr_idx.isna()].index)\n",
        "  return chunk_df.join(speaker_attrs, on='speaker_attr_idx')"
      ],
      "execution_count": 33,
      "outputs": []
    },
    {
      "cell_type": "markdown",
      "metadata": {
        "id": "WUTlKo_DKQNb"
      },
      "source": [
        ""
      ]
    },
    {
      "cell_type": "markdown",
      "metadata": {
        "id": "4_qaqrUtKQXv"
      },
      "source": [
        "## Data cleaning"
      ]
    },
    {
      "cell_type": "markdown",
      "metadata": {
        "id": "VZdiW4UBOSzs"
      },
      "source": [
        "The next step is the data cleaning: we discard from the dataset those quotes with missing attributed speaker, gender, nationality or occupation. \n"
      ]
    },
    {
      "cell_type": "code",
      "metadata": {
        "id": "vbf2efLcD9KX"
      },
      "source": [
        "def discard_na(df, col):\n",
        "  '''Drops rows with col value equal to None.'''\n",
        "  df[col].replace('None', pd.NA, inplace=True)\n",
        "  df.drop(df[df[col].isna() == True].index, inplace=True)\n",
        "\n",
        "def clean_speaker(chunk_df):\n",
        "  discard_na(chunk_df, 'speaker')\n",
        "  return chunk_df\n",
        "\n",
        "def clean_gender(chunk_df):\n",
        "  '''Drops rows with missing gender.'''\n",
        "  clean = lambda x: x[0] if x is not None and x[0] in [\"male\", \"female\"] else None\n",
        "  chunk_df['gender'] = chunk_df['gender'].apply(clean)\n",
        "  discard_na(chunk_df, 'gender')\n",
        "  return chunk_df\n",
        "\n",
        "def clean_occupation(chunk_df):\n",
        "  '''Drops rows with missing occupation.'''\n",
        "  discard_na(chunk_df, 'occupation')\n",
        "  return chunk_df\n",
        "\n",
        "def clean_nationality(chunk_df):\n",
        "  '''Drops rows with missing nationality.'''\n",
        "  discard_na(chunk_df, 'nationality')\n",
        "  return chunk_df"
      ],
      "execution_count": 34,
      "outputs": []
    },
    {
      "cell_type": "markdown",
      "metadata": {
        "id": "JSLfaW1kMrHN"
      },
      "source": [
        "Now we take care of the content of the quotes: the quotes of a chunk are cleaned and tokenized to obtain single words. All of these, excluding the stopwords, are lemmatized and saved as keywords. Lemmatization consists of grouping together the inflected forms of a word so that they can be analyzed as a single item.\n"
      ]
    },
    {
      "cell_type": "code",
      "metadata": {
        "id": "GXuobWlIM4qK"
      },
      "source": [
        "ps = PorterStemmer()\n",
        "lem = WordNetLemmatizer()\n",
        "\n",
        "\n",
        "def normalize_quote(s:str) -> str:\n",
        "    \"\"\"\n",
        "    Lower text, remove punctuation and extra whitespace.\n",
        "    \"\"\"\n",
        "    \n",
        "    def white_space_fix(text):\n",
        "        return ' '.join(text.split())\n",
        "\n",
        "    def remove_punc(text):\n",
        "        exclude = set(string.punctuation)\n",
        "        return ''.join(ch for ch in text if ch not in exclude)\n",
        "\n",
        "    def lower(text):\n",
        "        return text.lower()\n",
        "    \n",
        "    return white_space_fix(remove_punc(lower(s)))\n",
        "\n",
        "\n",
        "def extract_keywords(text):\n",
        "  \"\"\"\n",
        "  - Tokenize text\n",
        "  - Excluded stop words\n",
        "  - Lemmatized resulting keywords\n",
        "  \"\"\"\n",
        "\n",
        "  stopwords = nltk.corpus.stopwords.words('english')\n",
        "  allWords = nltk.tokenize.word_tokenize(text)\n",
        "\n",
        "  allWords = [\n",
        "    lem.lemmatize(word)\n",
        "    for word in allWords\n",
        "    if word not in stopwords and len(lem.lemmatize(word)) > 2\n",
        "  ]\n",
        "  return allWords"
      ],
      "execution_count": 35,
      "outputs": []
    },
    {
      "cell_type": "markdown",
      "metadata": {
        "id": "BC0l-MOGNs1l"
      },
      "source": [
        "Then, we are interested in calculating the frequency of appearance of the keywords extracted from a chunk, and of the speakers' nationalities and occupations. "
      ]
    },
    {
      "cell_type": "code",
      "metadata": {
        "id": "Q1c_tdT0Mywx"
      },
      "source": [
        "def keywords_freq_distribution(chunk_df):\n",
        "  combined_quotations = \" \".join(entry for entry in chunk_df.quotation)\n",
        "  keywords = extract_keywords(normalize_quote(combined_quotations))\n",
        "  fd = nltk.FreqDist(keywords)\n",
        "  return fd\n",
        "\n",
        "\n",
        "def countries_distribution(chunk_df):\n",
        "  countries = list(chunk_df.nationality.explode())\n",
        "  return Counter(countries)\n",
        "\n",
        "\n",
        "def occupations_distrubtion(chunk_df):\n",
        "  occupations = list(chunk_df.occupation.explode())\n",
        "  return Counter(occupations)\n",
        "\n",
        "\n",
        "def split_into_keywords(chunk_df):\n",
        "  return chunk_df.quotation.apply(lambda x: extract_keywords(normalize_quote(x)))"
      ],
      "execution_count": 36,
      "outputs": []
    },
    {
      "cell_type": "markdown",
      "metadata": {
        "id": "EOayJbshjbnv"
      },
      "source": [
        "### Preprocessing chunks"
      ]
    },
    {
      "cell_type": "markdown",
      "metadata": {
        "id": "UxS_xgd0T4YC"
      },
      "source": [
        "All the previous preprocessing and cleaning operations are called into the following function to process each chunk.\n"
      ]
    },
    {
      "cell_type": "code",
      "metadata": {
        "id": "IUeMCV5HT1Ux"
      },
      "source": [
        "COLUMNS_OF_INTEREST = [\n",
        "  'numOccurrences', 'gender', 'occupation',\n",
        "  'nationality', 'HDI rank', 'Development', 'keywords'\n",
        "]\n",
        "\n",
        "def preprocess_chunk(chunk_df):\n",
        "  '''\n",
        "  Apply basic preprocessing and data cleaning to a chunk\n",
        "  - Merge the chunk with the speaker attributes and HDI indexes\n",
        "  - Remove rows with missing speakers, nationalities, genders and occupations\n",
        "  - Process features in a format more appropriate for our use case\n",
        "  '''\n",
        "  chunk_df = compose(\n",
        "    merge_HDI_with_chunk,\n",
        "    clean_occupation,\n",
        "    clean_gender,\n",
        "    clean_nationality,\n",
        "    merge_speaker_attrs_with_chunk,\n",
        "    clean_speaker,\n",
        "  )(chunk_df)\n",
        "\n",
        "  chunk_df['keywords'] = split_into_keywords(chunk_df)\n",
        "  chunk_df.rename({\"N\": \"nationality\"}, inplace=True)\n",
        "  chunk_df = chunk_df[COLUMNS_OF_INTEREST]\n",
        "  return chunk_df"
      ],
      "execution_count": 37,
      "outputs": []
    },
    {
      "cell_type": "markdown",
      "metadata": {
        "id": "UTwtGLIjPM_N"
      },
      "source": [
        "We extract a given number of chunks of specified size from the Quotebank file corresponding to a certain year. Then we process the chunk and calculate the distributions."
      ]
    },
    {
      "cell_type": "code",
      "metadata": {
        "id": "rUbJJjfL-y1v"
      },
      "source": [
        "from datetime import datetime\n",
        "\n",
        "\n",
        "def iterate_chunks(year, chunk_size, num_of_chunks):\n",
        "  '''Extracts a number of chunks from the file corresponding to the specified year.'''\n",
        "\n",
        "  with bz2.open(get_path_to_file(year), 'rb') as file:\n",
        "    lines = []\n",
        "\n",
        "    for i, line in enumerate(file):\n",
        "      lines.append(json.loads(line))\n",
        "\n",
        "      if i % chunk_size == 0 and i != 0:\n",
        "        yield pd.DataFrame(lines)\n",
        "        del lines[:]\n",
        "        lines = []\n",
        "\n",
        "        if i / chunk_size == num_of_chunks:\n",
        "           return\n",
        "\n",
        "    yield pd.DataFrame(lines)\n",
        "    del lines[:]\n",
        "\n",
        "\n",
        "def preprocess_chunks_in_year(year, chunk_size = 100_000, num_of_chunks=10):\n",
        "  for i, chunk_df in enumerate(iterate_chunks(year, chunk_size, num_of_chunks)):\n",
        "      print(f\"[{datetime.now()}] Pre-processing chunk {i+1} out of {num_of_chunks}\")\n",
        "\n",
        "      processed_chunk_df = preprocess_chunk(chunk_df, aggregation)\n",
        "      yield processed_chunk_df\n",
        "      gc.collect()\n",
        "\n",
        "\n",
        "def preprocess_and_cache_chunks(year):\n",
        "  \"\"\"\n",
        "  Run preprocessing and cache intermediate results in the pickle format\n",
        "  \"\"\"\n",
        "  for i, processed_chunk in enumerate(run_chunks_year(year, chunk_size=1_000_000, num_of_chunks=40)):\n",
        "    processed_chunk.to_pickle(f'/content/drive/MyDrive/ADA/chunk_{year}_{i}.pkl')\n",
        "  return i\n",
        "\n",
        "\n",
        "def concatenate_preprocessed_chunks(year, chunks=6):\n",
        "  chunks = [pd.read_pickle(f'/content/drive/MyDrive/ADA/chunk_{year}_{i}.pkl') for i in range(chunks)]\n",
        "  df = pd.concat(chunks)\n",
        "  df.to_pickle(f'/content/drive/MyDrive/ADA/preprocessed_quotes_{year}.pkl')\n",
        "\n",
        "\n",
        "def read_preprocessed_from_year(year):\n",
        "  return pd.read_pickle(f'/content/drive/MyDrive/ADA/preprocessed_quotes_{year}.pkl')"
      ],
      "execution_count": 8,
      "outputs": []
    },
    {
      "cell_type": "code",
      "metadata": {
        "id": "vSt6BG3ISDHq"
      },
      "source": [
        "# As an example, we take a chunk and process it.\n",
        "# It only makes sense if we have previously loaded speaker attrs\n",
        "\n",
        "if LOAD_SPEAKER_ATTRS:\n",
        "  chunk_df = next(iterate_chunks(2020, 100_000, 3))"
      ],
      "execution_count": null,
      "outputs": []
    },
    {
      "cell_type": "code",
      "metadata": {
        "id": "IZF119vQSfcE"
      },
      "source": [
        "if LOAD_SPEAKER_ATTRS:\n",
        "  processed_chunk_df = preprocess_chunk(chunk_df)\n",
        "  processed_chunk_df"
      ],
      "execution_count": 40,
      "outputs": []
    },
    {
      "cell_type": "markdown",
      "metadata": {
        "id": "Ax7Ptzc8bvGJ"
      },
      "source": [
        "**Running pre-processing**"
      ]
    },
    {
      "cell_type": "code",
      "metadata": {
        "id": "1zxNMlRn1aIA"
      },
      "source": [
        "YEAR = 2020\n",
        "PREPROCESS_YEAR = False\n",
        "\n",
        "if PREPROCESS_YEAR:\n",
        "  chunks_count = preprocess_and_cache_chunks()\n",
        "  gc.collect()\n",
        "  concatenate_preprocessed_chunks(year, chunks_count)"
      ],
      "execution_count": 10,
      "outputs": []
    },
    {
      "cell_type": "code",
      "metadata": {
        "id": "xTi-nc-VxfpH",
        "colab": {
          "base_uri": "https://localhost:8080/",
          "height": 615
        },
        "outputId": "3d3777f2-e2a5-4644-c880-e7dd668fca5c"
      },
      "source": [
        "df = read_preprocessed_from_year(YEAR)\n",
        "df"
      ],
      "execution_count": 11,
      "outputs": [
        {
          "output_type": "execute_result",
          "data": {
            "text/html": [
              "<div>\n",
              "<style scoped>\n",
              "    .dataframe tbody tr th:only-of-type {\n",
              "        vertical-align: middle;\n",
              "    }\n",
              "\n",
              "    .dataframe tbody tr th {\n",
              "        vertical-align: top;\n",
              "    }\n",
              "\n",
              "    .dataframe thead th {\n",
              "        text-align: right;\n",
              "    }\n",
              "</style>\n",
              "<table border=\"1\" class=\"dataframe\">\n",
              "  <thead>\n",
              "    <tr style=\"text-align: right;\">\n",
              "      <th></th>\n",
              "      <th>index</th>\n",
              "      <th>numOccurrences</th>\n",
              "      <th>gender</th>\n",
              "      <th>occupation</th>\n",
              "      <th>nationality</th>\n",
              "      <th>HDI rank</th>\n",
              "      <th>Development</th>\n",
              "      <th>keywords</th>\n",
              "    </tr>\n",
              "  </thead>\n",
              "  <tbody>\n",
              "    <tr>\n",
              "      <th>0</th>\n",
              "      <td>0</td>\n",
              "      <td>1</td>\n",
              "      <td>male</td>\n",
              "      <td>[architect, urban planner]</td>\n",
              "      <td>[Luxembourg]</td>\n",
              "      <td>23</td>\n",
              "      <td>Very High</td>\n",
              "      <td>[city, accident, result, coherent, vision, aim]</td>\n",
              "    </tr>\n",
              "    <tr>\n",
              "      <th>1</th>\n",
              "      <td>1</td>\n",
              "      <td>3</td>\n",
              "      <td>male</td>\n",
              "      <td>[volleyball player]</td>\n",
              "      <td>[Luxembourg]</td>\n",
              "      <td>23</td>\n",
              "      <td>Very High</td>\n",
              "      <td>[theyre, biggest, supporter, always, justifica...</td>\n",
              "    </tr>\n",
              "    <tr>\n",
              "      <th>2</th>\n",
              "      <td>2</td>\n",
              "      <td>1</td>\n",
              "      <td>male</td>\n",
              "      <td>[gymnast]</td>\n",
              "      <td>[Luxembourg]</td>\n",
              "      <td>23</td>\n",
              "      <td>Very High</td>\n",
              "      <td>[anzac, day, traditional, day, recognise, seri...</td>\n",
              "    </tr>\n",
              "    <tr>\n",
              "      <th>3</th>\n",
              "      <td>3</td>\n",
              "      <td>1</td>\n",
              "      <td>male</td>\n",
              "      <td>[handball player]</td>\n",
              "      <td>[Luxembourg]</td>\n",
              "      <td>23</td>\n",
              "      <td>Very High</td>\n",
              "      <td>[anzac, day, traditional, day, recognise, seri...</td>\n",
              "    </tr>\n",
              "    <tr>\n",
              "      <th>4</th>\n",
              "      <td>4</td>\n",
              "      <td>3</td>\n",
              "      <td>male</td>\n",
              "      <td>[basketball player]</td>\n",
              "      <td>[Luxembourg, United States of America]</td>\n",
              "      <td>23</td>\n",
              "      <td>Very High</td>\n",
              "      <td>[protect, whats, stand, believe, always, faith...</td>\n",
              "    </tr>\n",
              "    <tr>\n",
              "      <th>...</th>\n",
              "      <td>...</td>\n",
              "      <td>...</td>\n",
              "      <td>...</td>\n",
              "      <td>...</td>\n",
              "      <td>...</td>\n",
              "      <td>...</td>\n",
              "      <td>...</td>\n",
              "      <td>...</td>\n",
              "    </tr>\n",
              "    <tr>\n",
              "      <th>657236</th>\n",
              "      <td>30438</td>\n",
              "      <td>1</td>\n",
              "      <td>male</td>\n",
              "      <td>[sport cyclist]</td>\n",
              "      <td>[Eritrea, Kingdom of the Netherlands]</td>\n",
              "      <td>180</td>\n",
              "      <td>Low</td>\n",
              "      <td>[mostly, responding, imitating, tolkien, showi...</td>\n",
              "    </tr>\n",
              "    <tr>\n",
              "      <th>657237</th>\n",
              "      <td>30439</td>\n",
              "      <td>1</td>\n",
              "      <td>male</td>\n",
              "      <td>[sport cyclist]</td>\n",
              "      <td>[Eritrea, Kingdom of the Netherlands]</td>\n",
              "      <td>180</td>\n",
              "      <td>Low</td>\n",
              "      <td>[predict, small, amount, time, new, technology...</td>\n",
              "    </tr>\n",
              "    <tr>\n",
              "      <th>657238</th>\n",
              "      <td>30440</td>\n",
              "      <td>1</td>\n",
              "      <td>male</td>\n",
              "      <td>[artist, poet, painter]</td>\n",
              "      <td>[Suriname]</td>\n",
              "      <td>97</td>\n",
              "      <td>High</td>\n",
              "      <td>[motto, keep, prestige, keep, customer]</td>\n",
              "    </tr>\n",
              "    <tr>\n",
              "      <th>657239</th>\n",
              "      <td>30441</td>\n",
              "      <td>1</td>\n",
              "      <td>male</td>\n",
              "      <td>[writer, university teacher]</td>\n",
              "      <td>[Gabon]</td>\n",
              "      <td>119</td>\n",
              "      <td>High</td>\n",
              "      <td>[think, got, access, flight, area, climbing, w...</td>\n",
              "    </tr>\n",
              "    <tr>\n",
              "      <th>657240</th>\n",
              "      <td>30442</td>\n",
              "      <td>1</td>\n",
              "      <td>male</td>\n",
              "      <td>[politician, writer, military officer]</td>\n",
              "      <td>[Libya]</td>\n",
              "      <td>105</td>\n",
              "      <td>High</td>\n",
              "      <td>[brother, guide, revolution]</td>\n",
              "    </tr>\n",
              "  </tbody>\n",
              "</table>\n",
              "<p>657241 rows × 8 columns</p>\n",
              "</div>"
            ],
            "text/plain": [
              "        index  ...                                           keywords\n",
              "0           0  ...    [city, accident, result, coherent, vision, aim]\n",
              "1           1  ...  [theyre, biggest, supporter, always, justifica...\n",
              "2           2  ...  [anzac, day, traditional, day, recognise, seri...\n",
              "3           3  ...  [anzac, day, traditional, day, recognise, seri...\n",
              "4           4  ...  [protect, whats, stand, believe, always, faith...\n",
              "...       ...  ...                                                ...\n",
              "657236  30438  ...  [mostly, responding, imitating, tolkien, showi...\n",
              "657237  30439  ...  [predict, small, amount, time, new, technology...\n",
              "657238  30440  ...            [motto, keep, prestige, keep, customer]\n",
              "657239  30441  ...  [think, got, access, flight, area, climbing, w...\n",
              "657240  30442  ...                       [brother, guide, revolution]\n",
              "\n",
              "[657241 rows x 8 columns]"
            ]
          },
          "metadata": {},
          "execution_count": 11
        }
      ]
    },
    {
      "cell_type": "markdown",
      "metadata": {
        "id": "anM_aK8Ll59d"
      },
      "source": [
        "## Topic Detection"
      ]
    },
    {
      "cell_type": "markdown",
      "metadata": {
        "id": "oyOVuQUXxNe9"
      },
      "source": [
        "### Preprocessing"
      ]
    },
    {
      "cell_type": "markdown",
      "metadata": {
        "id": "soMG-MrUra-V"
      },
      "source": [
        "We discard the most commonly occuring keywords which do not contribute towards better topic detection"
      ]
    },
    {
      "cell_type": "code",
      "metadata": {
        "id": "NNbmEPq_sAC7"
      },
      "source": [
        "IGNORED_KEYWORDS_FOR_TOPICS = ['people', 'time', 'like', 'one', 'get', 'think', 'going', 'would', 'want', 'dont', 'year', 'need', 'know', 'really', 'good', 'thing', 'make', 'well', 'way', 'see', 'day', 'work', 'thats', 'lot', 'come', 'got', 'game', 'back', 'right', 'take', 'also', 'new', 'many', 'first', 'much', 'great', 'could', 'say', 'every', 'always', 'best', 'look', 'even', 'something', 'last', 'two', 'ive', 'still', 'important', 'keep', 'put', 'part', 'today', 'made', 'give', 'there', 'around', 'said', 'week', 'together', 'big', 'place', 'didnt', 'done', 'able', 'cant', 'working', 'sure', 'different', 'next', 'everyone', 'bit', 'change', 'little', 'end', 'youre', 'must', 'continue', 'long' , 'hard', 'everything', 'let', 'may', 'situation', 'point', 'getting', 'coming', 'theyre', 'three', 'thought', 'forward', 'kind', 'moment', 'away', 'looking', 'trying', 'stay', 'try', 'month', 'another', 'possible', 'believe', 'without', 'making', 'wanted', 'came', 'difficult', 'find', 'doesnt', 'anything', 'use', 'ever', 'person', 'problem', 'child', 'already', 'across', 'since', 'real', 'challenge', 'ensure', 'step', 'plan', 'might', 'experience', 'enough', 'seen', 'someone', 'actually', 'probably', 'far', 'tell', 'hand', 'matter', 'happen', 'whole', 'understand', 'quite', 'used', 'chance', 'clear', 'went', 'talk', 'bring', 'taking', 'whether', 'result', 'taken', 'given', 'started', 'open', 'obviously', 'feel', 'better', 'never', 'weve', 'show', 'guy', 'happy', 'start', 'decision', 'mean', 'young', 'strong', 'nothing', 'run', 'high', 'fact', 'become', 'four', 'wasnt', 'move', 'five', 'maybe', 'told', 'ready', 'happened', 'left', 'tough', 'saying', 'especially', 'knew', 'thank', 'took', 'anyone', 'huge', 'wont', 'yet', 'within', 'else', 'saw', 'sometimes', 'definitely', 'needed', 'name', 'talking', 'playing', 'play', 'played', 'pretty', 'second', 'group', 'call', 'question', 'reason', 'bad', 'amazing', 'nice', 'easy', 'including', 'shes', 'youve', 'havent', 'couldnt', 'absolutely', 'whatever', 'gave', 'towards', 'true', 'whats', 'gone', 'certainly', 'theyve', 'almost', 'yes', 'wouldnt', 'isnt', 'though', 'seeing', 'rather', 'giving', 'however', 'along', 'often', 'certain', 'completely', 'either', 'available', 'particularly', 'standard', 'successful', 'extremely', 'common', 'among', 'somebody', 'yeah', 'instead',]"
      ],
      "execution_count": 12,
      "outputs": []
    },
    {
      "cell_type": "code",
      "metadata": {
        "id": "VKa9urceJSuL"
      },
      "source": [
        "def clean_keywords_for_topic_detect(df, year):\n",
        "  keywords_series = df['keywords'].apply(lambda ks: list(filter(lambda w: w not in IGNORED_KEYWORDS_FOR_TOPICS, ks)))\n",
        "  keywords_series.to_pickle(f\"/content/drive/MyDrive/ADA/topic_detect_keywords_{year}.pkl'\")\n",
        "  return keywords_series\n",
        "\n",
        "def quotes_bags_of_words(keywords_series, max_freq=0.15, min_freq = 0.01):\n",
        "  dictionary = Dictionary(keywords_series)\n",
        "  min_wordcount = int(keywords_series.shape[0] * min_freq)\n",
        "\n",
        "  dictionary.filter_extremes(no_below=min_wordcount, no_above=max_freq)\n",
        "  bags_of_words = keywords_series.apply(dictionary.doc2bow)\n",
        "  return {\"bow\": bags_of_words, \"dict\": dictionary}\n",
        "\n",
        "def read_topic_detect_keywords(year):\n",
        "  return pd.read_pickle(f\"/content/drive/MyDrive/ADA/topic_detect_keywords_{year}.pkl'\")"
      ],
      "execution_count": 20,
      "outputs": []
    },
    {
      "cell_type": "code",
      "metadata": {
        "colab": {
          "base_uri": "https://localhost:8080/"
        },
        "id": "nRdWa0dFtZ_9",
        "outputId": "3773f393-06f3-4d67-d70a-7af648303add"
      },
      "source": [
        "keywords = read_topic_detect_keywords(YEAR)\n",
        "keywords"
      ],
      "execution_count": 21,
      "outputs": [
        {
          "output_type": "execute_result",
          "data": {
            "text/plain": [
              "0                   [city, accident, coherent, vision, aim]\n",
              "1         [biggest, supporter, justification, peter, ent...\n",
              "2              [anzac, traditional, recognise, seriousness]\n",
              "3              [anzac, traditional, recognise, seriousness]\n",
              "4         [protect, stand, faith, faith, family, life, f...\n",
              "                                ...                        \n",
              "657236    [mostly, responding, imitating, tolkien, showi...\n",
              "657237    [predict, small, amount, technology, imposes, ...\n",
              "657238                          [motto, prestige, customer]\n",
              "657239    [access, flight, area, climbing, wall, hid, bu...\n",
              "657240                         [brother, guide, revolution]\n",
              "Name: keywords, Length: 657241, dtype: object"
            ]
          },
          "metadata": {},
          "execution_count": 21
        }
      ]
    },
    {
      "cell_type": "markdown",
      "metadata": {
        "id": "bzsAfU95xLaK"
      },
      "source": [
        "### LDA Model training"
      ]
    },
    {
      "cell_type": "code",
      "metadata": {
        "id": "OXyJLW3zI2AI"
      },
      "source": [
        "def train_topic_detection_model(keywords, hyperparams):\n",
        "  corpus_data = quotes_bags_of_words(keywords, **hyperparams[\"bow\"])\n",
        "  corpus = corpus_data[\"bow\"]\n",
        "  dictionary = corpus_data[\"dict\"]\n",
        "  print(\"Training model with params:\", hyperparams[\"model\"])\n",
        "  return corpus, dictionary, LdaMulticore(\n",
        "    corpus=corpus,\n",
        "    id2word=dictionary,\n",
        "    workers=6,\n",
        "    **hyperparams[\"model\"],\n",
        "  )\n",
        "\n",
        "def save_lda_model(lda_model, year, num_topics=20):\n",
        "  lda_model.save(f'/content/drive/MyDrive/ADA/lda_model_{year}__{num_topics}_topics')\n",
        "\n",
        "def load_lda_model(year, num_topics=20):\n",
        "  return LdaMulticore.load(f'/content/drive/MyDrive/ADA/lda_model_{year}__{num_topics}_topics')\n",
        "\n",
        "def compute_lda_coherence_score(lda_model, keywords, dictionary):\n",
        "  coherence_model_lda = CoherenceModel(model=lda_model, texts=keywords, dictionary=dictionary, coherence='c_v')\n",
        "  return coherence_model_lda.get_coherence()"
      ],
      "execution_count": 116,
      "outputs": []
    },
    {
      "cell_type": "code",
      "metadata": {
        "id": "LD6NnrbYF5ln"
      },
      "source": [
        "lda_model_params = {\n",
        "  \"bow\": {\n",
        "    \"max_freq\": 0.15,\n",
        "    \"min_freq\": 0.001,\n",
        "  },\n",
        "  \"model\": {\n",
        "    \"passes\": 5,\n",
        "    \"iterations\": 50,\n",
        "    \"random_state\": 42,\n",
        "    \"num_topics\": 20,\n",
        "    \"chunksize\": 6000,\n",
        "    \"alpha\": 'symmetric',\n",
        "    \"eta\": None,\n",
        "  },\n",
        "}"
      ],
      "execution_count": 118,
      "outputs": []
    },
    {
      "cell_type": "code",
      "metadata": {
        "id": "utOOwZX7lyVK"
      },
      "source": [
        "train_keywords = keywords.sample(frac=0.5)"
      ],
      "execution_count": 119,
      "outputs": []
    },
    {
      "cell_type": "code",
      "metadata": {
        "id": "RLUxKAxafMVs"
      },
      "source": [
        "from datetime import datetime\n",
        "\n",
        "\n",
        "def hypertune_lda_model(train_keywords, hyper):\n",
        "  topics = [10, 12, 15, 18, 20, 25, 30]\n",
        "  topics = [10]\n",
        "  alphas = list(np.arange(0.01, 1, 0.3)) + ['symmetric', 'asymmetric']\n",
        "  alphas = ['symmetric']\n",
        "\n",
        "  etas = list(np.arange(0.01, 1, 0.3)) + ['symmetric', 'auto']\n",
        "  etas = ['auto']\n",
        "\n",
        "  for alpha, eta, topics in product(alphas, etas, topics):\n",
        "    print(datetime.now())\n",
        "    params = {\n",
        "      \"model\": {**hyper[\"model\"], \"alpha\": alpha, \"eta\": eta, \"num_topics\": topics},\n",
        "      \"bow\": {**hyper[\"bow\"]},\n",
        "    }\n",
        "    _, dictionary, model = train_topic_detection_model(train_keywords, params)\n",
        "    coherence_score = compute_lda_coherence_score(model, train_keywords, dictionary)\n",
        "    yield {\"alpha\": alpha, \"eta\": eta, \"num_topics\": topics, \"coherence\": coherence_score}"
      ],
      "execution_count": 120,
      "outputs": []
    },
    {
      "cell_type": "code",
      "metadata": {
        "colab": {
          "base_uri": "https://localhost:8080/"
        },
        "id": "THmku5spgm8u",
        "outputId": "afa4016e-c8f1-405f-bc98-4d0a39bbef74"
      },
      "source": [
        "results = pd.DataFrame(hypertune_lda_model(train_keywords, lda_model_params))\n",
        "results"
      ],
      "execution_count": null,
      "outputs": [
        {
          "output_type": "stream",
          "name": "stdout",
          "text": [
            "2021-12-07 20:32:37.212493\n",
            "Training model with params: {'passes': 5, 'iterations': 50, 'random_state': 42, 'num_topics': 10, 'chunksize': 6000, 'alpha': 'symmetric', 'eta': 'auto'}\n"
          ]
        }
      ]
    },
    {
      "cell_type": "code",
      "metadata": {
        "id": "buw2TYzzWVvf"
      },
      "source": [
        "train_keywords = keywords.sample(frac=0.05)"
      ],
      "execution_count": 57,
      "outputs": []
    },
    {
      "cell_type": "code",
      "metadata": {
        "id": "lVxbsLti7VK3"
      },
      "source": [
        "corpus, dictionary, lda_model = train_topic_detection_model(train_keywords, lda_model_params)"
      ],
      "execution_count": 58,
      "outputs": []
    },
    {
      "cell_type": "code",
      "metadata": {
        "colab": {
          "base_uri": "https://localhost:8080/"
        },
        "id": "LSQvozoJWTKp",
        "outputId": "7e66b39e-a72a-4d86-efea-98bf745c25c2"
      },
      "source": [
        "compute_lda_coherence_score(lda_model, train_keywords, dictionary)"
      ],
      "execution_count": 56,
      "outputs": [
        {
          "output_type": "execute_result",
          "data": {
            "text/plain": [
              "0.21684953913592117"
            ]
          },
          "metadata": {},
          "execution_count": 56
        }
      ]
    },
    {
      "cell_type": "code",
      "metadata": {
        "colab": {
          "base_uri": "https://localhost:8080/"
        },
        "id": "MTqy5ErLCfxv",
        "outputId": "a18ebf99-2f94-4c43-ae01-bed87a30df71"
      },
      "source": [
        "lda_model.show_topics(num_words=5, num_topics=20)"
      ],
      "execution_count": 42,
      "outputs": [
        {
          "output_type": "execute_result",
          "data": {
            "text/plain": [
              "[(0,\n",
              "  '0.053*\"hope\" + 0.043*\"season\" + 0.031*\"team\" + 0.026*\"public\" + 0.022*\"soon\"'),\n",
              " (1,\n",
              "  '0.016*\"state\" + 0.013*\"industry\" + 0.013*\"sector\" + 0.012*\"bank\" + 0.011*\"term\"'),\n",
              " (2,\n",
              "  '0.041*\"family\" + 0.032*\"issue\" + 0.030*\"party\" + 0.015*\"ago\" + 0.013*\"crisis\"'),\n",
              " (3,\n",
              "  '0.021*\"election\" + 0.018*\"lost\" + 0.017*\"house\" + 0.015*\"speak\" + 0.014*\"option\"'),\n",
              " (4,\n",
              "  '0.030*\"film\" + 0.025*\"kid\" + 0.019*\"story\" + 0.018*\"world\" + 0.016*\"hit\"'),\n",
              " (5,\n",
              "  '0.041*\"club\" + 0.027*\"level\" + 0.025*\"fan\" + 0.019*\"player\" + 0.015*\"car\"'),\n",
              " (6,\n",
              "  '0.028*\"support\" + 0.022*\"risk\" + 0.020*\"area\" + 0.019*\"president\" + 0.016*\"community\"'),\n",
              " (7,\n",
              "  '0.063*\"love\" + 0.061*\"life\" + 0.026*\"minister\" + 0.020*\"india\" + 0.017*\"school\"'),\n",
              " (8,\n",
              "  '0.041*\"opportunity\" + 0.029*\"goal\" + 0.020*\"team\" + 0.020*\"thinking\" + 0.014*\"energy\"'),\n",
              " (9,\n",
              "  '0.026*\"course\" + 0.025*\"minute\" + 0.024*\"couple\" + 0.021*\"ball\" + 0.020*\"position\"'),\n",
              " (10,\n",
              "  '0.027*\"test\" + 0.022*\"money\" + 0.018*\"rule\" + 0.016*\"match\" + 0.013*\"friend\"'),\n",
              " (11,\n",
              "  '0.048*\"government\" + 0.047*\"health\" + 0.020*\"per\" + 0.018*\"medium\" + 0.017*\"social\"'),\n",
              " (12,\n",
              "  '0.064*\"player\" + 0.045*\"win\" + 0.035*\"team\" + 0.029*\"league\" + 0.025*\"top\"'),\n",
              " (13,\n",
              "  '0.065*\"help\" + 0.028*\"man\" + 0.022*\"australia\" + 0.020*\"policy\" + 0.018*\"market\"'),\n",
              " (14,\n",
              "  '0.037*\"number\" + 0.027*\"ill\" + 0.022*\"city\" + 0.020*\"police\" + 0.018*\"court\"'),\n",
              " (15,\n",
              "  '0.036*\"case\" + 0.025*\"virus\" + 0.015*\"covid19\" + 0.015*\"coronavirus\" + 0.014*\"spread\"'),\n",
              " (16,\n",
              "  '0.033*\"country\" + 0.031*\"fight\" + 0.023*\"national\" + 0.022*\"student\" + 0.017*\"event\"'),\n",
              " (17,\n",
              "  '0.028*\"stop\" + 0.026*\"feeling\" + 0.015*\"food\" + 0.015*\"word\" + 0.015*\"create\"'),\n",
              " (18,\n",
              "  '0.038*\"home\" + 0.037*\"business\" + 0.023*\"community\" + 0.016*\"service\" + 0.016*\"small\"'),\n",
              " (19,\n",
              "  '0.042*\"woman\" + 0.023*\"felt\" + 0.018*\"stuff\" + 0.015*\"mind\" + 0.015*\"ask\"')]"
            ]
          },
          "metadata": {},
          "execution_count": 42
        }
      ]
    },
    {
      "cell_type": "code",
      "metadata": {
        "id": "Fbm-eGvZ76gG"
      },
      "source": [
        "save_lda_model(lda_model, YEAR, num_topics=30)"
      ],
      "execution_count": 58,
      "outputs": []
    },
    {
      "cell_type": "code",
      "metadata": {
        "id": "HhBQ8RkHKltg"
      },
      "source": [
        "lda_model = load_lda_model(2020, 20)\n",
        "lda_model.show_topics(num_words=5, num_topics=20)"
      ],
      "execution_count": null,
      "outputs": []
    },
    {
      "cell_type": "code",
      "metadata": {
        "id": "SthSFYkDH2S9"
      },
      "source": [
        "merge_topics_into_df(df, lda_model, 20)"
      ],
      "execution_count": null,
      "outputs": []
    },
    {
      "cell_type": "code",
      "metadata": {
        "id": "QSjBaMppXsOr"
      },
      "source": [
        "df"
      ],
      "execution_count": null,
      "outputs": []
    },
    {
      "cell_type": "code",
      "metadata": {
        "id": "4YDeExz1KzEO"
      },
      "source": [
        "df.to_pickle(\"/content/drive/MyDrive/ADA/preprocessed_quotes_2020_topics.pkl\")"
      ],
      "execution_count": 51,
      "outputs": []
    },
    {
      "cell_type": "code",
      "metadata": {
        "id": "GZK2EcDC0VVd"
      },
      "source": [
        "# TODO: put that somewhere else\n",
        "\n",
        "def save_most_common_jobs(df):\n",
        "    occ = df['occupation'].explode()\n",
        "    jobs = list(dict(Counter(occ).most_common(700)).keys())\n",
        "\n",
        "    with open(\"/content/drive/MyDrive/ADA/jobs.txt\", \"w\") as f:\n",
        "      for job in jobs:\n",
        "        if job is not None:\n",
        "          f.write(job + \"\\n\")"
      ],
      "execution_count": 141,
      "outputs": []
    },
    {
      "cell_type": "markdown",
      "metadata": {
        "id": "yBnh0gSYZt_z"
      },
      "source": [
        "## Correlation analysis"
      ]
    },
    {
      "cell_type": "code",
      "metadata": {
        "id": "fXeGRDAFZrO0"
      },
      "source": [
        "# https://stackoverflow.com/questions/48035381/correlation-among-multiple-categorical-variables-pandas\n",
        "\n",
        "from scipy.stats import chi2_contingency\n",
        "import numpy as np\n",
        "\n",
        "def find_correlation(df):\n",
        "  \"\"\"\n",
        "  Find correlation using a chi squared test\n",
        "  \"\"\"\n",
        "  df_ = df.copy()\n",
        "  factors_paired = [(i,j) for i in df_.columns.values for j in df_.columns.values] \n",
        "\n",
        "  chi2, p_values =[], []\n",
        "\n",
        "  for f in factors_paired:\n",
        "      if f[0] != f[1]:\n",
        "          chitest = chi2_contingency(pd.crosstab(df_[f[0]], df_[f[1]]))   \n",
        "          chi2.append(chitest[0])\n",
        "          p_values.append(chitest[1])\n",
        "      else:\n",
        "          # for same factor pair\n",
        "          chi2.append(0)\n",
        "          p_values.append(0)\n",
        "\n",
        "  chi2 = np.array(chi2).reshape((df.shape[1],df.shape[1])) \n",
        "  chi2 = pd.DataFrame(chi2, index=df_.columns.values, columns=df_.columns.values) \n",
        "  p_values = np.array(p_values).reshape((df.shape[1],df.shape[1]))\n",
        "  p_values = pd.DataFrame(p_values, index=df_.columns.values, columns=df_.columns.values) \n",
        "\n",
        "  return chi2, p_values"
      ],
      "execution_count": 135,
      "outputs": []
    },
    {
      "cell_type": "markdown",
      "metadata": {
        "id": "DreuqKpymBWZ"
      },
      "source": [
        "## Vizualizing dataset"
      ]
    },
    {
      "cell_type": "code",
      "metadata": {
        "id": "mzuYWz7vYkLH",
        "colab": {
          "base_uri": "https://localhost:8080/",
          "height": 505
        },
        "outputId": "6e530295-0fcd-486d-c098-1cccb9474bbe"
      },
      "source": [
        "top_nations = (data2020['nationality'].explode()).value_counts()[:15]\n",
        "top_nations.plot(kind='bar', log = True)\n",
        "#plt.xticks(rotation=45)\n",
        "plt.xlabel(\"Most common countries\")\n",
        "plt.ylabel(\"Number of occurrences\")\n",
        "plt.title(\"Frequency of speakers' country of origin extracted from quotes\")\n",
        "plt.show()"
      ],
      "execution_count": null,
      "outputs": [
        {
          "output_type": "display_data",
          "data": {
            "image/png": "[encoded data removed]",
            "text/plain": [
              "<Figure size 432x288 with 1 Axes>"
            ]
          },
          "metadata": {
            "needs_background": "light"
          }
        }
      ]
    },
    {
      "cell_type": "code",
      "metadata": {
        "id": "BsInQd5oY1zF",
        "colab": {
          "base_uri": "https://localhost:8080/",
          "height": 430
        },
        "outputId": "b8916990-9769-4c07-e30b-45d0f020340f"
      },
      "source": [
        "top_nations = (data2020['occupation'].explode()).value_counts()[:15]\n",
        "top_nations.plot(kind='bar', log = True)\n",
        "#plt.xticks(rotation=45)\n",
        "plt.xlabel(\"Most common occupations\")\n",
        "plt.ylabel(\"Number of occurrences\")\n",
        "plt.title(\"Frequency of speakers' occupation extracted from quotes\")\n",
        "plt.show()"
      ],
      "execution_count": null,
      "outputs": [
        {
          "output_type": "display_data",
          "data": {
            "image/png": "[encoded data removed]",
            "text/plain": [
              "<Figure size 432x288 with 1 Axes>"
            ]
          },
          "metadata": {
            "needs_background": "light"
          }
        }
      ]
    },
    {
      "cell_type": "code",
      "metadata": {
        "colab": {
          "base_uri": "https://localhost:8080/",
          "height": 993
        },
        "id": "c6_ZtW7E8vvZ",
        "outputId": "c8365247-497a-4086-f626-1c7d67b0f619"
      },
      "source": [
        "nationality_exploded = data2020.explode('nationality')\n",
        "top_nations_list = nationality_exploded['nationality'].value_counts()[:15]\n",
        "top_nations_df = nationality_exploded[nationality_exploded['nationality'].isin(top_nations_list.keys())]\n",
        "top_nations = top_nations_df.groupby(['nationality','gender'])['nationality'].count().unstack('gender')\n",
        "\n",
        "top_nations.plot(kind='bar', stacked = True)\n",
        "#plt.xticks(rotation=45)\n",
        "plt.xlabel(\"Most common countries\")\n",
        "plt.ylabel(\"Number of occurrences\")\n",
        "plt.title(\"Frequency of speakers' country of origin extracted from quotes stratified by gender\")\n",
        "\n",
        "top_nations.plot(kind='bar', log = True, stacked = True)\n",
        "#plt.xticks(rotation=45)\n",
        "plt.xlabel(\"Most common countries\")\n",
        "plt.ylabel(\"Number of occurrences\")\n",
        "plt.title(\"Frequency of speakers' country of origin stratified by gender (log scale)\")\n",
        "\n",
        "plt.show()"
      ],
      "execution_count": null,
      "outputs": [
        {
          "output_type": "display_data",
          "data": {
            "image/png": "[encoded data removed]",
            "text/plain": [
              "<Figure size 432x288 with 1 Axes>"
            ]
          },
          "metadata": {
            "needs_background": "light"
          }
        },
        {
          "output_type": "display_data",
          "data": {
            "image/png": "[encoded data removed]",
            "text/plain": [
              "<Figure size 432x288 with 1 Axes>"
            ]
          },
          "metadata": {
            "needs_background": "light"
          }
        }
      ]
    },
    {
      "cell_type": "code",
      "metadata": {
        "colab": {
          "base_uri": "https://localhost:8080/",
          "height": 843
        },
        "id": "A8OPkhzT9e9M",
        "outputId": "95ae097f-e8c9-4658-c76d-df5417f8b862"
      },
      "source": [
        "occupation_exploded = data2020.explode('occupation')\n",
        "top_occupations_list = occupation_exploded['occupation'].value_counts()[:15]\n",
        "top_occupations_df = occupation_exploded[occupation_exploded['occupation'].isin(top_occupations_list.keys())]\n",
        "top_occupations = top_occupations_df.groupby(['occupation','gender'])['occupation'].count().unstack('gender')\n",
        "\n",
        "top_occupations.plot(kind='bar', stacked = True)\n",
        "#plt.xticks(rotation=45)\n",
        "plt.xlabel(\"Most common occupations\")\n",
        "plt.ylabel(\"Number of occurrences\")\n",
        "plt.title(\"Frequency of speakers' occupation extracted from quotes stratified by gender\")\n",
        "\n",
        "top_occupations.plot(kind='bar', log = True, stacked = True)\n",
        "#plt.xticks(rotation=45)\n",
        "plt.xlabel(\"Most common occupations\")\n",
        "plt.ylabel(\"Number of occurrences\")\n",
        "plt.title(\"Frequency of speakers' occupation stratified by gender (log scale)\")\n",
        "\n",
        "plt.show()"
      ],
      "execution_count": null,
      "outputs": [
        {
          "output_type": "display_data",
          "data": {
            "image/png": "[encoded data removed]",
            "text/plain": [
              "<Figure size 432x288 with 1 Axes>"
            ]
          },
          "metadata": {
            "needs_background": "light"
          }
        },
        {
          "output_type": "display_data",
          "data": {
            "image/png": "[encoded data removed]",
            "text/plain": [
              "<Figure size 432x288 with 1 Axes>"
            ]
          },
          "metadata": {
            "needs_background": "light"
          }
        }
      ]
    },
    {
      "cell_type": "code",
      "metadata": {
        "colab": {
          "base_uri": "https://localhost:8080/",
          "height": 675
        },
        "id": "7G7L-954Fw0t",
        "outputId": "8e22ceab-e019-40f8-84f2-585d68737792"
      },
      "source": [
        "keywords_exploded = data2020.explode('keywords')\n",
        "keywords_exploded = keywords_exploded[~keywords_exploded['keywords'].isin(IGNORED_KEYWORDS)]\n",
        "top_keywords_list = keywords_exploded['keywords'].value_counts()[:15]\n",
        "top_keywords_df = keywords_exploded[keywords_exploded['keywords'].isin(top_keywords_list.keys())]\n",
        "top_keywords = top_keywords_df.groupby(['keywords','gender'])['keywords'].count().unstack('gender')\n",
        "\n",
        "top_keywords.plot(kind='bar', stacked = True)\n",
        "#plt.xticks(rotation=45)\n",
        "plt.xlabel(\"Most common keywords\")\n",
        "plt.ylabel(\"Number of occurrences\")\n",
        "plt.title(\"Frequency of speakers' keywords extracted from quotes stratified by gender\")\n",
        "\n",
        "top_keywords.plot(kind='bar', log = True, stacked = True)\n",
        "#plt.xticks(rotation=45)\n",
        "plt.xlabel(\"Most common keywords\")\n",
        "plt.ylabel(\"Number of occurrences\")\n",
        "plt.title(\"Frequency of speakers' keywords stratified by gender (log scale)\")\n",
        "\n",
        "plt.show()"
      ],
      "execution_count": null,
      "outputs": [
        {
          "output_type": "display_data",
          "data": {
            "image/png": "[encoded data removed]",
            "text/plain": [
              "<Figure size 432x288 with 1 Axes>"
            ]
          },
          "metadata": {
            "needs_background": "light"
          }
        },
        {
          "output_type": "display_data",
          "data": {
            "image/png": "[encoded data removed]",
            "text/plain": [
              "<Figure size 432x288 with 1 Axes>"
            ]
          },
          "metadata": {
            "needs_background": "light"
          }
        }
      ]
    },
    {
      "cell_type": "markdown",
      "metadata": {
        "id": "0X4yIqsS0vPg"
      },
      "source": [
        "## Classifying occupations"
      ]
    },
    {
      "cell_type": "code",
      "metadata": {
        "id": "RGr4LNHNQAEr"
      },
      "source": [
        "with open(\"/content/drive/MyDrive/ADA/jobs_sports.txt\", 'r') as f:\n",
        "    text = [line for line in f.read().split('\\n')]\n",
        "df_sports = pd.DataFrame(text,columns=['sports'])\n",
        "\n",
        "with open(\"/content/drive/MyDrive/ADA/jobs_media.txt\", 'r') as f:\n",
        "    text = [line for line in f.read().split('\\n')]\n",
        "df_media = pd.DataFrame(text,columns=['media'])\n",
        "\n",
        "with open(\"/content/drive/MyDrive/ADA/jobs_important_people.txt\", 'r') as f:\n",
        "    text = [line for line in f.read().split('\\n')]\n",
        "df_important = pd.DataFrame(text,columns=['important'])\n",
        "\n",
        "with open(\"/content/drive/MyDrive/ADA/jobs_art.txt\", 'r') as f:\n",
        "    text = [line for line in f.read().split('\\n')]\n",
        "df_art = pd.DataFrame(text,columns=['art'])\n",
        "\n",
        "with open(\"/content/drive/MyDrive/ADA/jobs_academics.txt\", 'r') as f:\n",
        "    text = [line for line in f.read().split('\\n')]\n",
        "df_academics = pd.DataFrame(text,columns=['academics'])"
      ],
      "execution_count": null,
      "outputs": []
    },
    {
      "cell_type": "code",
      "metadata": {
        "id": "o4xaR6jZQBbe"
      },
      "source": [
        "list_sports = list(df_sports.sports)\n",
        "list_media = list(df_media.media)\n",
        "list_important = list(df_important.important)\n",
        "list_art = list(df_art.art)\n",
        "list_academics = list(df_academics.academics)"
      ],
      "execution_count": null,
      "outputs": []
    },
    {
      "cell_type": "code",
      "metadata": {
        "id": "tmgib7OjZSy-"
      },
      "source": [
        "Class_Occupation = []\n",
        "\n",
        "for val in data2020.occupation:\n",
        "  person_occ = []\n",
        "  for occ in val:\n",
        "    if occ in list_sports:\n",
        "      person_occ.append('Sport')\n",
        "    if occ in list_media:\n",
        "      person_occ.append('Media')\n",
        "    if occ in list_important:\n",
        "      person_occ.append('P.E.M')\n",
        "    if occ in list_art:\n",
        "      person_occ.append('Art')\n",
        "    if occ in list_academics:\n",
        "      person_occ.append('Academics')\n",
        "    else: \n",
        "      person_occ.append('Other')\n",
        "  Class_Occupation.append(person_occ)\n"
      ],
      "execution_count": null,
      "outputs": []
    },
    {
      "cell_type": "code",
      "metadata": {
        "id": "UaMLnzPyQMzJ"
      },
      "source": [
        "data2020['Class_Occup'] = pd.Series(Class_Occupation)"
      ],
      "execution_count": null,
      "outputs": []
    },
    {
      "cell_type": "code",
      "metadata": {
        "colab": {
          "base_uri": "https://localhost:8080/",
          "height": 736
        },
        "id": "ORdPHQK7JO5L",
        "outputId": "d5e823b4-03b3-40f2-a504-565dfc4e090d"
      },
      "source": [
        "data2020.tail(7000)"
      ],
      "execution_count": null,
      "outputs": [
        {
          "output_type": "execute_result",
          "data": {
            "text/html": [
              "<div>\n",
              "<style scoped>\n",
              "    .dataframe tbody tr th:only-of-type {\n",
              "        vertical-align: middle;\n",
              "    }\n",
              "\n",
              "    .dataframe tbody tr th {\n",
              "        vertical-align: top;\n",
              "    }\n",
              "\n",
              "    .dataframe thead th {\n",
              "        text-align: right;\n",
              "    }\n",
              "</style>\n",
              "<table border=\"1\" class=\"dataframe\">\n",
              "  <thead>\n",
              "    <tr style=\"text-align: right;\">\n",
              "      <th></th>\n",
              "      <th>index</th>\n",
              "      <th>numOccurrences</th>\n",
              "      <th>gender</th>\n",
              "      <th>occupation</th>\n",
              "      <th>nationality</th>\n",
              "      <th>HDI rank</th>\n",
              "      <th>Development</th>\n",
              "      <th>keywords</th>\n",
              "      <th>Class_Occup</th>\n",
              "    </tr>\n",
              "  </thead>\n",
              "  <tbody>\n",
              "    <tr>\n",
              "      <th>650211</th>\n",
              "      <td>23413</td>\n",
              "      <td>1</td>\n",
              "      <td>male</td>\n",
              "      <td>[politician, entrepreneur, engineer]</td>\n",
              "      <td>[Indonesia]</td>\n",
              "      <td>107</td>\n",
              "      <td>High</td>\n",
              "      <td>[first, capital, city, mass, private, transpor...</td>\n",
              "      <td>[Other]</td>\n",
              "    </tr>\n",
              "    <tr>\n",
              "      <th>650212</th>\n",
              "      <td>23414</td>\n",
              "      <td>1</td>\n",
              "      <td>male</td>\n",
              "      <td>[politician, businessperson]</td>\n",
              "      <td>[Indonesia]</td>\n",
              "      <td>107</td>\n",
              "      <td>High</td>\n",
              "      <td>[standard, building, already, regulated, proto...</td>\n",
              "      <td>[Academics, Other]</td>\n",
              "    </tr>\n",
              "    <tr>\n",
              "      <th>650213</th>\n",
              "      <td>23415</td>\n",
              "      <td>1</td>\n",
              "      <td>male</td>\n",
              "      <td>[politician]</td>\n",
              "      <td>[Indonesia]</td>\n",
              "      <td>107</td>\n",
              "      <td>High</td>\n",
              "      <td>[used, get, better, business, everything, shut]</td>\n",
              "      <td>[Other]</td>\n",
              "    </tr>\n",
              "    <tr>\n",
              "      <th>650214</th>\n",
              "      <td>23416</td>\n",
              "      <td>1</td>\n",
              "      <td>female</td>\n",
              "      <td>[singer]</td>\n",
              "      <td>[Indonesia]</td>\n",
              "      <td>107</td>\n",
              "      <td>High</td>\n",
              "      <td>[definitely, need, donation, serve, medical, w...</td>\n",
              "      <td>[P.E.M, Other, Art, Other, Academics, Other]</td>\n",
              "    </tr>\n",
              "    <tr>\n",
              "      <th>650215</th>\n",
              "      <td>23417</td>\n",
              "      <td>2</td>\n",
              "      <td>female</td>\n",
              "      <td>[politician]</td>\n",
              "      <td>[Ireland, United Kingdom]</td>\n",
              "      <td>2</td>\n",
              "      <td>Very High</td>\n",
              "      <td>[want, rent, frozen, want, good, quality, chil...</td>\n",
              "      <td>[Academics, Other]</td>\n",
              "    </tr>\n",
              "    <tr>\n",
              "      <th>...</th>\n",
              "      <td>...</td>\n",
              "      <td>...</td>\n",
              "      <td>...</td>\n",
              "      <td>...</td>\n",
              "      <td>...</td>\n",
              "      <td>...</td>\n",
              "      <td>...</td>\n",
              "      <td>...</td>\n",
              "      <td>...</td>\n",
              "    </tr>\n",
              "    <tr>\n",
              "      <th>657236</th>\n",
              "      <td>30438</td>\n",
              "      <td>1</td>\n",
              "      <td>male</td>\n",
              "      <td>[sport cyclist]</td>\n",
              "      <td>[Eritrea, Kingdom of the Netherlands]</td>\n",
              "      <td>180</td>\n",
              "      <td>Low</td>\n",
              "      <td>[mostly, responding, imitating, tolkien, showi...</td>\n",
              "      <td>NaN</td>\n",
              "    </tr>\n",
              "    <tr>\n",
              "      <th>657237</th>\n",
              "      <td>30439</td>\n",
              "      <td>1</td>\n",
              "      <td>male</td>\n",
              "      <td>[sport cyclist]</td>\n",
              "      <td>[Eritrea, Kingdom of the Netherlands]</td>\n",
              "      <td>180</td>\n",
              "      <td>Low</td>\n",
              "      <td>[predict, small, amount, time, new, technology...</td>\n",
              "      <td>NaN</td>\n",
              "    </tr>\n",
              "    <tr>\n",
              "      <th>657238</th>\n",
              "      <td>30440</td>\n",
              "      <td>1</td>\n",
              "      <td>male</td>\n",
              "      <td>[artist, poet, painter]</td>\n",
              "      <td>[Suriname]</td>\n",
              "      <td>97</td>\n",
              "      <td>High</td>\n",
              "      <td>[motto, keep, prestige, keep, customer]</td>\n",
              "      <td>NaN</td>\n",
              "    </tr>\n",
              "    <tr>\n",
              "      <th>657239</th>\n",
              "      <td>30441</td>\n",
              "      <td>1</td>\n",
              "      <td>male</td>\n",
              "      <td>[writer, university teacher]</td>\n",
              "      <td>[Gabon]</td>\n",
              "      <td>119</td>\n",
              "      <td>High</td>\n",
              "      <td>[think, got, access, flight, area, climbing, w...</td>\n",
              "      <td>NaN</td>\n",
              "    </tr>\n",
              "    <tr>\n",
              "      <th>657240</th>\n",
              "      <td>30442</td>\n",
              "      <td>1</td>\n",
              "      <td>male</td>\n",
              "      <td>[politician, writer, military officer]</td>\n",
              "      <td>[Libya]</td>\n",
              "      <td>105</td>\n",
              "      <td>High</td>\n",
              "      <td>[brother, guide, revolution]</td>\n",
              "      <td>NaN</td>\n",
              "    </tr>\n",
              "  </tbody>\n",
              "</table>\n",
              "<p>7000 rows × 9 columns</p>\n",
              "</div>"
            ],
            "text/plain": [
              "        index  ...                                   Class_Occup\n",
              "650211  23413  ...                                       [Other]\n",
              "650212  23414  ...                            [Academics, Other]\n",
              "650213  23415  ...                                       [Other]\n",
              "650214  23416  ...  [P.E.M, Other, Art, Other, Academics, Other]\n",
              "650215  23417  ...                            [Academics, Other]\n",
              "...       ...  ...                                           ...\n",
              "657236  30438  ...                                           NaN\n",
              "657237  30439  ...                                           NaN\n",
              "657238  30440  ...                                           NaN\n",
              "657239  30441  ...                                           NaN\n",
              "657240  30442  ...                                           NaN\n",
              "\n",
              "[7000 rows x 9 columns]"
            ]
          },
          "metadata": {},
          "execution_count": 23
        }
      ]
    },
    {
      "cell_type": "code",
      "metadata": {
        "colab": {
          "base_uri": "https://localhost:8080/",
          "height": 643
        },
        "id": "4pRMbvuxLAgP",
        "outputId": "bb341efa-a106-4a8e-961d-88308741053d"
      },
      "source": [
        "Class_Occup_dummies = pd.get_dummies(data2020.Class_Occup.explode())\n",
        "jobs_columns = [f'{Class_Occup}_jobs' for Class_Occup in Class_Occup_dummies.columns] \n",
        "Class_Occup_dummies.columns = jobs_columns\n",
        "data_new = pd.concat([data2020, Class_Occup_dummies], axis = 1)\n",
        "data_new.head()"
      ],
      "execution_count": null,
      "outputs": [
        {
          "output_type": "execute_result",
          "data": {
            "text/html": [
              "<div>\n",
              "<style scoped>\n",
              "    .dataframe tbody tr th:only-of-type {\n",
              "        vertical-align: middle;\n",
              "    }\n",
              "\n",
              "    .dataframe tbody tr th {\n",
              "        vertical-align: top;\n",
              "    }\n",
              "\n",
              "    .dataframe thead th {\n",
              "        text-align: right;\n",
              "    }\n",
              "</style>\n",
              "<table border=\"1\" class=\"dataframe\">\n",
              "  <thead>\n",
              "    <tr style=\"text-align: right;\">\n",
              "      <th></th>\n",
              "      <th>index</th>\n",
              "      <th>numOccurrences</th>\n",
              "      <th>gender</th>\n",
              "      <th>occupation</th>\n",
              "      <th>nationality</th>\n",
              "      <th>HDI rank</th>\n",
              "      <th>Development</th>\n",
              "      <th>keywords</th>\n",
              "      <th>Class_Occup</th>\n",
              "      <th>Academics_jobs</th>\n",
              "      <th>Art_jobs</th>\n",
              "      <th>Media_jobs</th>\n",
              "      <th>Other_jobs</th>\n",
              "      <th>P.E.M_jobs</th>\n",
              "      <th>Sport_jobs</th>\n",
              "    </tr>\n",
              "  </thead>\n",
              "  <tbody>\n",
              "    <tr>\n",
              "      <th>0</th>\n",
              "      <td>0</td>\n",
              "      <td>1</td>\n",
              "      <td>male</td>\n",
              "      <td>[architect, urban planner]</td>\n",
              "      <td>[Luxembourg]</td>\n",
              "      <td>23</td>\n",
              "      <td>Very High</td>\n",
              "      <td>[city, accident, result, coherent, vision, aim]</td>\n",
              "      <td>[Other, Other]</td>\n",
              "      <td>0</td>\n",
              "      <td>0</td>\n",
              "      <td>0</td>\n",
              "      <td>1</td>\n",
              "      <td>0</td>\n",
              "      <td>0</td>\n",
              "    </tr>\n",
              "    <tr>\n",
              "      <th>0</th>\n",
              "      <td>0</td>\n",
              "      <td>1</td>\n",
              "      <td>male</td>\n",
              "      <td>[architect, urban planner]</td>\n",
              "      <td>[Luxembourg]</td>\n",
              "      <td>23</td>\n",
              "      <td>Very High</td>\n",
              "      <td>[city, accident, result, coherent, vision, aim]</td>\n",
              "      <td>[Other, Other]</td>\n",
              "      <td>0</td>\n",
              "      <td>0</td>\n",
              "      <td>0</td>\n",
              "      <td>1</td>\n",
              "      <td>0</td>\n",
              "      <td>0</td>\n",
              "    </tr>\n",
              "    <tr>\n",
              "      <th>1</th>\n",
              "      <td>1</td>\n",
              "      <td>3</td>\n",
              "      <td>male</td>\n",
              "      <td>[volleyball player]</td>\n",
              "      <td>[Luxembourg]</td>\n",
              "      <td>23</td>\n",
              "      <td>Very High</td>\n",
              "      <td>[theyre, biggest, supporter, always, justifica...</td>\n",
              "      <td>[Sport, Other]</td>\n",
              "      <td>0</td>\n",
              "      <td>0</td>\n",
              "      <td>0</td>\n",
              "      <td>0</td>\n",
              "      <td>0</td>\n",
              "      <td>1</td>\n",
              "    </tr>\n",
              "    <tr>\n",
              "      <th>1</th>\n",
              "      <td>1</td>\n",
              "      <td>3</td>\n",
              "      <td>male</td>\n",
              "      <td>[volleyball player]</td>\n",
              "      <td>[Luxembourg]</td>\n",
              "      <td>23</td>\n",
              "      <td>Very High</td>\n",
              "      <td>[theyre, biggest, supporter, always, justifica...</td>\n",
              "      <td>[Sport, Other]</td>\n",
              "      <td>0</td>\n",
              "      <td>0</td>\n",
              "      <td>0</td>\n",
              "      <td>1</td>\n",
              "      <td>0</td>\n",
              "      <td>0</td>\n",
              "    </tr>\n",
              "    <tr>\n",
              "      <th>2</th>\n",
              "      <td>2</td>\n",
              "      <td>1</td>\n",
              "      <td>male</td>\n",
              "      <td>[gymnast]</td>\n",
              "      <td>[Luxembourg]</td>\n",
              "      <td>23</td>\n",
              "      <td>Very High</td>\n",
              "      <td>[anzac, day, traditional, day, recognise, seri...</td>\n",
              "      <td>[Other]</td>\n",
              "      <td>0</td>\n",
              "      <td>0</td>\n",
              "      <td>0</td>\n",
              "      <td>1</td>\n",
              "      <td>0</td>\n",
              "      <td>0</td>\n",
              "    </tr>\n",
              "  </tbody>\n",
              "</table>\n",
              "</div>"
            ],
            "text/plain": [
              "   index  numOccurrences gender  ... Other_jobs P.E.M_jobs  Sport_jobs\n",
              "0      0               1   male  ...          1          0           0\n",
              "0      0               1   male  ...          1          0           0\n",
              "1      1               3   male  ...          0          0           1\n",
              "1      1               3   male  ...          1          0           0\n",
              "2      2               1   male  ...          1          0           0\n",
              "\n",
              "[5 rows x 15 columns]"
            ]
          },
          "metadata": {},
          "execution_count": 13
        }
      ]
    },
    {
      "cell_type": "code",
      "metadata": {
        "colab": {
          "base_uri": "https://localhost:8080/",
          "height": 947
        },
        "id": "ps5eyeTyLFwf",
        "outputId": "04c2fd3a-9fae-4a7b-83b5-de7c0a5d21e7"
      },
      "source": [
        "data_new.drop(data_new[data_new['Other_jobs'] == 1].index, inplace = True)\n",
        "data_new.dropna(axis=0, how='any',inplace=True)\n",
        "data_new"
      ],
      "execution_count": null,
      "outputs": [
        {
          "output_type": "execute_result",
          "data": {
            "text/html": [
              "<div>\n",
              "<style scoped>\n",
              "    .dataframe tbody tr th:only-of-type {\n",
              "        vertical-align: middle;\n",
              "    }\n",
              "\n",
              "    .dataframe tbody tr th {\n",
              "        vertical-align: top;\n",
              "    }\n",
              "\n",
              "    .dataframe thead th {\n",
              "        text-align: right;\n",
              "    }\n",
              "</style>\n",
              "<table border=\"1\" class=\"dataframe\">\n",
              "  <thead>\n",
              "    <tr style=\"text-align: right;\">\n",
              "      <th></th>\n",
              "      <th>index</th>\n",
              "      <th>numOccurrences</th>\n",
              "      <th>gender</th>\n",
              "      <th>occupation</th>\n",
              "      <th>nationality</th>\n",
              "      <th>HDI rank</th>\n",
              "      <th>Development</th>\n",
              "      <th>keywords</th>\n",
              "      <th>Class_Occup</th>\n",
              "      <th>Academics_jobs</th>\n",
              "      <th>Art_jobs</th>\n",
              "      <th>Media_jobs</th>\n",
              "      <th>Other_jobs</th>\n",
              "      <th>P.E.M_jobs</th>\n",
              "      <th>Sport_jobs</th>\n",
              "    </tr>\n",
              "  </thead>\n",
              "  <tbody>\n",
              "    <tr>\n",
              "      <th>26</th>\n",
              "      <td>26</td>\n",
              "      <td>1</td>\n",
              "      <td>male</td>\n",
              "      <td>[biochemist]</td>\n",
              "      <td>[United Kingdom]</td>\n",
              "      <td>13</td>\n",
              "      <td>Very High</td>\n",
              "      <td>[collaborative, opioid, stewardship, program, ...</td>\n",
              "      <td>[Academics]</td>\n",
              "      <td>1</td>\n",
              "      <td>0</td>\n",
              "      <td>0</td>\n",
              "      <td>0</td>\n",
              "      <td>0</td>\n",
              "      <td>0</td>\n",
              "    </tr>\n",
              "    <tr>\n",
              "      <th>96</th>\n",
              "      <td>96</td>\n",
              "      <td>1</td>\n",
              "      <td>male</td>\n",
              "      <td>[historian]</td>\n",
              "      <td>[United Kingdom]</td>\n",
              "      <td>13</td>\n",
              "      <td>Very High</td>\n",
              "      <td>[step, position, university, councillor]</td>\n",
              "      <td>[Academics]</td>\n",
              "      <td>1</td>\n",
              "      <td>0</td>\n",
              "      <td>0</td>\n",
              "      <td>0</td>\n",
              "      <td>0</td>\n",
              "      <td>0</td>\n",
              "    </tr>\n",
              "    <tr>\n",
              "      <th>114</th>\n",
              "      <td>114</td>\n",
              "      <td>2</td>\n",
              "      <td>male</td>\n",
              "      <td>[immunologist]</td>\n",
              "      <td>[United Kingdom]</td>\n",
              "      <td>13</td>\n",
              "      <td>Very High</td>\n",
              "      <td>[might, perhaps, slightly, jumped, gun]</td>\n",
              "      <td>[Academics]</td>\n",
              "      <td>1</td>\n",
              "      <td>0</td>\n",
              "      <td>0</td>\n",
              "      <td>0</td>\n",
              "      <td>0</td>\n",
              "      <td>0</td>\n",
              "    </tr>\n",
              "    <tr>\n",
              "      <th>122</th>\n",
              "      <td>122</td>\n",
              "      <td>1</td>\n",
              "      <td>male</td>\n",
              "      <td>[zoologist]</td>\n",
              "      <td>[United Kingdom]</td>\n",
              "      <td>13</td>\n",
              "      <td>Very High</td>\n",
              "      <td>[hoping, public, might, able, provide, valuabl...</td>\n",
              "      <td>[Academics]</td>\n",
              "      <td>1</td>\n",
              "      <td>0</td>\n",
              "      <td>0</td>\n",
              "      <td>0</td>\n",
              "      <td>0</td>\n",
              "      <td>0</td>\n",
              "    </tr>\n",
              "    <tr>\n",
              "      <th>153</th>\n",
              "      <td>153</td>\n",
              "      <td>1</td>\n",
              "      <td>male</td>\n",
              "      <td>[geographer]</td>\n",
              "      <td>[United Kingdom]</td>\n",
              "      <td>13</td>\n",
              "      <td>Very High</td>\n",
              "      <td>[little, bit, datadriven]</td>\n",
              "      <td>[Academics]</td>\n",
              "      <td>1</td>\n",
              "      <td>0</td>\n",
              "      <td>0</td>\n",
              "      <td>0</td>\n",
              "      <td>0</td>\n",
              "      <td>0</td>\n",
              "    </tr>\n",
              "    <tr>\n",
              "      <th>...</th>\n",
              "      <td>...</td>\n",
              "      <td>...</td>\n",
              "      <td>...</td>\n",
              "      <td>...</td>\n",
              "      <td>...</td>\n",
              "      <td>...</td>\n",
              "      <td>...</td>\n",
              "      <td>...</td>\n",
              "      <td>...</td>\n",
              "      <td>...</td>\n",
              "      <td>...</td>\n",
              "      <td>...</td>\n",
              "      <td>...</td>\n",
              "      <td>...</td>\n",
              "      <td>...</td>\n",
              "    </tr>\n",
              "    <tr>\n",
              "      <th>650836</th>\n",
              "      <td>24038</td>\n",
              "      <td>1</td>\n",
              "      <td>male</td>\n",
              "      <td>[rugby union player]</td>\n",
              "      <td>[Ireland]</td>\n",
              "      <td>2</td>\n",
              "      <td>Very High</td>\n",
              "      <td>[good, thing, there, fine, line, excited, emot...</td>\n",
              "      <td>[Academics, Academics, Academics]</td>\n",
              "      <td>1</td>\n",
              "      <td>0</td>\n",
              "      <td>0</td>\n",
              "      <td>0</td>\n",
              "      <td>0</td>\n",
              "      <td>0</td>\n",
              "    </tr>\n",
              "    <tr>\n",
              "      <th>650837</th>\n",
              "      <td>24039</td>\n",
              "      <td>1</td>\n",
              "      <td>male</td>\n",
              "      <td>[rugby union player]</td>\n",
              "      <td>[Ireland]</td>\n",
              "      <td>2</td>\n",
              "      <td>Very High</td>\n",
              "      <td>[good, thing, there, fine, line, excited, emot...</td>\n",
              "      <td>[Academics, Academics, Academics]</td>\n",
              "      <td>1</td>\n",
              "      <td>0</td>\n",
              "      <td>0</td>\n",
              "      <td>0</td>\n",
              "      <td>0</td>\n",
              "      <td>0</td>\n",
              "    </tr>\n",
              "    <tr>\n",
              "      <th>650837</th>\n",
              "      <td>24039</td>\n",
              "      <td>1</td>\n",
              "      <td>male</td>\n",
              "      <td>[rugby union player]</td>\n",
              "      <td>[Ireland]</td>\n",
              "      <td>2</td>\n",
              "      <td>Very High</td>\n",
              "      <td>[good, thing, there, fine, line, excited, emot...</td>\n",
              "      <td>[Academics, Academics, Academics]</td>\n",
              "      <td>1</td>\n",
              "      <td>0</td>\n",
              "      <td>0</td>\n",
              "      <td>0</td>\n",
              "      <td>0</td>\n",
              "      <td>0</td>\n",
              "    </tr>\n",
              "    <tr>\n",
              "      <th>650837</th>\n",
              "      <td>24039</td>\n",
              "      <td>1</td>\n",
              "      <td>male</td>\n",
              "      <td>[rugby union player]</td>\n",
              "      <td>[Ireland]</td>\n",
              "      <td>2</td>\n",
              "      <td>Very High</td>\n",
              "      <td>[good, thing, there, fine, line, excited, emot...</td>\n",
              "      <td>[Academics, Academics, Academics]</td>\n",
              "      <td>1</td>\n",
              "      <td>0</td>\n",
              "      <td>0</td>\n",
              "      <td>0</td>\n",
              "      <td>0</td>\n",
              "      <td>0</td>\n",
              "    </tr>\n",
              "    <tr>\n",
              "      <th>650839</th>\n",
              "      <td>24041</td>\n",
              "      <td>1</td>\n",
              "      <td>male</td>\n",
              "      <td>[hurler]</td>\n",
              "      <td>[Ireland]</td>\n",
              "      <td>2</td>\n",
              "      <td>Very High</td>\n",
              "      <td>[real, championship, fare, look, match, look, ...</td>\n",
              "      <td>[Academics]</td>\n",
              "      <td>1</td>\n",
              "      <td>0</td>\n",
              "      <td>0</td>\n",
              "      <td>0</td>\n",
              "      <td>0</td>\n",
              "      <td>0</td>\n",
              "    </tr>\n",
              "  </tbody>\n",
              "</table>\n",
              "<p>21949 rows × 15 columns</p>\n",
              "</div>"
            ],
            "text/plain": [
              "        index  numOccurrences gender  ... Other_jobs P.E.M_jobs  Sport_jobs\n",
              "26         26               1   male  ...          0          0           0\n",
              "96         96               1   male  ...          0          0           0\n",
              "114       114               2   male  ...          0          0           0\n",
              "122       122               1   male  ...          0          0           0\n",
              "153       153               1   male  ...          0          0           0\n",
              "...       ...             ...    ...  ...        ...        ...         ...\n",
              "650836  24038               1   male  ...          0          0           0\n",
              "650837  24039               1   male  ...          0          0           0\n",
              "650837  24039               1   male  ...          0          0           0\n",
              "650837  24039               1   male  ...          0          0           0\n",
              "650839  24041               1   male  ...          0          0           0\n",
              "\n",
              "[21949 rows x 15 columns]"
            ]
          },
          "metadata": {},
          "execution_count": 14
        }
      ]
    },
    {
      "cell_type": "code",
      "metadata": {
        "id": "u6IQ7lxFJNbO"
      },
      "source": [
        "chi2, p_values = find_correlation(data2020)"
      ],
      "execution_count": null,
      "outputs": []
    },
    {
      "cell_type": "code",
      "metadata": {
        "colab": {
          "base_uri": "https://localhost:8080/",
          "height": 613
        },
        "id": "P8Ny0fTMSxkf",
        "outputId": "9cc8a261-818a-4310-fe65-8de6ba029058"
      },
      "source": [
        "class_occ_exploded = data2020.explode('Class_Occup')\n",
        "top_class_occ_list = class_occ_exploded['Class_Occup'].value_counts()[:15]\n",
        "top_class_occ_df = class_occ_exploded[class_occ_exploded['Class_Occup'].isin(top_class_occ_list.keys())]\n",
        "top_class_occ = top_class_occ_df.groupby(['Class_Occup','gender'])['Class_Occup'].count().unstack('gender')\n",
        "\n",
        "top_class_occ.plot(kind='bar', stacked = True)\n",
        "#plt.xticks(rotation=45)\n",
        "plt.xlabel(\"Most common class of occupations\")\n",
        "plt.ylabel(\"Number of occurrences\")\n",
        "plt.title(\"Frequency of speakers' occupation extracted from quotes stratified by gender\")\n",
        "\n",
        "top_class_occ.plot(kind='bar', log = True, stacked = True)\n",
        "#plt.xticks(rotation=45)\n",
        "plt.xlabel(\"Most common class of occupations\")\n",
        "plt.ylabel(\"Number of occurrences\")\n",
        "plt.title(\"Frequency of speakers' occupation stratified by gender (log scale)\")\n",
        "\n",
        "plt.show()"
      ],
      "execution_count": null,
      "outputs": [
        {
          "output_type": "display_data",
          "data": {
            "image/png": "[encoded data removed]",
            "text/plain": [
              "<Figure size 432x288 with 1 Axes>"
            ]
          },
          "metadata": {
            "needs_background": "light"
          }
        },
        {
          "output_type": "display_data",
          "data": {
            "image/png": "[encoded data removed]",
            "text/plain": [
              "<Figure size 432x288 with 1 Axes>"
            ]
          },
          "metadata": {
            "needs_background": "light"
          }
        }
      ]
    },
    {
      "cell_type": "code",
      "metadata": {
        "id": "YG8CZ9vonV0-"
      },
      "source": [
        "# Here we would like to observe the same thing as above but stratified by gender\n",
        "\n",
        "import matplotlib.pyplot as plt\n",
        "import matplotlib.patches as mpatches\n",
        "\n",
        "def viewbar(feature, n=10):\n",
        "  plt.figure(figsize=(16,8))\n",
        "  plt.bar(*zip(*agg_2020[feature+'_frequency'].most_common(n+1)[1:]),color='pink')\n",
        "  plt.bar(*zip(*agg_2020[feature+'_male_frequency'].most_common(n+1)[1:]),color='blue')\n",
        "  plt.xlabel(f\"Most common {feature}\")\n",
        "  plt.ylabel(\"Number of occurrences\")\n",
        "  plt.title(f\"Frequency of the most common speakers' {feature} extracted from quotes and stratified by gender\")\n",
        "  plt.xticks(rotation=45)\n",
        "\n",
        "  plt.legend(handles=[mpatches.Patch(color='pink', label='female'),mpatches.Patch(color='blue', label='male')])\n",
        "  plt.show()\n",
        "\n",
        "viewbar('countries')"
      ],
      "execution_count": null,
      "outputs": []
    },
    {
      "cell_type": "code",
      "metadata": {
        "id": "uQorniQRoAIh"
      },
      "source": [
        "viewbar('occupations')"
      ],
      "execution_count": null,
      "outputs": []
    },
    {
      "cell_type": "code",
      "metadata": {
        "id": "eHFZVexSY_DW"
      },
      "source": [
        "plt.bar(*zip(*agg_2020['words_frequency'].most_common(10)))\n",
        "plt.xlabel(\"Most common words\")\n",
        "plt.ylabel(\"Number of occurrences\")\n",
        "plt.title(\"Frequency of the most common words extracted from quotes\")\n",
        "plt.xticks(rotation=45)\n",
        "plt.show()"
      ],
      "execution_count": null,
      "outputs": []
    },
    {
      "cell_type": "markdown",
      "metadata": {
        "id": "JRMvmkDsmi5c"
      },
      "source": [
        "## Relative keywords change"
      ]
    },
    {
      "cell_type": "markdown",
      "metadata": {
        "id": "Y3_qF6k_VZlh"
      },
      "source": [
        "As we can see from the graph with the frequency of the most common keywords above, those words are not very meaningful and do not give us any insights, and many of them are filler or syntax words.\n",
        "\n",
        "Therefore, we shift our strategy of looking at the keywords, and instead of viewing them through the absolute values of occurences, we want to inspect new trends occuring in the dataset.\n",
        "\n",
        "For that, we look at the relative change of the keywords over the years. We are interested in two kinds of trends\n",
        "\n",
        "1. New words words that were not present the year before\n",
        "2. Words with a relatively big spike of occurences\n",
        "\n",
        "Doing this naively generates noise - a word with a seemingly huge relative change (10 times more popular) could be just used 10 times as opposed to once the last year. Do deal with this noise, we set a treshold of minimal number of occurences to consider a word."
      ]
    },
    {
      "cell_type": "code",
      "metadata": {
        "id": "J6Plj-3VVYGE"
      },
      "source": [
        "RELEVANCE_THRESHOLD = 100\n",
        "\n",
        "def get_interval(y1, y2):\n",
        "  '''Creates interval between two years.'''\n",
        "\n",
        "  return f\"{y1}-{y2}\"\n",
        "\n",
        "def unfold_interval(i):\n",
        "  return list(map(int, i.split('-')))\n",
        "\n",
        "\n",
        "def relative_change_in_time(years_agg, years):\n",
        "  '''Calculates the relative change of keywords over time.'''\n",
        "\n",
        "  first_year = years[0]\n",
        "  relative_change = defaultdict(lambda : {}) \n",
        "  \n",
        "  # stocks dictionaries for each year\n",
        "  dictionaries = {year: years_agg[year]['words_frequency'] for year in years}\n",
        "\n",
        "  # if the word was present in the previous dictionary already and its count was bigger \n",
        "  # than a threshold, then we add the relative count between the two years\n",
        "  for year, frequencies in dictionaries.items():\n",
        "      if year == first_year:\n",
        "        continue\n",
        "      for word, count in frequencies.items():\n",
        "          previous_count = dictionaries.get(year-1, {}).get(word, 0)\n",
        "          key = get_interval(year-1, year)\n",
        "          if count < RELEVANCE_THRESHOLD and previous_count != 0:\n",
        "            relative_change[key][word] = -1\n",
        "          elif previous_count != 0:\n",
        "            relative_change[key][word] = count / previous_count\n",
        "          else:\n",
        "            relative_change[key][word] = None\n",
        "  return relative_change\n",
        "\n",
        "\n",
        "def highest_spikes(relative_change, interval, count=1):\n",
        "  '''Finds the biggest relative changes.'''\n",
        "\n",
        "  changes = filter(lambda x: x[1] is not None, relative_change[interval].items())\n",
        "  return sorted(changes, key=lambda x: x[1], reverse=True)[:count]\n",
        "\n",
        "\n",
        "def new_trending_words(years_agg, relative_change, interval, count):\n",
        "  '''Finds the new appearing words.'''\n",
        "\n",
        "  new_year = unfold_interval(interval)[1]\n",
        "  get_freq = lambda word: years_agg[new_year]['words_frequency'][word]\n",
        "\n",
        "  return Counter({\n",
        "      word: get_freq(word)\n",
        "      for word, change in relative_change[interval].items()\n",
        "      if change is None\n",
        "  }).most_common(count)"
      ],
      "execution_count": null,
      "outputs": []
    },
    {
      "cell_type": "code",
      "metadata": {
        "id": "lLrvtsHwXBN2"
      },
      "source": [
        "# Let's show how it works with a little demo\n",
        "\n",
        "years = [2018, 2019]\n",
        "years_agg = run_chunks_across_years(years, chunk_size=200_000, num_of_chunks=10)"
      ],
      "execution_count": null,
      "outputs": []
    },
    {
      "cell_type": "code",
      "metadata": {
        "id": "fwyceTDWFPqY",
        "colab": {
          "base_uri": "https://localhost:8080/",
          "height": 312
        },
        "outputId": "29ba9999-2fd8-417c-fb64-4c58ef775027"
      },
      "source": [
        "r_t = relative_change_in_time(years_agg, years)"
      ],
      "execution_count": null,
      "outputs": [
        {
          "output_type": "error",
          "ename": "TypeError",
          "evalue": "ignored",
          "traceback": [
            "\u001b[0;31m---------------------------------------------------------------------------\u001b[0m",
            "\u001b[0;31mTypeError\u001b[0m                                 Traceback (most recent call last)",
            "\u001b[0;32m<ipython-input-33-aec8bf364085>\u001b[0m in \u001b[0;36m<module>\u001b[0;34m()\u001b[0m\n\u001b[0;32m----> 1\u001b[0;31m \u001b[0mr_t\u001b[0m \u001b[0;34m=\u001b[0m \u001b[0mrelative_change_in_time\u001b[0m\u001b[0;34m(\u001b[0m\u001b[0myears_agg\u001b[0m\u001b[0;34m,\u001b[0m \u001b[0myears\u001b[0m\u001b[0;34m)\u001b[0m\u001b[0;34m\u001b[0m\u001b[0;34m\u001b[0m\u001b[0m\n\u001b[0m",
            "\u001b[0;32m<ipython-input-29-7e14e4e198c3>\u001b[0m in \u001b[0;36mrelative_change_in_time\u001b[0;34m(years_agg, years)\u001b[0m\n\u001b[1;32m     17\u001b[0m \u001b[0;34m\u001b[0m\u001b[0m\n\u001b[1;32m     18\u001b[0m   \u001b[0;31m# stocks dictionaries for each year\u001b[0m\u001b[0;34m\u001b[0m\u001b[0;34m\u001b[0m\u001b[0;34m\u001b[0m\u001b[0m\n\u001b[0;32m---> 19\u001b[0;31m   \u001b[0mdictionaries\u001b[0m \u001b[0;34m=\u001b[0m \u001b[0;34m{\u001b[0m\u001b[0myear\u001b[0m\u001b[0;34m:\u001b[0m \u001b[0myears_agg\u001b[0m\u001b[0;34m[\u001b[0m\u001b[0myear\u001b[0m\u001b[0;34m]\u001b[0m\u001b[0;34m[\u001b[0m\u001b[0;34m'words_frequency'\u001b[0m\u001b[0;34m]\u001b[0m \u001b[0;32mfor\u001b[0m \u001b[0myear\u001b[0m \u001b[0;32min\u001b[0m \u001b[0myears\u001b[0m\u001b[0;34m}\u001b[0m\u001b[0;34m\u001b[0m\u001b[0;34m\u001b[0m\u001b[0m\n\u001b[0m\u001b[1;32m     20\u001b[0m \u001b[0;34m\u001b[0m\u001b[0m\n\u001b[1;32m     21\u001b[0m   \u001b[0;31m# if the word was present in the previous dictionary already and its count was bigger\u001b[0m\u001b[0;34m\u001b[0m\u001b[0;34m\u001b[0m\u001b[0;34m\u001b[0m\u001b[0m\n",
            "\u001b[0;32m<ipython-input-29-7e14e4e198c3>\u001b[0m in \u001b[0;36m<dictcomp>\u001b[0;34m(.0)\u001b[0m\n\u001b[1;32m     17\u001b[0m \u001b[0;34m\u001b[0m\u001b[0m\n\u001b[1;32m     18\u001b[0m   \u001b[0;31m# stocks dictionaries for each year\u001b[0m\u001b[0;34m\u001b[0m\u001b[0;34m\u001b[0m\u001b[0;34m\u001b[0m\u001b[0m\n\u001b[0;32m---> 19\u001b[0;31m   \u001b[0mdictionaries\u001b[0m \u001b[0;34m=\u001b[0m \u001b[0;34m{\u001b[0m\u001b[0myear\u001b[0m\u001b[0;34m:\u001b[0m \u001b[0myears_agg\u001b[0m\u001b[0;34m[\u001b[0m\u001b[0myear\u001b[0m\u001b[0;34m]\u001b[0m\u001b[0;34m[\u001b[0m\u001b[0;34m'words_frequency'\u001b[0m\u001b[0;34m]\u001b[0m \u001b[0;32mfor\u001b[0m \u001b[0myear\u001b[0m \u001b[0;32min\u001b[0m \u001b[0myears\u001b[0m\u001b[0;34m}\u001b[0m\u001b[0;34m\u001b[0m\u001b[0;34m\u001b[0m\u001b[0m\n\u001b[0m\u001b[1;32m     20\u001b[0m \u001b[0;34m\u001b[0m\u001b[0m\n\u001b[1;32m     21\u001b[0m   \u001b[0;31m# if the word was present in the previous dictionary already and its count was bigger\u001b[0m\u001b[0;34m\u001b[0m\u001b[0;34m\u001b[0m\u001b[0;34m\u001b[0m\u001b[0m\n",
            "\u001b[0;31mTypeError\u001b[0m: 'generator' object is not subscriptable"
          ]
        }
      ]
    },
    {
      "cell_type": "code",
      "metadata": {
        "id": "9wtWZ5cyqI9Z"
      },
      "source": [
        "highest_spikes(r_t, get_interval(years[0], years[1]), 30)"
      ],
      "execution_count": null,
      "outputs": []
    },
    {
      "cell_type": "code",
      "metadata": {
        "id": "XuIk5Z738k3f"
      },
      "source": [
        "new_trending_words(years_agg, r_t, get_interval(years[0], years[1]), 20)"
      ],
      "execution_count": null,
      "outputs": []
    },
    {
      "cell_type": "markdown",
      "metadata": {
        "id": "Yn9fPiykmtZL"
      },
      "source": [
        "## Women representation"
      ]
    },
    {
      "cell_type": "markdown",
      "metadata": {
        "id": "izzheDKqZolG"
      },
      "source": [
        "Finally, we want to observe the relative representation of women in the most common occupations among the most frequent countries."
      ]
    },
    {
      "cell_type": "code",
      "metadata": {
        "id": "2cOFGLXQ9tyc"
      },
      "source": [
        "# Finding the 10 most recurring countries and occupations in the speaker_attrs dataset\n",
        "from collections import Counter\n",
        "Q_CODES_COLUMNS = ['nationality', 'occupation', 'gender']\n",
        "\n",
        "#Define a simpler dataframe with only the colums that interests us\n",
        "speaker_attrs_simp = pd.DataFrame(speaker_attrs, columns = Q_CODES_COLUMNS)\n",
        "\n",
        "discard_na(speaker_attrs_simp,'nationality')\n",
        "discard_na(speaker_attrs_simp,'occupation')\n",
        "\n",
        "all_countries = Counter(list(speaker_attrs_simp.nationality.explode()))\n",
        "all_occupations = Counter(list(speaker_attrs_simp.occupation.explode()))\n",
        "\n",
        "\n",
        "most_common_countries = all_countries.most_common(10)\n",
        "most_common_occupations = all_occupations.most_common(10)\n",
        "top_common_countries = [a_tuple[0] for a_tuple in most_common_countries]\n",
        "top_common_occupations = [a_tuple[0] for a_tuple in most_common_occupations]\n",
        "\n",
        "speaker_attrs_simp = speaker_attrs_simp.explode('nationality')\n",
        "speaker_attrs_simp = speaker_attrs_simp.explode('occupation')\n",
        "speaker_attrs_simp = speaker_attrs_simp.explode('gender')"
      ],
      "execution_count": null,
      "outputs": []
    },
    {
      "cell_type": "code",
      "metadata": {
        "id": "p2_zhjsct7m5"
      },
      "source": [
        "# Restricting the dataframe to work only with the most common countries, occupations and genders\n",
        "\n",
        "countries = speaker_attrs_simp[speaker_attrs_simp['nationality'].isin(top_common_countries)]\n",
        "countries = countries[countries['occupation'].isin(top_common_occupations)]\n",
        "countries = countries[countries['gender'].isin(['female','male'])]"
      ],
      "execution_count": null,
      "outputs": []
    },
    {
      "cell_type": "code",
      "metadata": {
        "id": "K9IEtpqXt2GQ",
        "colab": {
          "base_uri": "https://localhost:8080/",
          "height": 1000
        },
        "outputId": "af5d6153-215c-4b6b-cd38-e0f6b4416464"
      },
      "source": [
        "# Plot of the distribution of the 10 most common occupations stratified by gender for each of the 10 most common countries\n",
        "\n",
        "for i in range(len(list(countries['nationality'].value_counts()))):\n",
        "  subset = countries[countries['nationality'] == top_common_countries[i]]\n",
        "  ax = pd.crosstab(subset['occupation'],subset['gender']).plot(kind='bar', stacked=True)\n",
        "  ax.yaxis.grid(True)\n",
        "  ax.set_title(f'{top_common_countries[i]}')\n",
        "  ax.set_xlabel('Most common occupations')\n",
        "  ax.set_ylabel('Nb of people')"
      ],
      "execution_count": null,
      "outputs": [
        {
          "output_type": "display_data",
          "data": {
            "image/png": "[encoded data removed]",
            "text/plain": [
              "<Figure size 432x288 with 1 Axes>"
            ]
          },
          "metadata": {
            "needs_background": "light"
          }
        },
        {
          "output_type": "display_data",
          "data": {
            "image/png": "[encoded data removed]",
            "text/plain": [
              "<Figure size 432x288 with 1 Axes>"
            ]
          },
          "metadata": {
            "needs_background": "light"
          }
        },
        {
          "output_type": "display_data",
          "data": {
            "image/png": "[encoded data removed]",
            "text/plain": [
              "<Figure size 432x288 with 1 Axes>"
            ]
          },
          "metadata": {
            "needs_background": "light"
          }
        },
        {
          "output_type": "display_data",
          "data": {
            "image/png": "[encoded data removed]",
            "text/plain": [
              "<Figure size 432x288 with 1 Axes>"
            ]
          },
          "metadata": {
            "needs_background": "light"
          }
        },
        {
          "output_type": "display_data",
          "data": {
            "image/png": "[encoded data removed]",
            "text/plain": [
              "<Figure size 432x288 with 1 Axes>"
            ]
          },
          "metadata": {
            "needs_background": "light"
          }
        },
        {
          "output_type": "display_data",
          "data": {
            "image/png": "[encoded data removed]",
            "text/plain": [
              "<Figure size 432x288 with 1 Axes>"
            ]
          },
          "metadata": {
            "needs_background": "light"
          }
        },
        {
          "output_type": "display_data",
          "data": {
            "image/png": "[encoded data removed]",
            "text/plain": [
              "<Figure size 432x288 with 1 Axes>"
            ]
          },
          "metadata": {
            "needs_background": "light"
          }
        },
        {
          "output_type": "display_data",
          "data": {
            "image/png": "[encoded data removed]",
            "text/plain": [
              "<Figure size 432x288 with 1 Axes>"
            ]
          },
          "metadata": {
            "needs_background": "light"
          }
        },
        {
          "output_type": "display_data",
          "data": {
            "image/png": "[encoded data removed]",
            "text/plain": [
              "<Figure size 432x288 with 1 Axes>"
            ]
          },
          "metadata": {
            "needs_background": "light"
          }
        },
        {
          "output_type": "display_data",
          "data": {
            "image/png": "[encoded data removed]",
            "text/plain": [
              "<Figure size 432x288 with 1 Axes>"
            ]
          },
          "metadata": {
            "needs_background": "light"
          }
        }
      ]
    },
    {
      "cell_type": "markdown",
      "metadata": {
        "id": "_IAqmUElLbzM"
      },
      "source": [
        "We will perform tests for correlations to assess any relationships between the features and the success of the quote."
      ]
    },
    {
      "cell_type": "code",
      "metadata": {
        "id": "p1SA2sbALm-F"
      },
      "source": [
        "# Test with linear model :\n",
        "# - How to unify all the chunks together to have a better model ?\n",
        "# - Since we process chunk by chunk can we combine models ?\n",
        "# - "
      ],
      "execution_count": null,
      "outputs": []
    },
    {
      "cell_type": "code",
      "metadata": {
        "id": "52AeZoFCTj1j"
      },
      "source": [
        "import seaborn as sns\n",
        "processed_chunk_df = processed_chunk_df.explode('occupation')\n",
        "processed_chunk_df_new = pd.DataFrame(processed_chunk_df, columns = ['occupation', 'N',\t'Development',\t'g'])\n",
        "processed_chunk_df_dummies = pd.get_dummies(processed_chunk_df_new)"
      ],
      "execution_count": null,
      "outputs": []
    }
  ]
}