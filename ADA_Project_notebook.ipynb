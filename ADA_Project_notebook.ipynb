{
  "nbformat": 4,
  "nbformat_minor": 0,
  "metadata": {
    "colab": {
      "name": "ADA Project notebook.ipynb",
      "provenance": [],
      "collapsed_sections": [],
      "toc_visible": true
    },
    "kernelspec": {
      "name": "python3",
      "display_name": "Python 3"
    },
    "language_info": {
      "name": "python"
    }
  },
  "cells": [
    {
      "cell_type": "markdown",
      "metadata": {
        "id": "TP-4PLHMgewa"
      },
      "source": [
        "# This is a Man's word"
      ]
    },
    {
      "cell_type": "markdown",
      "metadata": {
        "id": "S07jAqp6KBtF"
      },
      "source": [
        "## Project setup"
      ]
    },
    {
      "cell_type": "markdown",
      "metadata": {
        "id": "oA_fe4oxWT6p"
      },
      "source": [
        "Mouting the Google Drive"
      ]
    },
    {
      "cell_type": "code",
      "metadata": {
        "id": "CEcIlRwfWY4C",
        "colab": {
          "base_uri": "https://localhost:8080/"
        },
        "outputId": "680a5af8-11b3-45f3-9356-f195651dc14e"
      },
      "source": [
        "from google.colab import drive\n",
        "drive.mount('/content/drive')"
      ],
      "execution_count": 120,
      "outputs": [
        {
          "output_type": "stream",
          "name": "stdout",
          "text": [
            "Drive already mounted at /content/drive; to attempt to forcibly remount, call drive.mount(\"/content/drive\", force_remount=True).\n"
          ]
        }
      ]
    },
    {
      "cell_type": "markdown",
      "metadata": {
        "id": "K0Rm1O9hcRsD"
      },
      "source": [
        "### Installing dependencies"
      ]
    },
    {
      "cell_type": "code",
      "source": [
        "# Toggle in order to install dependencies as you run the notebook\n",
        "INSTALL_DEPS = False"
      ],
      "metadata": {
        "id": "oJhVwuNAYuTL"
      },
      "execution_count": 121,
      "outputs": []
    },
    {
      "cell_type": "code",
      "metadata": {
        "id": "H35l_730tOxM"
      },
      "source": [
        "if INSTALL_DEPS:\n",
        "  !pip install nltk gensim spacy\n",
        "  !pip install empath\n",
        "  !python -m spacy download en\n",
        "  !python -m nltk.downloader punkt\n",
        "  !python -m nltk.downloader all-corpora\n",
        "  !pip install fastparquet\n",
        "  !pip install toolz"
      ],
      "execution_count": 122,
      "outputs": []
    },
    {
      "cell_type": "code",
      "metadata": {
        "id": "hyULyh3PPOa8"
      },
      "source": [
        "if INSTALL_DEPS:\n",
        "  !pip install pyLDAvis\n",
        "  !pip install \"openpyxl>=3.0\"\n",
        "  !pip3 install pickle5\n",
        "  !pip install -Uqq ipdb"
      ],
      "execution_count": 123,
      "outputs": []
    },
    {
      "cell_type": "code",
      "source": [
        "%pdb off"
      ],
      "metadata": {
        "id": "mSnHHF6DEd3o",
        "colab": {
          "base_uri": "https://localhost:8080/"
        },
        "outputId": "b938ee27-c7c5-4cc4-8df8-1f293957be62"
      },
      "execution_count": 124,
      "outputs": [
        {
          "output_type": "stream",
          "name": "stdout",
          "text": [
            "Automatic pdb calling has been turned OFF\n"
          ]
        }
      ]
    },
    {
      "cell_type": "markdown",
      "metadata": {
        "id": "n_sHJwofIFTy"
      },
      "source": [
        "### Importing libraries"
      ]
    },
    {
      "cell_type": "code",
      "metadata": {
        "id": "oiBmOyW90e-0"
      },
      "source": [
        "import pandas as pd\n",
        "import bz2\n",
        "import json\n",
        "import string\n",
        "import re\n",
        "import matplotlib.pyplot as plt\n",
        "import requests\n",
        "import nltk\n",
        "import gc\n",
        "import ipdb\n",
        "import os\n",
        "from math import ceil\n",
        "import numpy as np\n",
        "\n",
        "import spacy, nltk, gensim, sklearn\n",
        "import pyLDAvis.gensim_models\n",
        "\n",
        "from nltk.corpus import stopwords\n",
        "from nltk.stem.porter import PorterStemmer\n",
        "from nltk.tokenize import RegexpTokenizer\n",
        "from nltk.stem.wordnet import WordNetLemmatizer\n",
        "from collections import Counter\n",
        "from collections import defaultdict\n",
        "from functools import partial\n",
        "from toolz import compose\n",
        "from itertools import product\n",
        "import pickle5 as pickle\n",
        "\n",
        "from gensim.models.coherencemodel import CoherenceModel\n",
        "from gensim.corpora import Dictionary\n",
        "from gensim.models import LdaMulticore"
      ],
      "execution_count": 125,
      "outputs": []
    },
    {
      "cell_type": "code",
      "metadata": {
        "id": "_cLKu1d5XVCr"
      },
      "source": [
        "if INSTALL_DEPS:\n",
        "  nltk.download('punkt')\n",
        "  nltk.download('wordnet')\n",
        "  nltk.download('stopwords')\n",
        "  nltk.download('averaged_perceptron_tagger')"
      ],
      "execution_count": 126,
      "outputs": []
    },
    {
      "cell_type": "markdown",
      "metadata": {
        "id": "CM2arR3CCoY8"
      },
      "source": [
        "We disable the warnings - in general it's a bad practice and should be avoided in any longer-maintained project. Nonetheless, while training the model we get a warning about a deprecated function in one of the dependencies - it's prints the message thousands of times and thus slows down the training phase and affects readability."
      ]
    },
    {
      "cell_type": "code",
      "metadata": {
        "id": "QhdFXXjvq2mo"
      },
      "source": [
        "import warnings\n",
        "warnings.filterwarnings('ignore')\n",
        "warnings.simplefilter('ignore')"
      ],
      "execution_count": 127,
      "outputs": []
    },
    {
      "cell_type": "markdown",
      "metadata": {
        "id": "1LvPIZ1HIY0R"
      },
      "source": [
        "### Loading dataset"
      ]
    },
    {
      "cell_type": "code",
      "metadata": {
        "id": "uQ_3q79pIW1h"
      },
      "source": [
        "def get_path_to_file(year):\n",
        "  return f'/content/drive/MyDrive/Quotebank/quotes-{year}.json.bz2'\n",
        "\n",
        "def load_speaker_attrs():\n",
        "  return pd.read_parquet(\"/content/drive/MyDrive/Project datasets/speaker_attributes.parquet\")\n",
        "\n",
        "def load_attrs_labels():\n",
        "  return pd.read_csv('/content/drive/MyDrive/Project datasets/wikidata_labels_descriptions_quotebank.csv.bz2', compression='bz2', index_col='QID')\n",
        "\n",
        "def get_wikidata_uri(q):\n",
        "  return f\"https://www.wikidata.org/w/api.php?action=wbgetentities&ids={q}&languages=en&format=json\""
      ],
      "execution_count": 128,
      "outputs": []
    },
    {
      "cell_type": "markdown",
      "metadata": {
        "id": "Q0MtVCX7KF32"
      },
      "source": [
        "## Processing speaker attributes"
      ]
    },
    {
      "cell_type": "markdown",
      "metadata": {
        "id": "GHWXvtKwcnVO"
      },
      "source": [
        "### Resolving Q-codes\n"
      ]
    },
    {
      "cell_type": "markdown",
      "metadata": {
        "id": "4h_JMH5yKwLy"
      },
      "source": [
        "TODO: nice description"
      ]
    },
    {
      "cell_type": "code",
      "metadata": {
        "id": "QdORt-RsBBop"
      },
      "source": [
        "def resolve_q_code(labels, q):\n",
        "  '''Returns label of the QCODE if found.'''\n",
        "  try:\n",
        "    return labels.loc[q]['Label']\n",
        "  except KeyError:\n",
        "    return None\n",
        "\n",
        "def untangle_codes(codes, labels):\n",
        "  discard_none = lambda xs: filter(lambda x: x is not None, xs)\n",
        "  resolve_code = partial(resolve_q_code, labels)\n",
        "  return compose(\n",
        "    list,\n",
        "    discard_none,\n",
        "    partial(map, resolve_code)\n",
        "  )(codes)\n",
        "\n",
        "def interpolate_q_codes_new_way(df, labels, columns):\n",
        "  '''Adds labeled features to the df.'''\n",
        "  for col in columns:\n",
        "    df[col] = df[col].apply(lambda codes: untangle_codes(codes, labels) if codes is not None else None)"
      ],
      "execution_count": 129,
      "outputs": []
    },
    {
      "cell_type": "markdown",
      "metadata": {
        "id": "w6l6Wq1PF4H0"
      },
      "source": [
        "We want to associate the quote's speaker with an entry in speaker attributes dataframe. However, as in the Quotebank aliases might have been used, we construct an **Alias Name -> Index in Speaker attrs** mapping.\n",
        "\n",
        "This mapping is then left-joined with quote's speaker and with speaker attrs so that we can have full speaker metadata for a quote."
      ]
    },
    {
      "cell_type": "code",
      "metadata": {
        "id": "i0OZVc3bKjWe"
      },
      "source": [
        "def construct_speaker_names(speaker_attrs):\n",
        "  \"\"\"Associates the speaker attributes index with all speaker aliases\"\"\"\n",
        "  \n",
        "  speaker_names = speaker_attrs.aliases.explode().append(speaker_attrs.label)\n",
        "  speaker_names = speaker_names.drop(speaker_names[speaker_names.isna()].index)\n",
        "\n",
        "  speaker_names_df = pd.DataFrame({\"speaker\": speaker_names, \"speaker_attr_idx\": speaker_names.index})\n",
        "  speaker_names_df = speaker_names_df.set_index('speaker')\n",
        "  return speaker_names_df\n",
        "\n",
        "\n",
        "def clean_speaker_attrs(speaker_attrs):\n",
        "  return speaker_attrs[['nationality', 'gender', 'occupation', 'label']].copy()"
      ],
      "execution_count": 130,
      "outputs": []
    },
    {
      "cell_type": "code",
      "metadata": {
        "id": "fKwaPLfPEy-n"
      },
      "source": [
        "# If more columns with q-codes need to be resolved they should be added here\n",
        "Q_CODES_COLUMNS = ['nationality', 'occupation', 'gender']\n",
        "\n",
        "\n",
        "def process_speaker_attrs():\n",
        "  speaker_attrs = load_speaker_attrs()\n",
        "  attrs_labels = load_attrs_labels()\n",
        "\n",
        "  interpolate_q_codes_new_way(speaker_attrs, attrs_labels, Q_CODES_COLUMNS)\n",
        "  speaker_names_df = construct_speaker_names(speaker_attrs)\n",
        "  trimmed_speaker_attrs = clean_speaker_attrs(speaker_attrs)\n",
        "\n",
        "  return trimmed_speaker_attrs, speaker_names_df"
      ],
      "execution_count": 131,
      "outputs": []
    },
    {
      "cell_type": "markdown",
      "metadata": {
        "id": "wirz89QTHuCJ"
      },
      "source": [
        "**Run speaker attributes processing**\n",
        "\n",
        "Processing speaker attrs due to its size takes time - we have run\n",
        "it once and saved the results to pickle so that it can be loaded fast\n"
      ]
    },
    {
      "cell_type": "code",
      "metadata": {
        "id": "a5esDl0dHBwa"
      },
      "source": [
        "# Toggle to 1 if you want to re-proces attrs (most likley you don't want to)\n",
        "REPROCESS_SPEAKER_ATTRS = False\n",
        "\n",
        "if REPROCESS_SPEAKER_ATTRS:\n",
        "  speaker_attrs, speaker_names_df = process_speaker_attrs()\n",
        "  speaker_attrs.to_pickle(\"/content/drive/MyDrive/ADA/speaker_attrs__no_aliases.pkl\")\n",
        "  speaker_names_df.to_pickle(\"/content/drive/MyDrive/ADA/speaker_names_df.pkl\")"
      ],
      "execution_count": 132,
      "outputs": []
    },
    {
      "cell_type": "markdown",
      "metadata": {
        "id": "Z__OrCXDH2ot"
      },
      "source": [
        "**Load cached processed speaker attributes**"
      ]
    },
    {
      "cell_type": "code",
      "metadata": {
        "id": "KLaVujdKH3-s"
      },
      "source": [
        "# Toggle to 1 if you need speaker attributes in your further processing\n",
        "# Note that later we merge it with quotes dataset so most likley it's not necessary\n",
        "LOAD_SPEAKER_ATTRS = False\n",
        "\n",
        "if LOAD_SPEAKER_ATTRS:\n",
        "  speaker_attrs = pd.read_pickle(\"/content/drive/MyDrive/ADA/speaker_attrs__no_aliases.pkl\")\n",
        "  speaker_names_df = pd.read_pickle(\"/content/drive/MyDrive/ADA/speaker_names_df.pkl\")"
      ],
      "execution_count": 133,
      "outputs": []
    },
    {
      "cell_type": "markdown",
      "metadata": {
        "id": "T458n8A7KJcN"
      },
      "source": [
        "## Loading Human Development Index"
      ]
    },
    {
      "cell_type": "markdown",
      "metadata": {
        "id": "WnmLwB_hHyFl"
      },
      "source": [
        "We download now the Human Development Index dataset (HDI). The first nationality mentioned in the dataset for a given speaker is the one that we will match with the corresponding HDI score. HDI is represented as a number from 0 to 1, but we narrow down ourselves to four categories of developemnt:\n",
        "\n",
        "1. Very High\n",
        "1. High\n",
        "1. Medium\n",
        "1. Low\n",
        "\n",
        "with ranges defined by United Nations."
      ]
    },
    {
      "cell_type": "code",
      "metadata": {
        "id": "w1u2MehgIZQA"
      },
      "source": [
        "def load_HDI():\n",
        "  return pd.read_excel('/content/drive/MyDrive/ADA/HDI_list.xlsx')\n",
        "\n",
        "\n",
        "def merge_HDI_with_chunk(chunk_df):\n",
        "  '''Merges HDI score with speaker's first nationality'''\n",
        "\n",
        "  chunk_df['N'] = [next(iter(nationality), ' ') for nationality in chunk_df['nationality']]\n",
        "  chunk_df = pd.merge(chunk_df, HDI, on='N') \n",
        "  return chunk_df\n",
        "\n",
        "\n",
        "def merge_speaker_attrs_with_chunk(chunk_df):\n",
        "  '''Merges speakers attributes data based on speaker column'''  \n",
        "  chunk_df = chunk_df.join(speaker_names_df, on='speaker')\n",
        "\n",
        "  # discard quotes for which the speaker could not be found\n",
        "  chunk_df = chunk_df.drop(chunk_df[chunk_df.speaker_attr_idx.isna()].index)\n",
        "  return chunk_df.join(speaker_attrs, on='speaker_attr_idx')"
      ],
      "execution_count": 134,
      "outputs": []
    },
    {
      "cell_type": "code",
      "source": [
        "HDI = load_HDI()"
      ],
      "metadata": {
        "id": "YI7TkVPa23i5"
      },
      "execution_count": 135,
      "outputs": []
    },
    {
      "cell_type": "markdown",
      "source": [
        "##  Classifying occupations"
      ],
      "metadata": {
        "id": "RCP4kyL57fXy"
      }
    },
    {
      "cell_type": "markdown",
      "source": [
        "After looking at the 500 most common occupations, we manually created \"buckets\" ressembling similar jobs into 5 main categories:\n",
        "\n",
        "1.   Sports: it regroups athletes and people involved in the management/organization of teams: e.g football player, association football manager, swimmer, rower, race car driver...\n",
        "2.   Media: e.g journalist, television presenter, fashion model, influencer, web developer...\n",
        "\n",
        "3.   Economy_politics: it includes in fact 3 subcategories, people involved in the world of business (e.g economist, investment banker, business executive...), politics or state responsabilities (governor, deputy, minister...) or military service (military officer, military leader..).\n",
        "\n",
        "4.   Arts: e.g actor, writer, singer, rock musician, painter...\n",
        "\n",
        "5.   Academics: including scientists specialized in different fields and personnel in the healthcare domain (e. g data scientist, engineer, veterinarian...)\n",
        "\n",
        "We chose these categories as they include supposed men-dominant professions, for example in the fields of sports and politics, but also some thought to be more equally represented such as in the domains of academics or arts. This at least, represents a stereotype that we will test with further analyses.\n",
        "\n",
        "In the following steps, we will classify as 'Other' all those rows whose speaker's profession does not fall into one of our categories. In the case of speakers with multiple occupations, each of them will be classified as mentioned above. "
      ],
      "metadata": {
        "id": "jV650hZj9wcO"
      }
    },
    {
      "cell_type": "code",
      "source": [
        "def load_jobs_types():\n",
        "  JOBS_TYPES = [\"sports\", \"media\", \"important_people\", \"art\", \"academics\"]\n",
        "  jobs = {}\n",
        "\n",
        "  for job_type in JOBS_TYPES:\n",
        "    with open(f\"/content/drive/MyDrive/ADA/jobs_{job_type}.txt\", 'r') as f:\n",
        "        text = [line for line in f.read().split('\\n')]\n",
        "    jobs[job_type] = list(filter(bool, text))\n",
        "\n",
        "  return jobs\n",
        "\n",
        "\n",
        "def embed_occupation_class(chunk_df):\n",
        "  job_types = load_jobs_types()\n",
        "\n",
        "  class_occupation = []\n",
        "  for val in chunk_df.occupation:\n",
        "    person_occ = set()\n",
        "    for occ in val:\n",
        "      for job_type, jobs in job_types.items():\n",
        "        if occ in jobs:\n",
        "          person_occ |= {job_type}\n",
        "          break\n",
        "      else:\n",
        "        person_occ |= {\"Other\"}\n",
        "\n",
        "    class_occupation.append(list(person_occ))\n",
        "\n",
        "  chunk_df[\"Class_Occup\"] = pd.Series(class_occupation)\n",
        "  return chunk_df\n",
        "\n",
        "\n",
        "def clean_occupation(chunk_df):\n",
        "  '''Drops rows with missing occupation.'''\n",
        "  discard_na(chunk_df, 'occupation')\n",
        "  return chunk_df\n",
        "\n",
        "\n",
        "def save_most_common_jobs(df):\n",
        "    occ = df['occupation'].explode()\n",
        "    jobs = list(dict(Counter(occ).most_common(700)).keys())\n",
        "\n",
        "    with open(\"/content/drive/MyDrive/ADA/jobs.txt\", \"w\") as f:\n",
        "      for job in jobs:\n",
        "        if job is not None:\n",
        "          f.write(job + \"\\n\")"
      ],
      "metadata": {
        "id": "C641rNSM7kPo"
      },
      "execution_count": 136,
      "outputs": []
    },
    {
      "cell_type": "markdown",
      "source": [
        "## Data cleaning"
      ],
      "metadata": {
        "id": "9j0DeLLWc3fZ"
      }
    },
    {
      "cell_type": "markdown",
      "metadata": {
        "id": "4_qaqrUtKQXv"
      },
      "source": [
        "### Quotation cleaning"
      ]
    },
    {
      "cell_type": "markdown",
      "metadata": {
        "id": "JSLfaW1kMrHN"
      },
      "source": [
        "As the quotations will be the focus of a significant part of our further analysis, we designed the following pipeline to preprocess them: \n",
        "\n",
        "1) First the quotes are lower-cased and punctuation marks and extra white spaces are removed. \n",
        "\n",
        "2) Then, each quote is tokenized into chunks or words. \n",
        "\n",
        "3) We train a model imported from the Gensim library to find bigrams among the tokenized quotes. Bigrams are couples of words that often co-occur in given contexts: e.g CT scan, Prime Minister, United States etc. We would like to find only those pairs of words that form a meaningful bigram. In order to do so, we first need to introduce the notion of Pointwise Mutual Information (PMI) score (write equation here). This measure indicates how much more likely the two words co-occur than if they were independent. However, this method is very sensitive to rare combinations of words: for example, if 'abc def' appear once together as a bigram, but 'abc' and 'def' individually are not present in the text, this will result in a high PMI score for the bigram 'abc def'. In order to overcome this limitation, we will combine this method with a frequency filter to retain only those bigrams that appear with a frequency higher than an arbitrary threshold decided by us.\n",
        "\n",
        "\n",
        "\n",
        "\n",
        "\n",
        "\n",
        "\n"
      ]
    },
    {
      "cell_type": "code",
      "metadata": {
        "id": "GXuobWlIM4qK"
      },
      "source": [
        "ps = PorterStemmer()\n",
        "lem = WordNetLemmatizer()\n",
        "\n",
        "IGNORED_KEYWORDS_FOR_TOPICS = ['there', \"little_bit\", \"got_ta\", \"wan_na\", \"gon_na\", 'people', 'time', 'like', 'one', 'get', 'think', 'going', 'would', 'want', 'dont', 'need', 'know', 'really', 'good', 'thing', 'make', 'well', 'way', 'see', 'day', 'work', 'thats', 'lot', 'come', 'got', 'game', 'back', 'right', 'take', 'also', 'new', 'many', 'first', 'much', 'great', 'could', 'say', 'every', 'always', 'best', 'look', 'even', 'something', 'last', 'two', 'ive', 'still', 'important', 'keep', 'put', 'part', 'today', 'made', 'give', 'there', 'around', 'said', 'week', 'together', 'big', 'place', 'didnt', 'done', 'able', 'cant', 'working', 'sure', 'different', 'next', 'everyone', 'bit', 'change', 'little', 'end', 'youre', 'must', 'continue', 'long' , 'hard', 'everything', 'let', 'may', 'situation', 'point', 'getting', 'coming', 'theyre', 'three', 'thought', 'forward', 'kind', 'moment', 'away', 'looking', 'trying', 'stay', 'try', 'month', 'another', 'possible', 'believe', 'without', 'making', 'wanted', 'came', 'difficult', 'find', 'doesnt', 'anything', 'use', 'ever', 'person', 'problem', 'child', 'already', 'across', 'since', 'real', 'challenge', 'ensure', 'step', 'plan', 'might', 'experience', 'enough', 'seen', 'someone', 'actually', 'probably', 'far', 'tell', 'hand', 'matter', 'happen', 'whole', 'understand', 'quite', 'used', 'chance', 'clear', 'went', 'talk', 'bring', 'taking', 'whether', 'result', 'taken', 'given', 'started', 'open', 'obviously', 'feel', 'better', 'never', 'weve', 'show', 'guy', 'happy', 'start', 'decision', 'mean', 'young', 'strong', 'nothing', 'run', 'high', 'fact', 'become', 'four', 'wasnt', 'move', 'five', 'maybe', 'told', 'ready', 'happened', 'left', 'tough', 'saying', 'especially', 'knew', 'thank', 'took', 'anyone', 'huge', 'wont', 'yet', 'within', 'else', 'saw', 'sometimes', 'definitely', 'needed', 'name', 'talking', 'playing', 'play', 'played', 'pretty', 'second', 'group', 'call', 'question', 'reason', 'bad', 'amazing', 'nice', 'easy', 'including', 'shes', 'youve', 'havent', 'couldnt', 'absolutely', 'whatever', 'gave', 'towards', 'true', 'whats', 'gone', 'certainly', 'theyve', 'almost', 'yes', 'wouldnt', 'isnt', 'though', 'seeing', 'rather', 'giving', 'however', 'along', 'often', 'certain', 'completely', 'either', 'available', 'particularly', 'standard', 'successful', 'extremely', 'common', 'among', 'somebody', 'yeah', 'instead', 'ago', 'were', 'arent']\n",
        "part_of_speech_to_discard = ['IN', 'DT', 'CC', 'VB', 'VBD', 'VBG', 'VBN', 'VBP', 'VBZ', 'RB', 'RBR', 'RBS', 'POS', 'PRP', 'PRP']\n",
        "\n",
        "\n",
        "def normalize_quote(s:str) -> str:\n",
        "    \"\"\"\n",
        "    Lower text, remove punctuation and extra whitespace.\n",
        "    \"\"\"\n",
        "    \n",
        "    def white_space_fix(text):\n",
        "        return ' '.join(text.split())\n",
        "\n",
        "    def remove_punc(text):\n",
        "        exclude = set(string.punctuation)\n",
        "        return ''.join(ch for ch in text if ch not in exclude)\n",
        "\n",
        "    def lower(text):\n",
        "        return text.lower()\n",
        "    \n",
        "    return white_space_fix(remove_punc(lower(s)))\n",
        "\n",
        "\n",
        "def tokenize_words(series):\n",
        "    return series.apply(compose(nltk.tokenize.word_tokenize, normalize_quote))\n",
        "\n",
        "\n",
        "def train_bigrams_model(tokenized_words):\n",
        "  bigram = gensim.models.Phrases(tokenized_words, min_count=10, threshold=100)\n",
        "  return gensim.models.phrases.Phraser(bigram)\n",
        "\n",
        "\n",
        "def embed_bigrams(tokenized_words):\n",
        "  bigram_model = train_bigrams_model(tokenized_words)\n",
        "  return tokenized_words.apply(lambda x: bigram_model[x])\n",
        "\n",
        "\n",
        "def filter_useless_speach_parts(words):\n",
        "  # reference: https://www.ling.upenn.edu/courses/Fall_2003/ling001/penn_treebank_pos.html\n",
        "  return [\n",
        "    word for word, tag in nltk.pos_tag(words)\n",
        "    if str(tag) not in part_of_speech_to_discard\n",
        "  ]\n",
        "\n",
        "\n",
        "def extract_keywords(tokenized_words):\n",
        "  \"\"\"\n",
        "  - Tokenize text\n",
        "  - Excluded stop words\n",
        "  - Lemmatized resulting keywords\n",
        "  \"\"\"\n",
        "\n",
        "  stopwords = nltk.corpus.stopwords.words('english')\n",
        "  filtered_words = filter_useless_speach_parts(tokenized_words)\n",
        "\n",
        "  return [\n",
        "    lem.lemmatize(word)\n",
        "    for word in filtered_words\n",
        "    if word not in stopwords\n",
        "       and len(lem.lemmatize(word)) > 2\n",
        "       and word not in IGNORED_KEYWORDS_FOR_TOPICS\n",
        "       and lem.lemmatize(word) not in IGNORED_KEYWORDS_FOR_TOPICS\n",
        "  ]\n",
        "\n",
        "\n",
        "def drop_empty_keywords(chunk_df):\n",
        "  AT_LEAST_KEYWORDS = 2\n",
        "  return chunk_df[chunk_df.keywords.apply(\n",
        "      lambda x: x if len(x) >= AT_LEAST_KEYWORDS else None\n",
        "  ).notna()]\n"
      ],
      "execution_count": 137,
      "outputs": []
    },
    {
      "cell_type": "markdown",
      "source": [
        "### Clean features"
      ],
      "metadata": {
        "id": "NtevdD_LDahV"
      }
    },
    {
      "cell_type": "markdown",
      "metadata": {
        "id": "VZdiW4UBOSzs"
      },
      "source": [
        "The next step is the data cleaning: we discard from the dataset those quotes with missing attributed speaker, gender, nationality or occupation. \n"
      ]
    },
    {
      "cell_type": "code",
      "metadata": {
        "id": "vbf2efLcD9KX"
      },
      "source": [
        "def discard_na(df, col):\n",
        "  '''Drops rows with col value equal to None.'''\n",
        "  df[col].replace('None', pd.NA, inplace=True)\n",
        "  df.drop(df[df[col].isna() == True].index, inplace=True)\n",
        "\n",
        "\n",
        "def clean_speaker(chunk_df):\n",
        "  discard_na(chunk_df, 'speaker')\n",
        "  return chunk_df\n",
        "\n",
        "\n",
        "def clean_gender(chunk_df):\n",
        "  '''Drops rows with missing gender.'''\n",
        "  clean = lambda x: x[0] if x is not None and x[0] in [\"male\", \"female\"] else None\n",
        "  chunk_df['gender'] = chunk_df['gender'].apply(clean)\n",
        "  discard_na(chunk_df, 'gender')\n",
        "  return chunk_df\n",
        "\n",
        "\n",
        "def clean_nationality(chunk_df):\n",
        "  '''Drops rows with missing nationality.'''\n",
        "  _discard_na(chunk_df, 'nationality')\n",
        "  return chunk_df\n",
        "\n",
        "\n",
        "def drop_nonfrequent_quotes(chunk_df):\n",
        "  return chunk_df[chunk_df[\"numOccurrences\"] > 1]\n",
        "\n",
        "\n",
        "def drop_uncertain_speakers(chunk_df):\n",
        "  return chunk_df[chunk_df.probas.apply(lambda x: x[0][1]).astype(float) > 0.6]"
      ],
      "execution_count": 138,
      "outputs": []
    },
    {
      "cell_type": "markdown",
      "metadata": {
        "id": "EOayJbshjbnv"
      },
      "source": [
        "### Preprocess chunks"
      ]
    },
    {
      "cell_type": "markdown",
      "metadata": {
        "id": "UxS_xgd0T4YC"
      },
      "source": [
        "All the previous preprocessing and cleaning operations are called into the following function to process each chunk.\n"
      ]
    },
    {
      "cell_type": "code",
      "metadata": {
        "id": "IUeMCV5HT1Ux"
      },
      "source": [
        "COLUMNS_OF_INTEREST = [\n",
        "  'numOccurrences', 'gender', 'occupation',\n",
        "  'nationality', 'keywords', 'Class_Occup',\n",
        "  'HDI rank', 'Development', \n",
        "]\n",
        "\n",
        "def preprocess_chunk(chunk_df):\n",
        "  '''\n",
        "  Apply basic preprocessing and data cleaning to a chunk\n",
        "  - Merge the chunk with the speaker attributes and HDI indexes\n",
        "  - Remove rows with missing speakers, nationalities, genders and occupations\n",
        "  - Process features in a format more appropriate for our use case\n",
        "  '''\n",
        "  chunk_df = compose(\n",
        "    embed_occupation_class,\n",
        "    merge_HDI_with_chunk,\n",
        "    clean_occupation,\n",
        "    clean_gender,\n",
        "    clean_nationality,\n",
        "    merge_speaker_attrs_with_chunk,\n",
        "    clean_speaker,\n",
        "    drop_uncertain_speakers,\n",
        "    drop_nonfrequent_quotes,\n",
        "  )(chunk_df)\n",
        "\n",
        "  chunk_df['keywords'] = pd.Series(compose(\n",
        "      lambda s: s.apply(extract_keywords),\n",
        "      embed_bigrams,\n",
        "      tokenize_words,\n",
        "  )(chunk_df.quotation))\n",
        "\n",
        "  chunk_df = drop_empty_keywords(chunk_df)\n",
        "\n",
        "  chunk_df.rename({\"N\": \"nationality\", \"HDI rank\": \"HDI_rank\"}, inplace=True)\n",
        "  chunk_df = chunk_df[COLUMNS_OF_INTEREST]\n",
        "  return chunk_df"
      ],
      "execution_count": 139,
      "outputs": []
    },
    {
      "cell_type": "markdown",
      "metadata": {
        "id": "UTwtGLIjPM_N"
      },
      "source": [
        "We extract a given number of chunks of specified size from the Quotebank file corresponding to a certain year. Then we process the chunk and calculate the distributions."
      ]
    },
    {
      "cell_type": "code",
      "metadata": {
        "id": "rUbJJjfL-y1v"
      },
      "source": [
        "from datetime import datetime\n",
        "\n",
        "\n",
        "def iterate_chunks(year, chunk_size, num_of_chunks):\n",
        "  '''Extracts a number of chunks from the file corresponding to the specified year.'''\n",
        "\n",
        "  with bz2.open(get_path_to_file(year), 'rb') as file:\n",
        "    lines = []\n",
        "\n",
        "    for i, line in enumerate(file):\n",
        "      lines.append(json.loads(line))\n",
        "\n",
        "      if i % chunk_size == 0 and i != 0:\n",
        "        yield pd.DataFrame(lines)\n",
        "        del lines[:]\n",
        "        lines = []\n",
        "\n",
        "        if i / chunk_size == num_of_chunks:\n",
        "           return\n",
        "\n",
        "    yield pd.DataFrame(lines)\n",
        "    del lines[:]\n",
        "\n",
        "\n",
        "def preprocess_chunks_in_year(year, chunk_size = 100_000, num_of_chunks=10):\n",
        "  for i, chunk_df in enumerate(iterate_chunks(year, chunk_size, num_of_chunks)):\n",
        "      print(f\"[{datetime.now()}] Pre-processing chunk {i+1} out of {num_of_chunks}\")\n",
        "\n",
        "      processed_chunk_df = preprocess_chunk(chunk_df)\n",
        "      yield processed_chunk_df\n",
        "      gc.collect()\n",
        "\n",
        "\n",
        "def preprocess_and_cache_chunks(year):\n",
        "  \"\"\"\n",
        "  Run preprocessing and cache intermediate results in the pickle format\n",
        "  \"\"\"\n",
        "  for i, processed_chunk in enumerate(preprocess_chunks_in_year(year, chunk_size=500_000, num_of_chunks=100)):\n",
        "    processed_chunk.to_pickle(f'/content/drive/MyDrive/ADA/chunk_{year}_{i}.pkl')\n",
        "  return i\n",
        "\n",
        "\n",
        "def concatenate_preprocessed_chunks(year, chunks_count=6):\n",
        "  get_filename = lambda i: f'/content/drive/MyDrive/ADA/chunk_{year}_{i}.pkl'\n",
        "  chunks = [pd.read_pickle(get_filename(i)) for i in range(chunks_count)]\n",
        "  df = pd.concat(chunks)\n",
        "  df = df.reset_index()\n",
        "  df.to_pickle(f'/content/drive/MyDrive/ADA/preprocessed_quotes_{year}.pkl')\n",
        "\n",
        "  for i in range(chunks_count):\n",
        "    os.remove(get_filename(i))\n",
        "\n",
        "  return df\n",
        "\n",
        "\n",
        "def read_preprocessed_from_year(year):\n",
        "  return pd.read_pickle(f'/content/drive/MyDrive/ADA/preprocessed_quotes_{year}.pkl')\n",
        "\n",
        "\n",
        "def concatenate_data_across_years(years):\n",
        "  years_dfs = []\n",
        "\n",
        "  for year in years:\n",
        "    df = read_preprocessed_from_year(year)\n",
        "    df['year'] = year\n",
        "    years_dfs.append(df)\n",
        "\n",
        "  df = pd.concat(years_dfs)\n",
        "  df = df.reset_index()\n",
        "  df = df.drop(columns='index')\n",
        "  df.to_pickle(f'/content/drive/MyDrive/ADA/preprocessed_quotes.pkl')\n",
        "  return df\n",
        "\n",
        "\n",
        "def read_preprocessed_data():\n",
        "    return pd.read_pickle(f'/content/drive/MyDrive/ADA/preprocessed_quotes.pkl')"
      ],
      "execution_count": 140,
      "outputs": []
    },
    {
      "cell_type": "markdown",
      "metadata": {
        "id": "Ax7Ptzc8bvGJ"
      },
      "source": [
        "### Run and cache"
      ]
    },
    {
      "cell_type": "code",
      "source": [
        "YEARS = [2015, 2016, 2017, 2018, 2019, 2020]\n",
        "\n",
        "\n",
        "TEST_PROCESS_CHUNK = False"
      ],
      "metadata": {
        "id": "QxnuA10GFjPy"
      },
      "execution_count": 141,
      "outputs": []
    },
    {
      "cell_type": "code",
      "metadata": {
        "id": "vSt6BG3ISDHq",
        "colab": {
          "base_uri": "https://localhost:8080/",
          "height": 1000
        },
        "outputId": "a82acef7-f965-465d-853c-02bed22d2621"
      },
      "source": [
        "chunk_df = next(iterate_chunks(2020, 10_000, 1))\n",
        "chunk_df"
      ],
      "execution_count": 142,
      "outputs": [
        {
          "output_type": "execute_result",
          "data": {
            "text/html": [
              "<div>\n",
              "<style scoped>\n",
              "    .dataframe tbody tr th:only-of-type {\n",
              "        vertical-align: middle;\n",
              "    }\n",
              "\n",
              "    .dataframe tbody tr th {\n",
              "        vertical-align: top;\n",
              "    }\n",
              "\n",
              "    .dataframe thead th {\n",
              "        text-align: right;\n",
              "    }\n",
              "</style>\n",
              "<table border=\"1\" class=\"dataframe\">\n",
              "  <thead>\n",
              "    <tr style=\"text-align: right;\">\n",
              "      <th></th>\n",
              "      <th>quoteID</th>\n",
              "      <th>quotation</th>\n",
              "      <th>speaker</th>\n",
              "      <th>qids</th>\n",
              "      <th>date</th>\n",
              "      <th>numOccurrences</th>\n",
              "      <th>probas</th>\n",
              "      <th>urls</th>\n",
              "      <th>phase</th>\n",
              "    </tr>\n",
              "  </thead>\n",
              "  <tbody>\n",
              "    <tr>\n",
              "      <th>0</th>\n",
              "      <td>2020-01-28-000082</td>\n",
              "      <td>[ D ] espite the efforts of the partners to cr...</td>\n",
              "      <td>None</td>\n",
              "      <td>[]</td>\n",
              "      <td>2020-01-28 08:04:05</td>\n",
              "      <td>1</td>\n",
              "      <td>[[None, 0.7272], [Prime Minister Netanyahu, 0....</td>\n",
              "      <td>[http://israelnationalnews.com/News/News.aspx/...</td>\n",
              "      <td>E</td>\n",
              "    </tr>\n",
              "    <tr>\n",
              "      <th>1</th>\n",
              "      <td>2020-01-16-000088</td>\n",
              "      <td>[ Department of Homeland Security ] was livid ...</td>\n",
              "      <td>Sue Myrick</td>\n",
              "      <td>[Q367796]</td>\n",
              "      <td>2020-01-16 12:00:13</td>\n",
              "      <td>1</td>\n",
              "      <td>[[Sue Myrick, 0.8867], [None, 0.0992], [Ron Wy...</td>\n",
              "      <td>[http://thehill.com/opinion/international/4782...</td>\n",
              "      <td>E</td>\n",
              "    </tr>\n",
              "    <tr>\n",
              "      <th>2</th>\n",
              "      <td>2020-02-10-000142</td>\n",
              "      <td>... He (Madhav) also disclosed that the illega...</td>\n",
              "      <td>None</td>\n",
              "      <td>[]</td>\n",
              "      <td>2020-02-10 23:45:54</td>\n",
              "      <td>1</td>\n",
              "      <td>[[None, 0.8926], [Prakash Rai, 0.1074]]</td>\n",
              "      <td>[https://indianexpress.com/article/business/ec...</td>\n",
              "      <td>E</td>\n",
              "    </tr>\n",
              "    <tr>\n",
              "      <th>3</th>\n",
              "      <td>2020-02-15-000053</td>\n",
              "      <td>... [ I ] f it gets to the floor,</td>\n",
              "      <td>None</td>\n",
              "      <td>[]</td>\n",
              "      <td>2020-02-15 14:12:51</td>\n",
              "      <td>2</td>\n",
              "      <td>[[None, 0.581], [Andy Harris, 0.4191]]</td>\n",
              "      <td>[https://patriotpost.us/opinion/68622-trump-bu...</td>\n",
              "      <td>E</td>\n",
              "    </tr>\n",
              "    <tr>\n",
              "      <th>4</th>\n",
              "      <td>2020-01-24-000168</td>\n",
              "      <td>[ I met them ] when they just turned 4 and 7. ...</td>\n",
              "      <td>Meghan King Edmonds</td>\n",
              "      <td>[Q20684375]</td>\n",
              "      <td>2020-01-24 20:37:09</td>\n",
              "      <td>4</td>\n",
              "      <td>[[Meghan King Edmonds, 0.5446], [None, 0.2705]...</td>\n",
              "      <td>[https://people.com/parents/meghan-king-edmond...</td>\n",
              "      <td>E</td>\n",
              "    </tr>\n",
              "    <tr>\n",
              "      <th>...</th>\n",
              "      <td>...</td>\n",
              "      <td>...</td>\n",
              "      <td>...</td>\n",
              "      <td>...</td>\n",
              "      <td>...</td>\n",
              "      <td>...</td>\n",
              "      <td>...</td>\n",
              "      <td>...</td>\n",
              "      <td>...</td>\n",
              "    </tr>\n",
              "    <tr>\n",
              "      <th>9996</th>\n",
              "      <td>2020-04-14-074488</td>\n",
              "      <td>Why should a running back be treated less than...</td>\n",
              "      <td>Mark Ingram</td>\n",
              "      <td>[Q452154]</td>\n",
              "      <td>2020-04-14 22:03:37</td>\n",
              "      <td>1</td>\n",
              "      <td>[[Mark Ingram, 0.5275], [None, 0.4657], [Chris...</td>\n",
              "      <td>[http://registercitizen.com/sports/article/Ing...</td>\n",
              "      <td>E</td>\n",
              "    </tr>\n",
              "    <tr>\n",
              "      <th>9997</th>\n",
              "      <td>2020-04-15-078413</td>\n",
              "      <td>Why would I leave here where I'm healthy, to t...</td>\n",
              "      <td>Pauline Pearce</td>\n",
              "      <td>[Q55076551]</td>\n",
              "      <td>2020-04-15 10:10:33</td>\n",
              "      <td>1</td>\n",
              "      <td>[[Pauline Pearce, 0.8222], [None, 0.1778]]</td>\n",
              "      <td>[https://www.bbc.co.uk/news/uk-england-london-...</td>\n",
              "      <td>E</td>\n",
              "    </tr>\n",
              "    <tr>\n",
              "      <th>9998</th>\n",
              "      <td>2020-01-18-055386</td>\n",
              "      <td>Will he be back? And if so, will it be with th...</td>\n",
              "      <td>None</td>\n",
              "      <td>[]</td>\n",
              "      <td>2020-01-18 05:30:00</td>\n",
              "      <td>1</td>\n",
              "      <td>[[None, 0.8911], [Tom Brady, 0.0929], [Logan R...</td>\n",
              "      <td>[http://www.mywebtimes.com/2020/01/14/full-cou...</td>\n",
              "      <td>E</td>\n",
              "    </tr>\n",
              "    <tr>\n",
              "      <th>9999</th>\n",
              "      <td>2020-03-26-086246</td>\n",
              "      <td>will not be the first commissioner of an Ameri...</td>\n",
              "      <td>Adam Silver</td>\n",
              "      <td>[Q4679786]</td>\n",
              "      <td>2020-03-26 22:20:01</td>\n",
              "      <td>1</td>\n",
              "      <td>[[Adam Silver, 0.5877], [None, 0.3937], [Jay M...</td>\n",
              "      <td>[http://sportsbusinessdaily.com/Daily/Issues/2...</td>\n",
              "      <td>E</td>\n",
              "    </tr>\n",
              "    <tr>\n",
              "      <th>10000</th>\n",
              "      <td>2020-01-15-112997</td>\n",
              "      <td>will not lose because this will come on top of...</td>\n",
              "      <td>Elisa Ferreira</td>\n",
              "      <td>[Q5361358]</td>\n",
              "      <td>2020-01-15 09:46:08</td>\n",
              "      <td>1</td>\n",
              "      <td>[[Elisa Ferreira, 0.9132], [None, 0.0868]]</td>\n",
              "      <td>[https://www.edie.net/news/11/EU-unveils-EUR10...</td>\n",
              "      <td>E</td>\n",
              "    </tr>\n",
              "  </tbody>\n",
              "</table>\n",
              "<p>10001 rows × 9 columns</p>\n",
              "</div>"
            ],
            "text/plain": [
              "                 quoteID  ... phase\n",
              "0      2020-01-28-000082  ...     E\n",
              "1      2020-01-16-000088  ...     E\n",
              "2      2020-02-10-000142  ...     E\n",
              "3      2020-02-15-000053  ...     E\n",
              "4      2020-01-24-000168  ...     E\n",
              "...                  ...  ...   ...\n",
              "9996   2020-04-14-074488  ...     E\n",
              "9997   2020-04-15-078413  ...     E\n",
              "9998   2020-01-18-055386  ...     E\n",
              "9999   2020-03-26-086246  ...     E\n",
              "10000  2020-01-15-112997  ...     E\n",
              "\n",
              "[10001 rows x 9 columns]"
            ]
          },
          "metadata": {},
          "execution_count": 142
        }
      ]
    },
    {
      "cell_type": "code",
      "metadata": {
        "id": "IZF119vQSfcE"
      },
      "source": [
        "if TEST_PROCESS_CHUNK:\n",
        "  processed_chunk_df = preprocess_chunk(chunk_df)\n",
        "  processed_chunk_df"
      ],
      "execution_count": 143,
      "outputs": []
    },
    {
      "cell_type": "code",
      "metadata": {
        "id": "1zxNMlRn1aIA"
      },
      "source": [
        "YEAR = 2018\n",
        "PREPROCESS_YEAR = False\n",
        "\n",
        "if PREPROCESS_YEAR:\n",
        "  chunks_count = preprocess_and_cache_chunks(YEAR)\n",
        "  gc.collect()\n",
        "  concatenate_preprocessed_chunks(YEAR, chunks_count)"
      ],
      "execution_count": 144,
      "outputs": []
    },
    {
      "cell_type": "code",
      "source": [
        "CONCATENATE_ALL = False\n",
        "\n",
        "if CONCATENATE_ALL:\n",
        "  df = concatenate_data_across_years(YEARS)"
      ],
      "metadata": {
        "id": "Dn5Sx46Sfs8Y"
      },
      "execution_count": 145,
      "outputs": []
    },
    {
      "cell_type": "code",
      "source": [
        "df = read_preprocessed_data()"
      ],
      "metadata": {
        "id": "p235Poo8kgSZ"
      },
      "execution_count": 146,
      "outputs": []
    },
    {
      "cell_type": "markdown",
      "source": [
        "## Graphs"
      ],
      "metadata": {
        "id": "u9sSo_JahhdM"
      }
    },
    {
      "cell_type": "markdown",
      "source": [
        "### Distribution of quotations across countries"
      ],
      "metadata": {
        "id": "yvXSPJzThkCo"
      }
    },
    {
      "cell_type": "code",
      "source": [
        "# TODO: most frequent nations left-to-right (lexicographic order now)\n",
        "nationality_exploded = df.explode('nationality')\n",
        "top_nations_list = nationality_exploded['nationality'].value_counts()[:10]\n",
        "top_nations_df = nationality_exploded[nationality_exploded['nationality'].isin(top_nations_list.keys())]\n",
        "top_nations = top_nations_df.groupby(['nationality', 'gender'])['nationality'].count().unstack('gender')\n",
        "top_nations = top_nations.sort_values('male', ascending=False)\n",
        "\n",
        "top_nations.plot(kind='bar')\n",
        "plt.xlabel(\"Most common countries\")\n",
        "plt.ylabel(\"Number of occurrences\")\n",
        "plt.title(\"Frequency of speakers' country of origin extracted from quotes stratified by gender\")\n",
        "\n",
        "plt.show()"
      ],
      "metadata": {
        "id": "pN4iAw4WhoeC",
        "colab": {
          "base_uri": "https://localhost:8080/",
          "height": 410
        },
        "outputId": "52b1e71a-fbdd-4c02-8b58-03aacedfbb50"
      },
      "execution_count": 147,
      "outputs": [
        {
          "output_type": "display_data",
          "data": {
            "image/png": "[encoded data removed]",
            "text/plain": [
              "<Figure size 432x288 with 1 Axes>"
            ]
          },
          "metadata": {
            "needs_background": "light"
          }
        }
      ]
    },
    {
      "cell_type": "markdown",
      "source": [
        "### Gender vs Development (TODO name sucks)"
      ],
      "metadata": {
        "id": "sL7IbeXSnFqL"
      }
    },
    {
      "cell_type": "code",
      "source": [
        "# TODO: make more interpretable; plot 4 pie plots side-by-side or smth else that is nice\n",
        "\n",
        "hdi_gender_distribution = df.groupby(['Development','gender'])['Development'].count().unstack('gender')\n",
        "hdi_gender_distribution = hdi_gender_distribution.sort_values('male', ascending=False)\n",
        "hdi_gender_distribution.plot(kind='bar')\n",
        "\n",
        "plt.xlabel(\"Development level\")\n",
        "plt.ylabel(\"Number of occurrences\")\n",
        "plt.title(\"TODOOOOO\")\n",
        "\n",
        "plt.show()"
      ],
      "metadata": {
        "colab": {
          "base_uri": "https://localhost:8080/",
          "height": 334
        },
        "id": "uZJDaJaclOe-",
        "outputId": "52e1cda2-578c-4877-9386-f099ee9b55a1"
      },
      "execution_count": 148,
      "outputs": [
        {
          "output_type": "display_data",
          "data": {
            "image/png": "[encoded data removed]",
            "text/plain": [
              "<Figure size 432x288 with 1 Axes>"
            ]
          },
          "metadata": {
            "needs_background": "light"
          }
        }
      ]
    },
    {
      "cell_type": "markdown",
      "source": [
        "### Women vs occupations"
      ],
      "metadata": {
        "id": "FUNqJ0wenMoc"
      }
    },
    {
      "cell_type": "code",
      "source": [
        "df_class_occ = df.explode(\"Class_Occup\")\n",
        "class_occup_distribution = df_class_occ.groupby(['Class_Occup','gender'])['Class_Occup'].count().unstack('gender')\n",
        "\n",
        "class_occup_distribution.plot(kind='bar')\n",
        "\n",
        "# TODO: labels\n",
        "# TODO: add ratio of male vs female in each occ class\n",
        "plt.xlabel(\"Most common occupations\")\n",
        "plt.ylabel(\"Number of occurrences\")\n",
        "plt.title(\"Frequency of speakers' occupation extracted from quotes stratified by gender\")\n",
        "\n",
        "plt.show()"
      ],
      "metadata": {
        "colab": {
          "base_uri": "https://localhost:8080/",
          "height": 373
        },
        "id": "P2ChxOfJnQ3F",
        "outputId": "56f69aba-b3e1-43d8-9623-2c3ecff2c21c"
      },
      "execution_count": 149,
      "outputs": [
        {
          "output_type": "display_data",
          "data": {
            "image/png": "[encoded data removed]",
            "text/plain": [
              "<Figure size 432x288 with 1 Axes>"
            ]
          },
          "metadata": {
            "needs_background": "light"
          }
        }
      ]
    },
    {
      "cell_type": "code",
      "source": [
        "# TODO: the same as above but across development classes"
      ],
      "metadata": {
        "id": "knzOvL6Ro-AX"
      },
      "execution_count": 150,
      "outputs": []
    },
    {
      "cell_type": "markdown",
      "metadata": {
        "id": "anM_aK8Ll59d"
      },
      "source": [
        "## Topic Detection"
      ]
    },
    {
      "cell_type": "markdown",
      "metadata": {
        "id": "oyOVuQUXxNe9"
      },
      "source": [
        "### Preprocessing"
      ]
    },
    {
      "cell_type": "markdown",
      "metadata": {
        "id": "soMG-MrUra-V"
      },
      "source": [
        "We discard the most commonly occuring keywords which do not contribute towards better topic detection"
      ]
    },
    {
      "cell_type": "code",
      "metadata": {
        "id": "VKa9urceJSuL"
      },
      "source": [
        "def quotes_bags_of_words(keywords_series, max_freq=0.15, min_freq = 0.01):\n",
        "  dictionary = Dictionary(keywords_series)\n",
        "  min_wordcount = int(keywords_series.shape[0] * min_freq)\n",
        "\n",
        "  dictionary.filter_extremes(no_below=min_wordcount, no_above=max_freq)\n",
        "  bags_of_words = keywords_series.apply(dictionary.doc2bow)\n",
        "  return {\"bow\": bags_of_words, \"dict\": dictionary}"
      ],
      "execution_count": 151,
      "outputs": []
    },
    {
      "cell_type": "markdown",
      "metadata": {
        "id": "bzsAfU95xLaK"
      },
      "source": [
        "### LDA Model"
      ]
    },
    {
      "cell_type": "code",
      "metadata": {
        "id": "OXyJLW3zI2AI"
      },
      "source": [
        "def train_topic_detection_model(keywords, hyperparams):\n",
        "  corpus_data = quotes_bags_of_words(keywords, **hyperparams[\"bow\"])\n",
        "  corpus = corpus_data[\"bow\"]\n",
        "  dictionary = corpus_data[\"dict\"]\n",
        "  print(f\"[{datetime.now()}] Training model with params: {hyperparams['model']}\")\n",
        "  return corpus, dictionary, LdaMulticore(\n",
        "    corpus=corpus,\n",
        "    id2word=dictionary,\n",
        "    workers=6,\n",
        "    **hyperparams[\"model\"],\n",
        "  )\n",
        "\n",
        "\n",
        "def save_lda_model(lda_model, year=\"\", num_topics=20):\n",
        "  lda_model.save(f'/content/drive/MyDrive/ADA/lda_model_{year}__{num_topics}_topics')\n",
        "\n",
        "\n",
        "def load_lda_model(year=\"\", num_topics=20):\n",
        "  return LdaMulticore.load(f'/content/drive/MyDrive/ADA/lda_model_{year}__{num_topics}_topics')\n",
        "\n",
        "\n",
        "def compute_lda_coherence_score(lda_model, keywords, dictionary):\n",
        "  coherence_model_lda = CoherenceModel(model=lda_model, texts=keywords, dictionary=dictionary, coherence='c_v')\n",
        "  return coherence_model_lda.get_coherence()\n",
        "\n",
        "\n",
        "def merge_topics_into_df(df, lda_model, num_topics):\n",
        "  for j in range(num_topics): \n",
        "      df[f'topic_{j}'] = 0.0\n",
        "\n",
        "  errors_count = 0\n",
        "  for i in range(len(corpus)):\n",
        "      bow = corpus[i]\n",
        "      try:\n",
        "          for j, x in lda_model[bow]:\n",
        "              df[f'topic_{j}'].iat[i] = x\n",
        "      except:\n",
        "          errors_count += 1\n",
        "\n",
        "  if errors_count:\n",
        "    print(\"Erroneous rows: \", errors_count)\n",
        "\n",
        "\n",
        "def get_human_readable_topics(model, num_topics, num_words=4):\n",
        "  topics = model.show_topics(num_words=num_words, num_topics=num_topics, formatted=False)\n",
        "  return [\n",
        "    \"__\".join([word for word, _ in topic])\n",
        "    for _, topic in topics\n",
        "  ]\n",
        "\n",
        "\n",
        "def topic_distribution(df, num_topics):\n",
        "  return [df[f\"topic_{i}\"].apply(ceil).sum() for i in range(num_topics)]"
      ],
      "execution_count": 152,
      "outputs": []
    },
    {
      "cell_type": "markdown",
      "source": [
        "### Hypertuning"
      ],
      "metadata": {
        "id": "vzUlJ9olV9AJ"
      }
    },
    {
      "cell_type": "code",
      "metadata": {
        "id": "RLUxKAxafMVs"
      },
      "source": [
        "from datetime import datetime\n",
        "\n",
        "hypertune_params = {\n",
        "  \"bow\": {\n",
        "    \"max_freq\": 0.15,\n",
        "    \"min_freq\": 0.0005,\n",
        "  },\n",
        "  \"model\": {\n",
        "    \"passes\": 1,\n",
        "    \"iterations\": 50,\n",
        "    \"random_state\": 42,\n",
        "    \"chunksize\": 4000,\n",
        "  },\n",
        "}\n",
        "\n",
        "def hypertune_lda_model(train_keywords, hyper):\n",
        "  topics = [5, 8, 10, 12, 13, 15, 16, 18, 20]\n",
        "  alphas = list(np.arange(0.01, 0.4, 0.11))\n",
        "\n",
        "  etas = list(np.arange(0.28, 1, 0.23)) + ['auto']\n",
        "\n",
        "  best_topics_count = None\n",
        "  max_coherence = 0\n",
        "\n",
        "  for num_topics in topics:\n",
        "    print(datetime.now())\n",
        "    params = {\n",
        "      \"model\": {**hyper[\"model\"], \"num_topics\": num_topics},\n",
        "      \"bow\": {**hyper[\"bow\"]},\n",
        "    }\n",
        "    _, dictionary, model = train_topic_detection_model(train_keywords, params)\n",
        "    coherence_score = compute_lda_coherence_score(model, train_keywords, dictionary)\n",
        "    if coherence_score > max_coherence:\n",
        "        best_topics_count = num_topics\n",
        "        max_coherence = coherence_score\n",
        "    yield {\"alpha\": \"default\", \"eta\": \"default\", \"num_topics\": num_topics, \"coherence\": coherence_score}\n",
        "\n",
        "  for alpha, eta in product(alphas, etas):\n",
        "    print(datetime.now())\n",
        "    params = {\n",
        "      \"model\": {**hyper[\"model\"], \"alpha\": alpha, \"eta\": eta, \"num_topics\": best_topics_count},\n",
        "      \"bow\": {**hyper[\"bow\"]},\n",
        "    }\n",
        "    _, dictionary, model = train_topic_detection_model(train_keywords, params)\n",
        "    coherence_score = compute_lda_coherence_score(model, train_keywords, dictionary)\n",
        "    yield {\"alpha\": alpha, \"eta\": eta, \"num_topics\": best_topics_count, \"coherence\": coherence_score}"
      ],
      "execution_count": 159,
      "outputs": []
    },
    {
      "cell_type": "code",
      "metadata": {
        "id": "THmku5spgm8u",
        "colab": {
          "base_uri": "https://localhost:8080/"
        },
        "outputId": "6b8c2e3e-7c8c-42ae-d79e-ed67dc844c6f"
      },
      "source": [
        "RUN_HYPERTUNING = True\n",
        "\n",
        "if RUN_HYPERTUNING:\n",
        "  train_keywords = df.keywords.sample(frac = 0.0003)\n",
        "  hypertuning_results = pd.DataFrame(hypertune_lda_model(train_keywords, hypertune_params))\n",
        "  print(\"Done! \", datetime.now())\n",
        "  hypertuning_results.to_pickle(\"/content/drive/MyDrive/ADA/model_hypertuning.pkl\")"
      ],
      "execution_count": null,
      "outputs": [
        {
          "output_type": "stream",
          "name": "stdout",
          "text": [
            "2021-12-11 21:18:47.332740\n",
            "[2021-12-11 21:18:47.373938] Training model with params: {'passes': 1, 'iterations': 50, 'random_state': 42, 'chunksize': 4000, 'num_topics': 5}\n",
            "2021-12-11 21:18:49.717857\n",
            "[2021-12-11 21:18:49.751754] Training model with params: {'passes': 1, 'iterations': 50, 'random_state': 42, 'chunksize': 4000, 'num_topics': 8}\n",
            "2021-12-11 21:18:52.050440\n",
            "[2021-12-11 21:18:52.081021] Training model with params: {'passes': 1, 'iterations': 50, 'random_state': 42, 'chunksize': 4000, 'num_topics': 10}\n",
            "2021-12-11 21:18:54.586859\n",
            "[2021-12-11 21:18:54.617580] Training model with params: {'passes': 1, 'iterations': 50, 'random_state': 42, 'chunksize': 4000, 'num_topics': 12}\n",
            "2021-12-11 21:18:57.124986\n",
            "[2021-12-11 21:18:57.155951] Training model with params: {'passes': 1, 'iterations': 50, 'random_state': 42, 'chunksize': 4000, 'num_topics': 13}\n",
            "2021-12-11 21:18:59.616308\n",
            "[2021-12-11 21:18:59.646507] Training model with params: {'passes': 1, 'iterations': 50, 'random_state': 42, 'chunksize': 4000, 'num_topics': 15}\n",
            "2021-12-11 21:19:02.145776\n",
            "[2021-12-11 21:19:02.177179] Training model with params: {'passes': 1, 'iterations': 50, 'random_state': 42, 'chunksize': 4000, 'num_topics': 16}\n",
            "2021-12-11 21:19:04.911190\n",
            "[2021-12-11 21:19:04.942112] Training model with params: {'passes': 1, 'iterations': 50, 'random_state': 42, 'chunksize': 4000, 'num_topics': 18}\n",
            "2021-12-11 21:19:07.738981\n",
            "[2021-12-11 21:19:07.769578] Training model with params: {'passes': 1, 'iterations': 50, 'random_state': 42, 'chunksize': 4000, 'num_topics': 20}\n",
            "2021-12-11 21:19:10.793198\n",
            "[2021-12-11 21:19:10.825093] Training model with params: {'passes': 1, 'iterations': 50, 'random_state': 42, 'chunksize': 4000, 'alpha': 0.01, 'eta': 0.28, 'num_topics': 10}\n",
            "2021-12-11 21:19:13.194225\n",
            "[2021-12-11 21:19:13.228100] Training model with params: {'passes': 1, 'iterations': 50, 'random_state': 42, 'chunksize': 4000, 'alpha': 0.01, 'eta': 0.51, 'num_topics': 10}\n",
            "2021-12-11 21:19:15.578884\n",
            "[2021-12-11 21:19:15.611157] Training model with params: {'passes': 1, 'iterations': 50, 'random_state': 42, 'chunksize': 4000, 'alpha': 0.01, 'eta': 0.74, 'num_topics': 10}\n",
            "2021-12-11 21:19:18.008597\n",
            "[2021-12-11 21:19:18.042458] Training model with params: {'passes': 1, 'iterations': 50, 'random_state': 42, 'chunksize': 4000, 'alpha': 0.01, 'eta': 0.97, 'num_topics': 10}\n",
            "2021-12-11 21:19:20.706868\n",
            "[2021-12-11 21:19:20.745086] Training model with params: {'passes': 1, 'iterations': 50, 'random_state': 42, 'chunksize': 4000, 'alpha': 0.01, 'eta': 'auto', 'num_topics': 10}\n",
            "2021-12-11 21:19:23.219929\n",
            "[2021-12-11 21:19:23.257109] Training model with params: {'passes': 1, 'iterations': 50, 'random_state': 42, 'chunksize': 4000, 'alpha': 0.12, 'eta': 0.28, 'num_topics': 10}\n",
            "2021-12-11 21:19:25.723891\n",
            "[2021-12-11 21:19:25.754654] Training model with params: {'passes': 1, 'iterations': 50, 'random_state': 42, 'chunksize': 4000, 'alpha': 0.12, 'eta': 0.51, 'num_topics': 10}\n"
          ]
        }
      ]
    },
    {
      "cell_type": "code",
      "metadata": {
        "id": "buw2TYzzWVvf"
      },
      "source": [
        "LOAD_HYPERTUNING = False\n",
        "\n",
        "if LOAD_HYPERTUNING:\n",
        "  with open(\"/content/drive/MyDrive/ADA/model_hypertuning.pkl\", \"rb\") as fh:\n",
        "    hypertuning_results = pickle.load(fh)"
      ],
      "execution_count": null,
      "outputs": []
    },
    {
      "cell_type": "code",
      "source": [
        "hypertuning_results.sort_values('num_topics')[hypertuning_results.alpha == \"default\"].plot(x=\"num_topics\", y=\"coherence\", grid=True)\n",
        "plt.show()"
      ],
      "metadata": {
        "id": "gCw_liv_BsZ3"
      },
      "execution_count": null,
      "outputs": []
    },
    {
      "cell_type": "code",
      "source": [
        "hypertuning_results.sort_values('coherence', ascending=False)[:10]"
      ],
      "metadata": {
        "id": "ikuUAzkxAN1L"
      },
      "execution_count": null,
      "outputs": []
    },
    {
      "cell_type": "code",
      "source": [
        "best_lda_parmas = hypertuning_results.sort_values('coherence', ascending=False).iloc[0]\n",
        "best_lda_parmas"
      ],
      "metadata": {
        "id": "z3VXaco0UBnF"
      },
      "execution_count": null,
      "outputs": []
    },
    {
      "cell_type": "code",
      "source": [
        "best_lda_parmas.num_topics"
      ],
      "metadata": {
        "colab": {
          "base_uri": "https://localhost:8080/"
        },
        "id": "pEIQhn42USDJ",
        "outputId": "5b7c988e-3f19-4016-b9e9-ebd2308c137e"
      },
      "execution_count": 119,
      "outputs": [
        {
          "output_type": "execute_result",
          "data": {
            "text/plain": [
              "18"
            ]
          },
          "metadata": {},
          "execution_count": 119
        }
      ]
    },
    {
      "cell_type": "code",
      "metadata": {
        "id": "LD6NnrbYF5ln"
      },
      "source": [
        "\"\"\"\n",
        "Alpha and Beta Hyperparameters\n",
        "\n",
        "Alpha represents document-topic density. The higher the value,\n",
        "the documents are composed of more topics and lower the value of alpha,\n",
        "documents contain fewer topics.\n",
        "\n",
        "Beta represents topic-word density. The higher the value,\n",
        "the topics are composed of a large number of words in the corpus,\n",
        "and with the lower value of beta, they are composed of few words.\n",
        "\"\"\"\n",
        "\n",
        "lda_model_params = {\n",
        "  \"bow\": {\n",
        "    \"max_freq\": 0.15,\n",
        "    \"min_freq\": 0.0005,\n",
        "  },\n",
        "  \"model\": {\n",
        "    \"passes\": 10,\n",
        "    \"iterations\": 200,\n",
        "    \"random_state\": 42,\n",
        "    \"num_topics\": best_lda_parmas.num_topics,\n",
        "    \"chunksize\": 4000,\n",
        "    \"alpha\": best_lda_parmas.alpha,\n",
        "    \"eta\": best_lda_parmas.eta,\n",
        "  },\n",
        "}\n",
        "num_topics = lda_model_params[\"model\"][\"num_topics\"]\n",
        "\n",
        "def as_topics_cols(xs):\n",
        "  return [f\"topic_{i}\" for i in xs]"
      ],
      "execution_count": null,
      "outputs": []
    },
    {
      "cell_type": "markdown",
      "source": [
        "### Model training"
      ],
      "metadata": {
        "id": "FgI2j7yr3VgX"
      }
    },
    {
      "cell_type": "code",
      "metadata": {
        "id": "utOOwZX7lyVK"
      },
      "source": [
        "train_keywords = df.keywords"
      ],
      "execution_count": null,
      "outputs": []
    },
    {
      "cell_type": "code",
      "source": [
        "TRAIN_LDA = True\n",
        "\n",
        "if TRAIN_LDA:\n",
        "  corpus, dictionary, lda_model = train_topic_detection_model(train_keywords, lda_model_params)\n",
        "  coherence_score = compute_lda_coherence_score(lda_model, train_keywords, dictionary)\n",
        "  save_lda_model(lda_model, num_topics=num_topics)\n",
        "\n",
        "  print(f\"[{datetime.now()}] Coherence: {coherence_score}\")\n",
        "  lda_model.show_topics(num_words=4 , num_topics=num_topics)"
      ],
      "metadata": {
        "id": "fmmELNKa_zNl"
      },
      "execution_count": null,
      "outputs": []
    },
    {
      "cell_type": "code",
      "source": [
        "if TRAIN_LDA:\n",
        "  readable_topics = get_human_readable_topics(lda_model, num_topics, num_words=5)\n",
        "  readable_topics"
      ],
      "metadata": {
        "id": "OmFmyVf3nT1z"
      },
      "execution_count": null,
      "outputs": []
    },
    {
      "cell_type": "code",
      "source": [
        "LOAD_LDA = False\n",
        "\n",
        "if LOAD_LDA:\n",
        "  lda_model = load_lda_model(num_topics=num_topics)\n",
        "  corpus = pd.read_pickle(\"/content/drive/MyDrive/ADA/corpus__sample.pkl\")"
      ],
      "metadata": {
        "id": "rBpqcYpX--b_"
      },
      "execution_count": null,
      "outputs": []
    },
    {
      "cell_type": "code",
      "source": [
        "MERGE_TOPICS = True\n",
        "\n",
        "if MERGE_TOPICS:\n",
        "  merge_topics_into_df(df, lda_model, num_topics)\n",
        "  df.to_pickle(f\"/content/drive/MyDrive/ADA/preprocessed_quotes_{num_topics}_topics.pkl\")\n",
        "  dist = topic_distribution(df, num_topics)"
      ],
      "metadata": {
        "id": "llP75m_7mYCa"
      },
      "execution_count": null,
      "outputs": []
    },
    {
      "cell_type": "code",
      "source": [
        "# df_topics = pd.read_pickle(f\"/content/drive/MyDrive/ADA/preprocessed_quotes__sample_{num_topics}_topics.pkl\")"
      ],
      "metadata": {
        "id": "1GZAknCZ-4dX"
      },
      "execution_count": null,
      "outputs": []
    },
    {
      "cell_type": "code",
      "source": [
        "df"
      ],
      "metadata": {
        "colab": {
          "base_uri": "https://localhost:8080/",
          "height": 1000
        },
        "id": "14jTA-E6AtML",
        "outputId": "6a37898d-3c66-40e3-92dd-e841fd883ce7"
      },
      "execution_count": null,
      "outputs": [
        {
          "output_type": "execute_result",
          "data": {
            "text/html": [
              "<div>\n",
              "<style scoped>\n",
              "    .dataframe tbody tr th:only-of-type {\n",
              "        vertical-align: middle;\n",
              "    }\n",
              "\n",
              "    .dataframe tbody tr th {\n",
              "        vertical-align: top;\n",
              "    }\n",
              "\n",
              "    .dataframe thead th {\n",
              "        text-align: right;\n",
              "    }\n",
              "</style>\n",
              "<table border=\"1\" class=\"dataframe\">\n",
              "  <thead>\n",
              "    <tr style=\"text-align: right;\">\n",
              "      <th></th>\n",
              "      <th>numOccurrences</th>\n",
              "      <th>gender</th>\n",
              "      <th>occupation</th>\n",
              "      <th>nationality</th>\n",
              "      <th>keywords</th>\n",
              "      <th>Class_Occup</th>\n",
              "      <th>HDI rank</th>\n",
              "      <th>Development</th>\n",
              "      <th>year</th>\n",
              "      <th>topic_0</th>\n",
              "      <th>topic_1</th>\n",
              "      <th>topic_2</th>\n",
              "      <th>topic_3</th>\n",
              "      <th>topic_4</th>\n",
              "      <th>topic_5</th>\n",
              "      <th>topic_6</th>\n",
              "      <th>topic_7</th>\n",
              "      <th>topic_8</th>\n",
              "      <th>topic_9</th>\n",
              "      <th>topic_10</th>\n",
              "      <th>topic_11</th>\n",
              "      <th>topic_12</th>\n",
              "      <th>topic_13</th>\n",
              "      <th>topic_14</th>\n",
              "    </tr>\n",
              "  </thead>\n",
              "  <tbody>\n",
              "    <tr>\n",
              "      <th>3033287</th>\n",
              "      <td>2</td>\n",
              "      <td>male</td>\n",
              "      <td>[badminton player]</td>\n",
              "      <td>[Sweden]</td>\n",
              "      <td>[user, information, safe, navigation, saab, pr...</td>\n",
              "      <td>[sports]</td>\n",
              "      <td>7</td>\n",
              "      <td>Very High</td>\n",
              "      <td>2019</td>\n",
              "      <td>0.205187</td>\n",
              "      <td>0.000000</td>\n",
              "      <td>0.000000</td>\n",
              "      <td>0.282040</td>\n",
              "      <td>0.0</td>\n",
              "      <td>0.0</td>\n",
              "      <td>0.094841</td>\n",
              "      <td>0.100450</td>\n",
              "      <td>0.000000</td>\n",
              "      <td>0.097655</td>\n",
              "      <td>0.098941</td>\n",
              "      <td>0.0</td>\n",
              "      <td>0.113004</td>\n",
              "      <td>0.000000</td>\n",
              "      <td>0.000000</td>\n",
              "    </tr>\n",
              "    <tr>\n",
              "      <th>2492603</th>\n",
              "      <td>3</td>\n",
              "      <td>male</td>\n",
              "      <td>[politician]</td>\n",
              "      <td>[India]</td>\n",
              "      <td>[exam, paper, leak, due, fault, government, is...</td>\n",
              "      <td>[important_people]</td>\n",
              "      <td>131</td>\n",
              "      <td>Medium</td>\n",
              "      <td>2018</td>\n",
              "      <td>0.000000</td>\n",
              "      <td>0.000000</td>\n",
              "      <td>0.000000</td>\n",
              "      <td>0.000000</td>\n",
              "      <td>0.0</td>\n",
              "      <td>0.0</td>\n",
              "      <td>0.000000</td>\n",
              "      <td>0.000000</td>\n",
              "      <td>0.000000</td>\n",
              "      <td>0.000000</td>\n",
              "      <td>0.000000</td>\n",
              "      <td>0.0</td>\n",
              "      <td>0.000000</td>\n",
              "      <td>0.000000</td>\n",
              "      <td>0.000000</td>\n",
              "    </tr>\n",
              "    <tr>\n",
              "      <th>1139011</th>\n",
              "      <td>13</td>\n",
              "      <td>male</td>\n",
              "      <td>[judge]</td>\n",
              "      <td>[United Kingdom]</td>\n",
              "      <td>[ode, leadership, rubber, stamp, unlawful, att...</td>\n",
              "      <td>[important_people]</td>\n",
              "      <td>13</td>\n",
              "      <td>Very High</td>\n",
              "      <td>2017</td>\n",
              "      <td>0.000000</td>\n",
              "      <td>0.000000</td>\n",
              "      <td>0.000000</td>\n",
              "      <td>0.779423</td>\n",
              "      <td>0.0</td>\n",
              "      <td>0.0</td>\n",
              "      <td>0.000000</td>\n",
              "      <td>0.000000</td>\n",
              "      <td>0.000000</td>\n",
              "      <td>0.195335</td>\n",
              "      <td>0.000000</td>\n",
              "      <td>0.0</td>\n",
              "      <td>0.000000</td>\n",
              "      <td>0.000000</td>\n",
              "      <td>0.000000</td>\n",
              "    </tr>\n",
              "    <tr>\n",
              "      <th>2987429</th>\n",
              "      <td>2</td>\n",
              "      <td>male</td>\n",
              "      <td>[politician, writer, social worker, bibliograp...</td>\n",
              "      <td>[India]</td>\n",
              "      <td>[sri_lanka, similar, india, prior, 2014, blast...</td>\n",
              "      <td>[art, important_people, Other]</td>\n",
              "      <td>131</td>\n",
              "      <td>Medium</td>\n",
              "      <td>2019</td>\n",
              "      <td>0.076529</td>\n",
              "      <td>0.000000</td>\n",
              "      <td>0.156314</td>\n",
              "      <td>0.282570</td>\n",
              "      <td>0.0</td>\n",
              "      <td>0.0</td>\n",
              "      <td>0.184029</td>\n",
              "      <td>0.078455</td>\n",
              "      <td>0.076055</td>\n",
              "      <td>0.139965</td>\n",
              "      <td>0.000000</td>\n",
              "      <td>0.0</td>\n",
              "      <td>0.000000</td>\n",
              "      <td>0.000000</td>\n",
              "      <td>0.000000</td>\n",
              "    </tr>\n",
              "    <tr>\n",
              "      <th>3509394</th>\n",
              "      <td>2</td>\n",
              "      <td>male</td>\n",
              "      <td>[entrepreneur, futsal player, politician]</td>\n",
              "      <td>[Italy]</td>\n",
              "      <td>[agenda, 2020, bach, reform, package]</td>\n",
              "      <td>[sports, important_people]</td>\n",
              "      <td>29</td>\n",
              "      <td>Very High</td>\n",
              "      <td>2019</td>\n",
              "      <td>0.000000</td>\n",
              "      <td>0.000000</td>\n",
              "      <td>0.445660</td>\n",
              "      <td>0.000000</td>\n",
              "      <td>0.0</td>\n",
              "      <td>0.0</td>\n",
              "      <td>0.000000</td>\n",
              "      <td>0.000000</td>\n",
              "      <td>0.000000</td>\n",
              "      <td>0.000000</td>\n",
              "      <td>0.000000</td>\n",
              "      <td>0.0</td>\n",
              "      <td>0.000000</td>\n",
              "      <td>0.493875</td>\n",
              "      <td>0.000000</td>\n",
              "    </tr>\n",
              "    <tr>\n",
              "      <th>...</th>\n",
              "      <td>...</td>\n",
              "      <td>...</td>\n",
              "      <td>...</td>\n",
              "      <td>...</td>\n",
              "      <td>...</td>\n",
              "      <td>...</td>\n",
              "      <td>...</td>\n",
              "      <td>...</td>\n",
              "      <td>...</td>\n",
              "      <td>...</td>\n",
              "      <td>...</td>\n",
              "      <td>...</td>\n",
              "      <td>...</td>\n",
              "      <td>...</td>\n",
              "      <td>...</td>\n",
              "      <td>...</td>\n",
              "      <td>...</td>\n",
              "      <td>...</td>\n",
              "      <td>...</td>\n",
              "      <td>...</td>\n",
              "      <td>...</td>\n",
              "      <td>...</td>\n",
              "      <td>...</td>\n",
              "      <td>...</td>\n",
              "    </tr>\n",
              "    <tr>\n",
              "      <th>1115825</th>\n",
              "      <td>2</td>\n",
              "      <td>male</td>\n",
              "      <td>[chief executive officer]</td>\n",
              "      <td>[United Kingdom]</td>\n",
              "      <td>[ceo, peer, board]</td>\n",
              "      <td>[important_people]</td>\n",
              "      <td>13</td>\n",
              "      <td>Very High</td>\n",
              "      <td>2017</td>\n",
              "      <td>0.000000</td>\n",
              "      <td>0.000000</td>\n",
              "      <td>0.000000</td>\n",
              "      <td>0.000000</td>\n",
              "      <td>0.0</td>\n",
              "      <td>0.0</td>\n",
              "      <td>0.000000</td>\n",
              "      <td>0.000000</td>\n",
              "      <td>0.000000</td>\n",
              "      <td>0.000000</td>\n",
              "      <td>0.000000</td>\n",
              "      <td>0.0</td>\n",
              "      <td>0.000000</td>\n",
              "      <td>0.000000</td>\n",
              "      <td>0.000000</td>\n",
              "    </tr>\n",
              "    <tr>\n",
              "      <th>1039586</th>\n",
              "      <td>2</td>\n",
              "      <td>male</td>\n",
              "      <td>[politician]</td>\n",
              "      <td>[Australia, Kingdom of the Netherlands]</td>\n",
              "      <td>[total, million, spend, term, year, bushfire, ...</td>\n",
              "      <td>[important_people]</td>\n",
              "      <td>8</td>\n",
              "      <td>Very High</td>\n",
              "      <td>2017</td>\n",
              "      <td>0.000000</td>\n",
              "      <td>0.000000</td>\n",
              "      <td>0.000000</td>\n",
              "      <td>0.000000</td>\n",
              "      <td>0.0</td>\n",
              "      <td>0.0</td>\n",
              "      <td>0.000000</td>\n",
              "      <td>0.000000</td>\n",
              "      <td>0.000000</td>\n",
              "      <td>0.000000</td>\n",
              "      <td>0.000000</td>\n",
              "      <td>0.0</td>\n",
              "      <td>0.000000</td>\n",
              "      <td>0.000000</td>\n",
              "      <td>0.000000</td>\n",
              "    </tr>\n",
              "    <tr>\n",
              "      <th>1308923</th>\n",
              "      <td>3</td>\n",
              "      <td>male</td>\n",
              "      <td>[association football player, association foot...</td>\n",
              "      <td>[United Kingdom]</td>\n",
              "      <td>[summer, window, level, club, prepared, course...</td>\n",
              "      <td>[sports]</td>\n",
              "      <td>13</td>\n",
              "      <td>Very High</td>\n",
              "      <td>2017</td>\n",
              "      <td>0.000000</td>\n",
              "      <td>0.000000</td>\n",
              "      <td>0.000000</td>\n",
              "      <td>0.000000</td>\n",
              "      <td>0.0</td>\n",
              "      <td>0.0</td>\n",
              "      <td>0.000000</td>\n",
              "      <td>0.000000</td>\n",
              "      <td>0.000000</td>\n",
              "      <td>0.000000</td>\n",
              "      <td>0.000000</td>\n",
              "      <td>0.0</td>\n",
              "      <td>0.000000</td>\n",
              "      <td>0.000000</td>\n",
              "      <td>0.000000</td>\n",
              "    </tr>\n",
              "    <tr>\n",
              "      <th>3505177</th>\n",
              "      <td>2</td>\n",
              "      <td>male</td>\n",
              "      <td>[actor, film director, comedian, television ac...</td>\n",
              "      <td>[Philippines]</td>\n",
              "      <td>[heart, father, individual, individual, firear...</td>\n",
              "      <td>[art]</td>\n",
              "      <td>107</td>\n",
              "      <td>High</td>\n",
              "      <td>2019</td>\n",
              "      <td>0.204530</td>\n",
              "      <td>0.108365</td>\n",
              "      <td>0.000000</td>\n",
              "      <td>0.000000</td>\n",
              "      <td>0.0</td>\n",
              "      <td>0.0</td>\n",
              "      <td>0.118146</td>\n",
              "      <td>0.000000</td>\n",
              "      <td>0.000000</td>\n",
              "      <td>0.000000</td>\n",
              "      <td>0.000000</td>\n",
              "      <td>0.0</td>\n",
              "      <td>0.130484</td>\n",
              "      <td>0.325029</td>\n",
              "      <td>0.104579</td>\n",
              "    </tr>\n",
              "    <tr>\n",
              "      <th>497759</th>\n",
              "      <td>3</td>\n",
              "      <td>male</td>\n",
              "      <td>[non-fiction writer, film actor, screenwriter]</td>\n",
              "      <td>[Iceland, United States of America]</td>\n",
              "      <td>[snarl, tobe, aim]</td>\n",
              "      <td>[art]</td>\n",
              "      <td>4</td>\n",
              "      <td>Very High</td>\n",
              "      <td>2015</td>\n",
              "      <td>0.000000</td>\n",
              "      <td>0.000000</td>\n",
              "      <td>0.000000</td>\n",
              "      <td>0.000000</td>\n",
              "      <td>0.0</td>\n",
              "      <td>0.0</td>\n",
              "      <td>0.000000</td>\n",
              "      <td>0.000000</td>\n",
              "      <td>0.000000</td>\n",
              "      <td>0.000000</td>\n",
              "      <td>0.000000</td>\n",
              "      <td>0.0</td>\n",
              "      <td>0.000000</td>\n",
              "      <td>0.000000</td>\n",
              "      <td>0.000000</td>\n",
              "    </tr>\n",
              "  </tbody>\n",
              "</table>\n",
              "<p>1107961 rows × 24 columns</p>\n",
              "</div>"
            ],
            "text/plain": [
              "         numOccurrences gender  ...  topic_13  topic_14\n",
              "3033287               2   male  ...  0.000000  0.000000\n",
              "2492603               3   male  ...  0.000000  0.000000\n",
              "1139011              13   male  ...  0.000000  0.000000\n",
              "2987429               2   male  ...  0.000000  0.000000\n",
              "3509394               2   male  ...  0.493875  0.000000\n",
              "...                 ...    ...  ...       ...       ...\n",
              "1115825               2   male  ...  0.000000  0.000000\n",
              "1039586               2   male  ...  0.000000  0.000000\n",
              "1308923               3   male  ...  0.000000  0.000000\n",
              "3505177               2   male  ...  0.325029  0.104579\n",
              "497759                3   male  ...  0.000000  0.000000\n",
              "\n",
              "[1107961 rows x 24 columns]"
            ]
          },
          "metadata": {},
          "execution_count": 50
        }
      ]
    },
    {
      "cell_type": "code",
      "source": [
        "def select_topics_subset(df, selected):\n",
        "  return df[df[as_topics_cols(SELECTED_TOPICS)].sum(axis=1) > 0]"
      ],
      "metadata": {
        "id": "zfoAMkgjC_U7"
      },
      "execution_count": null,
      "outputs": []
    },
    {
      "cell_type": "code",
      "source": [
        "SELECTED_TOPICS = [1, 2, 3]\n",
        "\n",
        "select_topics_subset(df_topics, SELECTED_TOPICS)"
      ],
      "metadata": {
        "colab": {
          "base_uri": "https://localhost:8080/",
          "height": 1000
        },
        "id": "aCvNqv_gD9pQ",
        "outputId": "07576a60-3fe4-4264-bfd3-998464dc651b"
      },
      "execution_count": null,
      "outputs": [
        {
          "output_type": "execute_result",
          "data": {
            "text/html": [
              "<div>\n",
              "<style scoped>\n",
              "    .dataframe tbody tr th:only-of-type {\n",
              "        vertical-align: middle;\n",
              "    }\n",
              "\n",
              "    .dataframe tbody tr th {\n",
              "        vertical-align: top;\n",
              "    }\n",
              "\n",
              "    .dataframe thead th {\n",
              "        text-align: right;\n",
              "    }\n",
              "</style>\n",
              "<table border=\"1\" class=\"dataframe\">\n",
              "  <thead>\n",
              "    <tr style=\"text-align: right;\">\n",
              "      <th></th>\n",
              "      <th>numOccurrences</th>\n",
              "      <th>gender</th>\n",
              "      <th>occupation</th>\n",
              "      <th>nationality</th>\n",
              "      <th>keywords</th>\n",
              "      <th>Class_Occup</th>\n",
              "      <th>HDI rank</th>\n",
              "      <th>Development</th>\n",
              "      <th>year</th>\n",
              "      <th>topic_0</th>\n",
              "      <th>topic_1</th>\n",
              "      <th>topic_2</th>\n",
              "      <th>topic_3</th>\n",
              "      <th>topic_4</th>\n",
              "      <th>topic_5</th>\n",
              "      <th>topic_6</th>\n",
              "      <th>topic_7</th>\n",
              "      <th>topic_8</th>\n",
              "      <th>topic_9</th>\n",
              "      <th>topic_10</th>\n",
              "      <th>topic_11</th>\n",
              "      <th>topic_12</th>\n",
              "      <th>topic_13</th>\n",
              "      <th>topic_14</th>\n",
              "    </tr>\n",
              "  </thead>\n",
              "  <tbody>\n",
              "    <tr>\n",
              "      <th>3033287</th>\n",
              "      <td>2</td>\n",
              "      <td>male</td>\n",
              "      <td>[badminton player]</td>\n",
              "      <td>[Sweden]</td>\n",
              "      <td>[user, information, safe, navigation, saab, pr...</td>\n",
              "      <td>[sports]</td>\n",
              "      <td>7</td>\n",
              "      <td>Very High</td>\n",
              "      <td>2019</td>\n",
              "      <td>0.205187</td>\n",
              "      <td>0.000000</td>\n",
              "      <td>0.000000</td>\n",
              "      <td>0.282040</td>\n",
              "      <td>0.00000</td>\n",
              "      <td>0.0</td>\n",
              "      <td>0.094841</td>\n",
              "      <td>0.100450</td>\n",
              "      <td>0.000000</td>\n",
              "      <td>0.097655</td>\n",
              "      <td>0.098941</td>\n",
              "      <td>0.000000</td>\n",
              "      <td>0.113004</td>\n",
              "      <td>0.000000</td>\n",
              "      <td>0.000000</td>\n",
              "    </tr>\n",
              "    <tr>\n",
              "      <th>1139011</th>\n",
              "      <td>13</td>\n",
              "      <td>male</td>\n",
              "      <td>[judge]</td>\n",
              "      <td>[United Kingdom]</td>\n",
              "      <td>[ode, leadership, rubber, stamp, unlawful, att...</td>\n",
              "      <td>[important_people]</td>\n",
              "      <td>13</td>\n",
              "      <td>Very High</td>\n",
              "      <td>2017</td>\n",
              "      <td>0.000000</td>\n",
              "      <td>0.000000</td>\n",
              "      <td>0.000000</td>\n",
              "      <td>0.779423</td>\n",
              "      <td>0.00000</td>\n",
              "      <td>0.0</td>\n",
              "      <td>0.000000</td>\n",
              "      <td>0.000000</td>\n",
              "      <td>0.000000</td>\n",
              "      <td>0.195335</td>\n",
              "      <td>0.000000</td>\n",
              "      <td>0.000000</td>\n",
              "      <td>0.000000</td>\n",
              "      <td>0.000000</td>\n",
              "      <td>0.000000</td>\n",
              "    </tr>\n",
              "    <tr>\n",
              "      <th>2987429</th>\n",
              "      <td>2</td>\n",
              "      <td>male</td>\n",
              "      <td>[politician, writer, social worker, bibliograp...</td>\n",
              "      <td>[India]</td>\n",
              "      <td>[sri_lanka, similar, india, prior, 2014, blast...</td>\n",
              "      <td>[art, important_people, Other]</td>\n",
              "      <td>131</td>\n",
              "      <td>Medium</td>\n",
              "      <td>2019</td>\n",
              "      <td>0.076529</td>\n",
              "      <td>0.000000</td>\n",
              "      <td>0.156314</td>\n",
              "      <td>0.282570</td>\n",
              "      <td>0.00000</td>\n",
              "      <td>0.0</td>\n",
              "      <td>0.184029</td>\n",
              "      <td>0.078455</td>\n",
              "      <td>0.076055</td>\n",
              "      <td>0.139965</td>\n",
              "      <td>0.000000</td>\n",
              "      <td>0.000000</td>\n",
              "      <td>0.000000</td>\n",
              "      <td>0.000000</td>\n",
              "      <td>0.000000</td>\n",
              "    </tr>\n",
              "    <tr>\n",
              "      <th>3509394</th>\n",
              "      <td>2</td>\n",
              "      <td>male</td>\n",
              "      <td>[entrepreneur, futsal player, politician]</td>\n",
              "      <td>[Italy]</td>\n",
              "      <td>[agenda, 2020, bach, reform, package]</td>\n",
              "      <td>[sports, important_people]</td>\n",
              "      <td>29</td>\n",
              "      <td>Very High</td>\n",
              "      <td>2019</td>\n",
              "      <td>0.000000</td>\n",
              "      <td>0.000000</td>\n",
              "      <td>0.445660</td>\n",
              "      <td>0.000000</td>\n",
              "      <td>0.00000</td>\n",
              "      <td>0.0</td>\n",
              "      <td>0.000000</td>\n",
              "      <td>0.000000</td>\n",
              "      <td>0.000000</td>\n",
              "      <td>0.000000</td>\n",
              "      <td>0.000000</td>\n",
              "      <td>0.000000</td>\n",
              "      <td>0.000000</td>\n",
              "      <td>0.493875</td>\n",
              "      <td>0.000000</td>\n",
              "    </tr>\n",
              "    <tr>\n",
              "      <th>2956523</th>\n",
              "      <td>2</td>\n",
              "      <td>male</td>\n",
              "      <td>[politician, journalist, political adviser]</td>\n",
              "      <td>[Australia]</td>\n",
              "      <td>[booth, card, australian, card]</td>\n",
              "      <td>[media, important_people]</td>\n",
              "      <td>8</td>\n",
              "      <td>Very High</td>\n",
              "      <td>2019</td>\n",
              "      <td>0.000000</td>\n",
              "      <td>0.059602</td>\n",
              "      <td>0.048020</td>\n",
              "      <td>0.000000</td>\n",
              "      <td>0.05727</td>\n",
              "      <td>0.0</td>\n",
              "      <td>0.000000</td>\n",
              "      <td>0.052201</td>\n",
              "      <td>0.523543</td>\n",
              "      <td>0.116931</td>\n",
              "      <td>0.037945</td>\n",
              "      <td>0.000000</td>\n",
              "      <td>0.101811</td>\n",
              "      <td>0.000000</td>\n",
              "      <td>0.000000</td>\n",
              "    </tr>\n",
              "    <tr>\n",
              "      <th>...</th>\n",
              "      <td>...</td>\n",
              "      <td>...</td>\n",
              "      <td>...</td>\n",
              "      <td>...</td>\n",
              "      <td>...</td>\n",
              "      <td>...</td>\n",
              "      <td>...</td>\n",
              "      <td>...</td>\n",
              "      <td>...</td>\n",
              "      <td>...</td>\n",
              "      <td>...</td>\n",
              "      <td>...</td>\n",
              "      <td>...</td>\n",
              "      <td>...</td>\n",
              "      <td>...</td>\n",
              "      <td>...</td>\n",
              "      <td>...</td>\n",
              "      <td>...</td>\n",
              "      <td>...</td>\n",
              "      <td>...</td>\n",
              "      <td>...</td>\n",
              "      <td>...</td>\n",
              "      <td>...</td>\n",
              "      <td>...</td>\n",
              "    </tr>\n",
              "    <tr>\n",
              "      <th>1552713</th>\n",
              "      <td>31</td>\n",
              "      <td>male</td>\n",
              "      <td>[journalist, politician, entrepreneur, lawyer,...</td>\n",
              "      <td>[Australia]</td>\n",
              "      <td>[india, timely, conclusion, quality, regional,...</td>\n",
              "      <td>[media, important_people]</td>\n",
              "      <td>8</td>\n",
              "      <td>Very High</td>\n",
              "      <td>2017</td>\n",
              "      <td>0.000000</td>\n",
              "      <td>0.000000</td>\n",
              "      <td>0.000000</td>\n",
              "      <td>0.424380</td>\n",
              "      <td>0.00000</td>\n",
              "      <td>0.0</td>\n",
              "      <td>0.265090</td>\n",
              "      <td>0.000000</td>\n",
              "      <td>0.000000</td>\n",
              "      <td>0.281615</td>\n",
              "      <td>0.000000</td>\n",
              "      <td>0.000000</td>\n",
              "      <td>0.000000</td>\n",
              "      <td>0.000000</td>\n",
              "      <td>0.000000</td>\n",
              "    </tr>\n",
              "    <tr>\n",
              "      <th>1171654</th>\n",
              "      <td>9</td>\n",
              "      <td>male</td>\n",
              "      <td>[composer, singer]</td>\n",
              "      <td>[Nicaragua]</td>\n",
              "      <td>[barca, incredible, year, history]</td>\n",
              "      <td>[art]</td>\n",
              "      <td>128</td>\n",
              "      <td>Medium</td>\n",
              "      <td>2017</td>\n",
              "      <td>0.000000</td>\n",
              "      <td>0.281755</td>\n",
              "      <td>0.000000</td>\n",
              "      <td>0.000000</td>\n",
              "      <td>0.00000</td>\n",
              "      <td>0.0</td>\n",
              "      <td>0.000000</td>\n",
              "      <td>0.000000</td>\n",
              "      <td>0.000000</td>\n",
              "      <td>0.198730</td>\n",
              "      <td>0.209657</td>\n",
              "      <td>0.155104</td>\n",
              "      <td>0.000000</td>\n",
              "      <td>0.000000</td>\n",
              "      <td>0.140767</td>\n",
              "    </tr>\n",
              "    <tr>\n",
              "      <th>3419602</th>\n",
              "      <td>2</td>\n",
              "      <td>female</td>\n",
              "      <td>[singer-songwriter, musician, entrepreneur, si...</td>\n",
              "      <td>[United Kingdom]</td>\n",
              "      <td>[life, control, ate]</td>\n",
              "      <td>[art, important_people, Other]</td>\n",
              "      <td>13</td>\n",
              "      <td>Very High</td>\n",
              "      <td>2019</td>\n",
              "      <td>0.000000</td>\n",
              "      <td>0.281754</td>\n",
              "      <td>0.000000</td>\n",
              "      <td>0.000000</td>\n",
              "      <td>0.00000</td>\n",
              "      <td>0.0</td>\n",
              "      <td>0.000000</td>\n",
              "      <td>0.000000</td>\n",
              "      <td>0.000000</td>\n",
              "      <td>0.198803</td>\n",
              "      <td>0.209568</td>\n",
              "      <td>0.155121</td>\n",
              "      <td>0.000000</td>\n",
              "      <td>0.000000</td>\n",
              "      <td>0.140767</td>\n",
              "    </tr>\n",
              "    <tr>\n",
              "      <th>2602427</th>\n",
              "      <td>6</td>\n",
              "      <td>male</td>\n",
              "      <td>[association football manager, association foo...</td>\n",
              "      <td>[Portugal]</td>\n",
              "      <td>[team, competition, team, eight]</td>\n",
              "      <td>[important_people, sports]</td>\n",
              "      <td>38</td>\n",
              "      <td>Very High</td>\n",
              "      <td>2018</td>\n",
              "      <td>0.000000</td>\n",
              "      <td>0.349243</td>\n",
              "      <td>0.000000</td>\n",
              "      <td>0.000000</td>\n",
              "      <td>0.00000</td>\n",
              "      <td>0.0</td>\n",
              "      <td>0.000000</td>\n",
              "      <td>0.000000</td>\n",
              "      <td>0.632575</td>\n",
              "      <td>0.000000</td>\n",
              "      <td>0.000000</td>\n",
              "      <td>0.000000</td>\n",
              "      <td>0.000000</td>\n",
              "      <td>0.000000</td>\n",
              "      <td>0.000000</td>\n",
              "    </tr>\n",
              "    <tr>\n",
              "      <th>3505177</th>\n",
              "      <td>2</td>\n",
              "      <td>male</td>\n",
              "      <td>[actor, film director, comedian, television ac...</td>\n",
              "      <td>[Philippines]</td>\n",
              "      <td>[heart, father, individual, individual, firear...</td>\n",
              "      <td>[art]</td>\n",
              "      <td>107</td>\n",
              "      <td>High</td>\n",
              "      <td>2019</td>\n",
              "      <td>0.204530</td>\n",
              "      <td>0.108365</td>\n",
              "      <td>0.000000</td>\n",
              "      <td>0.000000</td>\n",
              "      <td>0.00000</td>\n",
              "      <td>0.0</td>\n",
              "      <td>0.118146</td>\n",
              "      <td>0.000000</td>\n",
              "      <td>0.000000</td>\n",
              "      <td>0.000000</td>\n",
              "      <td>0.000000</td>\n",
              "      <td>0.000000</td>\n",
              "      <td>0.130484</td>\n",
              "      <td>0.325029</td>\n",
              "      <td>0.104579</td>\n",
              "    </tr>\n",
              "  </tbody>\n",
              "</table>\n",
              "<p>148091 rows × 24 columns</p>\n",
              "</div>"
            ],
            "text/plain": [
              "         numOccurrences  gender  ...  topic_13  topic_14\n",
              "3033287               2    male  ...  0.000000  0.000000\n",
              "1139011              13    male  ...  0.000000  0.000000\n",
              "2987429               2    male  ...  0.000000  0.000000\n",
              "3509394               2    male  ...  0.493875  0.000000\n",
              "2956523               2    male  ...  0.000000  0.000000\n",
              "...                 ...     ...  ...       ...       ...\n",
              "1552713              31    male  ...  0.000000  0.000000\n",
              "1171654               9    male  ...  0.000000  0.140767\n",
              "3419602               2  female  ...  0.000000  0.140767\n",
              "2602427               6    male  ...  0.000000  0.000000\n",
              "3505177               2    male  ...  0.325029  0.104579\n",
              "\n",
              "[148091 rows x 24 columns]"
            ]
          },
          "metadata": {},
          "execution_count": 70
        }
      ]
    },
    {
      "cell_type": "markdown",
      "source": [
        "### Graphs for topics\n"
      ],
      "metadata": {
        "id": "s6OQNOh5wwxp"
      }
    },
    {
      "cell_type": "code",
      "source": [
        "#TO DO: Make this plot interactive so that we can slide and see a cloud of words per topic\n",
        "for t in range(10):\n",
        "    plt.figure()\n",
        "    plt.imshow(WordCloud().fit_words(dict(lda_model_2019.show_topic(t, 18))))\n",
        "    plt.axis(\"off\")\n",
        "    plt.title(\"Topic #\" + str(t))\n",
        "    plt.show()"
      ],
      "metadata": {
        "id": "w8_KYoCLw5K8"
      },
      "execution_count": null,
      "outputs": []
    },
    {
      "cell_type": "code",
      "source": [
        "vis = pyLDAvis.gensim_models.prepare(lda_model_2019, lda_corpus_2019, lda_model_2019.id2word)\n",
        "pyLDAvis.display(vis)"
      ],
      "metadata": {
        "id": "pH7Jm_haxLDO"
      },
      "execution_count": null,
      "outputs": []
    },
    {
      "cell_type": "markdown",
      "source": [
        "## T-test"
      ],
      "metadata": {
        "id": "hdQTtGFas2vR"
      }
    },
    {
      "cell_type": "code",
      "source": [
        "from scipy.stats import ttest_ind\n",
        "#first need to undersample the male quotations to have to subsets of fairly equal size \n",
        "Num_occ_male = data_new[data_new['gender'] == 1]['numOccurrences']\n",
        "Num_occ_female = data_new[data_new['gender'] == 0]['numOccurrences']\n",
        "#adjust this threshold\n",
        "Num_occ_male = Num_occ_male.sample(frac = 0.2)\n",
        "\n",
        "ttest_ind(cat1['values'], cat2['values'])\n"
      ],
      "metadata": {
        "id": "1p-ChhApxvzm"
      },
      "execution_count": null,
      "outputs": []
    },
    {
      "cell_type": "code",
      "source": [
        "# TODO: put t-test here"
      ],
      "metadata": {
        "id": "3iWFU-nws905"
      },
      "execution_count": null,
      "outputs": []
    },
    {
      "cell_type": "markdown",
      "metadata": {
        "id": "yBnh0gSYZt_z"
      },
      "source": [
        "## Correlation analysis"
      ]
    },
    {
      "cell_type": "code",
      "source": [
        "# TODO(cate): put correlation analysis here"
      ],
      "metadata": {
        "id": "M90baLARrjnb"
      },
      "execution_count": null,
      "outputs": []
    },
    {
      "cell_type": "code",
      "metadata": {
        "id": "fXeGRDAFZrO0"
      },
      "source": [
        "# https://stackoverflow.com/questions/48035381/correlation-among-multiple-categorical-variables-pandas\n",
        "\n",
        "from scipy.stats import chi2_contingency\n",
        "import numpy as np\n",
        "\n",
        "def find_correlation(df):\n",
        "  \"\"\"\n",
        "  Find correlation using a chi squared test\n",
        "  \"\"\"\n",
        "  df_ = df.copy()\n",
        "  factors_paired = [(i,j) for i in df_.columns.values for j in df_.columns.values] \n",
        "\n",
        "  chi2, p_values =[], []\n",
        "\n",
        "  for f in factors_paired:\n",
        "      if f[0] != f[1]:\n",
        "          chitest = chi2_contingency(pd.crosstab(df_[f[0]], df_[f[1]]))   \n",
        "          chi2.append(chitest[0])\n",
        "          p_values.append(chitest[1])\n",
        "      else:\n",
        "          # for same factor pair\n",
        "          chi2.append(0)\n",
        "          p_values.append(0)\n",
        "\n",
        "  chi2 = np.array(chi2).reshape((df.shape[1],df.shape[1])) \n",
        "  chi2 = pd.DataFrame(chi2, index=df_.columns.values, columns=df_.columns.values) \n",
        "  p_values = np.array(p_values).reshape((df.shape[1],df.shape[1]))\n",
        "  p_values = pd.DataFrame(p_values, index=df_.columns.values, columns=df_.columns.values) \n",
        "\n",
        "  return chi2, p_values"
      ],
      "execution_count": null,
      "outputs": []
    },
    {
      "cell_type": "markdown",
      "source": [
        "## Linear regression model"
      ],
      "metadata": {
        "id": "Fb3dOcxttA87"
      }
    },
    {
      "cell_type": "markdown",
      "metadata": {
        "id": "JRMvmkDsmi5c"
      },
      "source": [
        "## Relative keywords change"
      ]
    },
    {
      "cell_type": "markdown",
      "metadata": {
        "id": "Y3_qF6k_VZlh"
      },
      "source": [
        "As we can see from the graph with the frequency of the most common keywords above, those words are not very meaningful and do not give us any insights, and many of them are filler or syntax words.\n",
        "\n",
        "Therefore, we shift our strategy of looking at the keywords, and instead of viewing them through the absolute values of occurences, we want to inspect new trends occuring in the dataset.\n",
        "\n",
        "For that, we look at the relative change of the keywords over the years. We are interested in two kinds of trends\n",
        "\n",
        "1. New words words that were not present the year before\n",
        "2. Words with a relatively big spike of occurences\n",
        "\n",
        "Doing this naively generates noise - a word with a seemingly huge relative change (10 times more popular) could be just used 10 times as opposed to once the last year. Do deal with this noise, we set a treshold of minimal number of occurences to consider a word."
      ]
    },
    {
      "cell_type": "code",
      "metadata": {
        "id": "J6Plj-3VVYGE"
      },
      "source": [
        "RELEVANCE_THRESHOLD = 100\n",
        "\n",
        "def get_interval(y1, y2):\n",
        "  '''Creates interval between two years.'''\n",
        "\n",
        "  return f\"{y1}-{y2}\"\n",
        "\n",
        "def unfold_interval(i):\n",
        "  return list(map(int, i.split('-')))\n",
        "\n",
        "\n",
        "def relative_change_in_time(years_agg, years):\n",
        "  '''Calculates the relative change of keywords over time.'''\n",
        "\n",
        "  first_year = years[0]\n",
        "  relative_change = defaultdict(lambda : {}) \n",
        "  \n",
        "  # stocks dictionaries for each year\n",
        "  dictionaries = {year: years_agg[year]['words_frequency'] for year in years}\n",
        "\n",
        "  # if the word was present in the previous dictionary already and its count was bigger \n",
        "  # than a threshold, then we add the relative count between the two years\n",
        "  for year, frequencies in dictionaries.items():\n",
        "      if year == first_year:\n",
        "        continue\n",
        "      for word, count in frequencies.items():\n",
        "          previous_count = dictionaries.get(year-1, {}).get(word, 0)\n",
        "          key = get_interval(year-1, year)\n",
        "          if count < RELEVANCE_THRESHOLD and previous_count != 0:\n",
        "            relative_change[key][word] = -1\n",
        "          elif previous_count != 0:\n",
        "            relative_change[key][word] = count / previous_count\n",
        "          else:\n",
        "            relative_change[key][word] = None\n",
        "  return relative_change\n",
        "\n",
        "\n",
        "def highest_spikes(relative_change, interval, count=1):\n",
        "  '''Finds the biggest relative changes.'''\n",
        "\n",
        "  changes = filter(lambda x: x[1] is not None, relative_change[interval].items())\n",
        "  return sorted(changes, key=lambda x: x[1], reverse=True)[:count]\n",
        "\n",
        "\n",
        "def new_trending_words(years_agg, relative_change, interval, count):\n",
        "  '''Finds the new appearing words.'''\n",
        "\n",
        "  new_year = unfold_interval(interval)[1]\n",
        "  get_freq = lambda word: years_agg[new_year]['words_frequency'][word]\n",
        "\n",
        "  return Counter({\n",
        "      word: get_freq(word)\n",
        "      for word, change in relative_change[interval].items()\n",
        "      if change is None\n",
        "  }).most_common(count)"
      ],
      "execution_count": null,
      "outputs": []
    }
  ]
}